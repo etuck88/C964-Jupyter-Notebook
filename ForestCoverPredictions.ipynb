{
 "cells": [
  {
   "cell_type": "code",
   "execution_count": 1,
   "id": "fc8cd33a",
   "metadata": {
    "scrolled": true
   },
   "outputs": [
    {
     "name": "stdout",
     "output_type": "stream",
     "text": [
      "Requirement already satisfied: pandas in c:\\users\\ethan\\appdata\\local\\programs\\python\\python311\\lib\\site-packages (2.0.0)\n",
      "Requirement already satisfied: python-dateutil>=2.8.2 in c:\\users\\ethan\\appdata\\local\\programs\\python\\python311\\lib\\site-packages (from pandas) (2.8.2)\n",
      "Requirement already satisfied: pytz>=2020.1 in c:\\users\\ethan\\appdata\\local\\programs\\python\\python311\\lib\\site-packages (from pandas) (2023.3)\n",
      "Requirement already satisfied: tzdata>=2022.1 in c:\\users\\ethan\\appdata\\local\\programs\\python\\python311\\lib\\site-packages (from pandas) (2023.3)\n",
      "Requirement already satisfied: numpy>=1.21.0 in c:\\users\\ethan\\appdata\\local\\programs\\python\\python311\\lib\\site-packages (from pandas) (1.24.2)\n",
      "Requirement already satisfied: six>=1.5 in c:\\users\\ethan\\appdata\\local\\programs\\python\\python311\\lib\\site-packages (from python-dateutil>=2.8.2->pandas) (1.16.0)\n"
     ]
    },
    {
     "name": "stderr",
     "output_type": "stream",
     "text": [
      "\n",
      "[notice] A new release of pip available: 22.3.1 -> 23.1\n",
      "[notice] To update, run: python.exe -m pip install --upgrade pip\n"
     ]
    },
    {
     "name": "stdout",
     "output_type": "stream",
     "text": [
      "Requirement already satisfied: scikit-learn in c:\\users\\ethan\\appdata\\local\\programs\\python\\python311\\lib\\site-packages (1.2.2)"
     ]
    },
    {
     "name": "stderr",
     "output_type": "stream",
     "text": [
      "\n",
      "[notice] A new release of pip available: 22.3.1 -> 23.1\n",
      "[notice] To update, run: python.exe -m pip install --upgrade pip\n"
     ]
    },
    {
     "name": "stdout",
     "output_type": "stream",
     "text": [
      "\n",
      "Requirement already satisfied: numpy>=1.17.3 in c:\\users\\ethan\\appdata\\local\\programs\\python\\python311\\lib\\site-packages (from scikit-learn) (1.24.2)\n",
      "Requirement already satisfied: scipy>=1.3.2 in c:\\users\\ethan\\appdata\\local\\programs\\python\\python311\\lib\\site-packages (from scikit-learn) (1.10.1)\n",
      "Requirement already satisfied: joblib>=1.1.1 in c:\\users\\ethan\\appdata\\local\\programs\\python\\python311\\lib\\site-packages (from scikit-learn) (1.2.0)\n",
      "Requirement already satisfied: threadpoolctl>=2.0.0 in c:\\users\\ethan\\appdata\\local\\programs\\python\\python311\\lib\\site-packages (from scikit-learn) (3.1.0)\n",
      "Requirement already satisfied: matplotlib in c:\\users\\ethan\\appdata\\local\\programs\\python\\python311\\lib\\site-packages (3.7.1)\n",
      "Requirement already satisfied: contourpy>=1.0.1 in c:\\users\\ethan\\appdata\\local\\programs\\python\\python311\\lib\\site-packages (from matplotlib) (1.0.7)\n",
      "Requirement already satisfied: cycler>=0.10 in c:\\users\\ethan\\appdata\\local\\programs\\python\\python311\\lib\\site-packages (from matplotlib) (0.11.0)\n",
      "Requirement already satisfied: fonttools>=4.22.0 in c:\\users\\ethan\\appdata\\local\\programs\\python\\python311\\lib\\site-packages (from matplotlib) (4.39.3)\n",
      "Requirement already satisfied: kiwisolver>=1.0.1 in c:\\users\\ethan\\appdata\\local\\programs\\python\\python311\\lib\\site-packages (from matplotlib) (1.4.4)\n",
      "Requirement already satisfied: numpy>=1.20 in c:\\users\\ethan\\appdata\\local\\programs\\python\\python311\\lib\\site-packages (from matplotlib) (1.24.2)\n",
      "Requirement already satisfied: packaging>=20.0 in c:\\users\\ethan\\appdata\\local\\programs\\python\\python311\\lib\\site-packages (from matplotlib) (23.1)\n",
      "Requirement already satisfied: pillow>=6.2.0 in c:\\users\\ethan\\appdata\\local\\programs\\python\\python311\\lib\\site-packages (from matplotlib) (9.5.0)\n",
      "Requirement already satisfied: pyparsing>=2.3.1 in c:\\users\\ethan\\appdata\\local\\programs\\python\\python311\\lib\\site-packages (from matplotlib) (3.0.9)\n",
      "Requirement already satisfied: python-dateutil>=2.7 in c:\\users\\ethan\\appdata\\local\\programs\\python\\python311\\lib\\site-packages (from matplotlib) (2.8.2)\n",
      "Requirement already satisfied: six>=1.5 in c:\\users\\ethan\\appdata\\local\\programs\\python\\python311\\lib\\site-packages (from python-dateutil>=2.7->matplotlib) (1.16.0)\n"
     ]
    },
    {
     "name": "stderr",
     "output_type": "stream",
     "text": [
      "\n",
      "[notice] A new release of pip available: 22.3.1 -> 23.1\n",
      "[notice] To update, run: python.exe -m pip install --upgrade pip\n"
     ]
    },
    {
     "name": "stdout",
     "output_type": "stream",
     "text": [
      "Requirement already satisfied: IPython in c:\\users\\ethan\\appdata\\local\\programs\\python\\python311\\lib\\site-packages (8.12.0)\n",
      "Requirement already satisfied: backcall in c:\\users\\ethan\\appdata\\local\\programs\\python\\python311\\lib\\site-packages (from IPython) (0.2.0)\n",
      "Requirement already satisfied: decorator in c:\\users\\ethan\\appdata\\local\\programs\\python\\python311\\lib\\site-packages (from IPython) (5.1.1)\n",
      "Requirement already satisfied: jedi>=0.16 in c:\\users\\ethan\\appdata\\local\\programs\\python\\python311\\lib\\site-packages (from IPython) (0.18.2)\n",
      "Requirement already satisfied: matplotlib-inline in c:\\users\\ethan\\appdata\\local\\programs\\python\\python311\\lib\\site-packages (from IPython) (0.1.6)\n",
      "Requirement already satisfied: pickleshare in c:\\users\\ethan\\appdata\\local\\programs\\python\\python311\\lib\\site-packages (from IPython) (0.7.5)\n",
      "Requirement already satisfied: prompt-toolkit!=3.0.37,<3.1.0,>=3.0.30 in c:\\users\\ethan\\appdata\\local\\programs\\python\\python311\\lib\\site-packages (from IPython) (3.0.38)\n",
      "Requirement already satisfied: pygments>=2.4.0 in c:\\users\\ethan\\appdata\\local\\programs\\python\\python311\\lib\\site-packages (from IPython) (2.15.0)\n",
      "Requirement already satisfied: stack-data in c:\\users\\ethan\\appdata\\local\\programs\\python\\python311\\lib\\site-packages (from IPython) (0.6.2)\n",
      "Requirement already satisfied: traitlets>=5 in c:\\users\\ethan\\appdata\\local\\programs\\python\\python311\\lib\\site-packages (from IPython) (5.9.0)\n",
      "Requirement already satisfied: colorama in c:\\users\\ethan\\appdata\\local\\programs\\python\\python311\\lib\\site-packages (from IPython) (0.4.6)\n",
      "Requirement already satisfied: parso<0.9.0,>=0.8.0 in c:\\users\\ethan\\appdata\\local\\programs\\python\\python311\\lib\\site-packages (from jedi>=0.16->IPython) (0.8.3)\n",
      "Requirement already satisfied: wcwidth in c:\\users\\ethan\\appdata\\local\\programs\\python\\python311\\lib\\site-packages (from prompt-toolkit!=3.0.37,<3.1.0,>=3.0.30->IPython) (0.2.6)\n",
      "Requirement already satisfied: executing>=1.2.0 in c:\\users\\ethan\\appdata\\local\\programs\\python\\python311\\lib\\site-packages (from stack-data->IPython) (1.2.0)\n",
      "Requirement already satisfied: asttokens>=2.1.0 in c:\\users\\ethan\\appdata\\local\\programs\\python\\python311\\lib\\site-packages (from stack-data->IPython) (2.2.1)\n",
      "Requirement already satisfied: pure-eval in c:\\users\\ethan\\appdata\\local\\programs\\python\\python311\\lib\\site-packages (from stack-data->IPython) (0.2.2)\n",
      "Requirement already satisfied: six in c:\\users\\ethan\\appdata\\local\\programs\\python\\python311\\lib\\site-packages (from asttokens>=2.1.0->stack-data->IPython) (1.16.0)\n"
     ]
    },
    {
     "name": "stderr",
     "output_type": "stream",
     "text": [
      "\n",
      "[notice] A new release of pip available: 22.3.1 -> 23.1\n",
      "[notice] To update, run: python.exe -m pip install --upgrade pip\n"
     ]
    },
    {
     "name": "stdout",
     "output_type": "stream",
     "text": [
      "Requirement already satisfied: ipywidgets in c:\\users\\ethan\\appdata\\local\\programs\\python\\python311\\lib\\site-packages (8.0.6)\n",
      "Requirement already satisfied: ipykernel>=4.5.1 in c:\\users\\ethan\\appdata\\local\\programs\\python\\python311\\lib\\site-packages (from ipywidgets) (6.22.0)\n",
      "Requirement already satisfied: ipython>=6.1.0 in c:\\users\\ethan\\appdata\\local\\programs\\python\\python311\\lib\\site-packages (from ipywidgets) (8.12.0)\n",
      "Requirement already satisfied: traitlets>=4.3.1 in c:\\users\\ethan\\appdata\\local\\programs\\python\\python311\\lib\\site-packages (from ipywidgets) (5.9.0)\n",
      "Requirement already satisfied: widgetsnbextension~=4.0.7 in c:\\users\\ethan\\appdata\\local\\programs\\python\\python311\\lib\\site-packages (from ipywidgets) (4.0.7)\n",
      "Requirement already satisfied: jupyterlab-widgets~=3.0.7 in c:\\users\\ethan\\appdata\\local\\programs\\python\\python311\\lib\\site-packages (from ipywidgets) (3.0.7)\n",
      "Requirement already satisfied: comm>=0.1.1 in c:\\users\\ethan\\appdata\\local\\programs\\python\\python311\\lib\\site-packages (from ipykernel>=4.5.1->ipywidgets) (0.1.3)\n",
      "Requirement already satisfied: debugpy>=1.6.5 in c:\\users\\ethan\\appdata\\local\\programs\\python\\python311\\lib\\site-packages (from ipykernel>=4.5.1->ipywidgets) (1.6.7)\n",
      "Requirement already satisfied: jupyter-client>=6.1.12 in c:\\users\\ethan\\appdata\\local\\programs\\python\\python311\\lib\\site-packages (from ipykernel>=4.5.1->ipywidgets) (8.2.0)\n",
      "Requirement already satisfied: jupyter-core!=5.0.*,>=4.12 in c:\\users\\ethan\\appdata\\local\\programs\\python\\python311\\lib\\site-packages (from ipykernel>=4.5.1->ipywidgets) (5.3.0)\n",
      "Requirement already satisfied: matplotlib-inline>=0.1 in c:\\users\\ethan\\appdata\\local\\programs\\python\\python311\\lib\\site-packages (from ipykernel>=4.5.1->ipywidgets) (0.1.6)\n",
      "Requirement already satisfied: nest-asyncio in c:\\users\\ethan\\appdata\\local\\programs\\python\\python311\\lib\\site-packages (from ipykernel>=4.5.1->ipywidgets) (1.5.6)\n",
      "Requirement already satisfied: packaging in c:\\users\\ethan\\appdata\\local\\programs\\python\\python311\\lib\\site-packages (from ipykernel>=4.5.1->ipywidgets) (23.1)\n",
      "Requirement already satisfied: psutil in c:\\users\\ethan\\appdata\\local\\programs\\python\\python311\\lib\\site-packages (from ipykernel>=4.5.1->ipywidgets) (5.9.4)\n",
      "Requirement already satisfied: pyzmq>=20 in c:\\users\\ethan\\appdata\\local\\programs\\python\\python311\\lib\\site-packages (from ipykernel>=4.5.1->ipywidgets) (25.0.2)\n",
      "Requirement already satisfied: tornado>=6.1 in c:\\users\\ethan\\appdata\\local\\programs\\python\\python311\\lib\\site-packages (from ipykernel>=4.5.1->ipywidgets) (6.2)\n",
      "Requirement already satisfied: backcall in c:\\users\\ethan\\appdata\\local\\programs\\python\\python311\\lib\\site-packages (from ipython>=6.1.0->ipywidgets) (0.2.0)\n",
      "Requirement already satisfied: decorator in c:\\users\\ethan\\appdata\\local\\programs\\python\\python311\\lib\\site-packages (from ipython>=6.1.0->ipywidgets) (5.1.1)\n",
      "Requirement already satisfied: jedi>=0.16 in c:\\users\\ethan\\appdata\\local\\programs\\python\\python311\\lib\\site-packages (from ipython>=6.1.0->ipywidgets) (0.18.2)\n",
      "Requirement already satisfied: pickleshare in c:\\users\\ethan\\appdata\\local\\programs\\python\\python311\\lib\\site-packages (from ipython>=6.1.0->ipywidgets) (0.7.5)\n",
      "Requirement already satisfied: prompt-toolkit!=3.0.37,<3.1.0,>=3.0.30 in c:\\users\\ethan\\appdata\\local\\programs\\python\\python311\\lib\\site-packages (from ipython>=6.1.0->ipywidgets) (3.0.38)\n",
      "Requirement already satisfied: pygments>=2.4.0 in c:\\users\\ethan\\appdata\\local\\programs\\python\\python311\\lib\\site-packages (from ipython>=6.1.0->ipywidgets) (2.15.0)\n",
      "Requirement already satisfied: stack-data in c:\\users\\ethan\\appdata\\local\\programs\\python\\python311\\lib\\site-packages (from ipython>=6.1.0->ipywidgets) (0.6.2)\n",
      "Requirement already satisfied: colorama in c:\\users\\ethan\\appdata\\local\\programs\\python\\python311\\lib\\site-packages (from ipython>=6.1.0->ipywidgets) (0.4.6)\n",
      "Requirement already satisfied: parso<0.9.0,>=0.8.0 in c:\\users\\ethan\\appdata\\local\\programs\\python\\python311\\lib\\site-packages (from jedi>=0.16->ipython>=6.1.0->ipywidgets) (0.8.3)\n",
      "Requirement already satisfied: python-dateutil>=2.8.2 in c:\\users\\ethan\\appdata\\local\\programs\\python\\python311\\lib\\site-packages (from jupyter-client>=6.1.12->ipykernel>=4.5.1->ipywidgets) (2.8.2)\n",
      "Requirement already satisfied: platformdirs>=2.5 in c:\\users\\ethan\\appdata\\local\\programs\\python\\python311\\lib\\site-packages (from jupyter-core!=5.0.*,>=4.12->ipykernel>=4.5.1->ipywidgets) (3.2.0)\n",
      "Requirement already satisfied: pywin32>=300 in c:\\users\\ethan\\appdata\\local\\programs\\python\\python311\\lib\\site-packages (from jupyter-core!=5.0.*,>=4.12->ipykernel>=4.5.1->ipywidgets) (306)\n",
      "Requirement already satisfied: wcwidth in c:\\users\\ethan\\appdata\\local\\programs\\python\\python311\\lib\\site-packages (from prompt-toolkit!=3.0.37,<3.1.0,>=3.0.30->ipython>=6.1.0->ipywidgets) (0.2.6)\n",
      "Requirement already satisfied: executing>=1.2.0 in c:\\users\\ethan\\appdata\\local\\programs\\python\\python311\\lib\\site-packages (from stack-data->ipython>=6.1.0->ipywidgets) (1.2.0)\n",
      "Requirement already satisfied: asttokens>=2.1.0 in c:\\users\\ethan\\appdata\\local\\programs\\python\\python311\\lib\\site-packages (from stack-data->ipython>=6.1.0->ipywidgets) (2.2.1)\n",
      "Requirement already satisfied: pure-eval in c:\\users\\ethan\\appdata\\local\\programs\\python\\python311\\lib\\site-packages (from stack-data->ipython>=6.1.0->ipywidgets) (0.2.2)\n",
      "Requirement already satisfied: six in c:\\users\\ethan\\appdata\\local\\programs\\python\\python311\\lib\\site-packages (from asttokens>=2.1.0->stack-data->ipython>=6.1.0->ipywidgets) (1.16.0)\n"
     ]
    },
    {
     "name": "stderr",
     "output_type": "stream",
     "text": [
      "\n",
      "[notice] A new release of pip available: 22.3.1 -> 23.1\n",
      "[notice] To update, run: python.exe -m pip install --upgrade pip\n",
      "Enabling notebook extension jupyter-js-widgets/extension...\n",
      "      - Validating: ok\n"
     ]
    }
   ],
   "source": [
    "!pip install pandas\n",
    "!pip install scikit-learn\n",
    "!pip install matplotlib\n",
    "!pip install ipywidgets\n",
    "!jupyter nbextension enable --py widgetsnbextension"
   ]
  },
  {
   "cell_type": "code",
   "execution_count": 2,
   "id": "1d88d50b",
   "metadata": {},
   "outputs": [],
   "source": [
    "import pandas as pd\n",
    "from matplotlib import pyplot\n",
    "from sklearn import metrics, model_selection, svm\n",
    "from ipywidgets import widgets"
   ]
  },
  {
   "cell_type": "code",
   "execution_count": 3,
   "id": "32e31a42",
   "metadata": {},
   "outputs": [],
   "source": [
    "path = \"./Data_Files/train.csv\"\n",
    "headers = ['Elevation', 'Aspect', 'Slope', 'Horizontal Distance To Hydrology', 'Vertical Distance To Hydrology', 'Horizontal Distance To Roadways', 'Hillshade 9am', 'Hillshade Noon', 'Hillshade 3pm', 'Horizontal Distance To Fire Points', 'Wilderness Area1', 'Wilderness Area2', 'Wilderness Area3', 'Wilderness Area4', 'Soil_Type1', 'Soil_Type2', 'Soil_Type3', 'Soil_Type4', 'Soil_Type5', 'Soil_Type6', 'Soil_Type7', 'Soil_Type8', 'Soil_Type9', 'Soil_Type10', 'Soil_Type11', 'Soil_Type12', 'Soil_Type13', 'Soil_Type14', 'Soil_Type15', 'Soil_Type16', 'Soil_Type17', 'Soil_Type18', 'Soil_Type19', 'Soil_Type20', 'Soil_Type21', 'Soil_Type22', 'Soil_Type23', 'Soil_Type24', 'Soil_Type25', 'Soil_Type26', 'Soil_Type27', 'Soil_Type28', 'Soil_Type29', 'Soil_Type30', 'Soil_Type31', 'Soil_Type32', 'Soil_Type33', 'Soil_Type34', 'Soil_Type35', 'Soil_Type36', 'Soil_Type37', 'Soil_Type38', 'Soil_Type39', 'Soil_Type40', 'Cover_Type']\n",
    "df = pd.read_csv(path, names=headers)"
   ]
  },
  {
   "cell_type": "code",
   "execution_count": 4,
   "id": "a36e72fc",
   "metadata": {
    "scrolled": true
   },
   "outputs": [
    {
     "data": {
      "text/html": [
       "<style>#sk-container-id-1 {color: black;background-color: white;}#sk-container-id-1 pre{padding: 0;}#sk-container-id-1 div.sk-toggleable {background-color: white;}#sk-container-id-1 label.sk-toggleable__label {cursor: pointer;display: block;width: 100%;margin-bottom: 0;padding: 0.3em;box-sizing: border-box;text-align: center;}#sk-container-id-1 label.sk-toggleable__label-arrow:before {content: \"▸\";float: left;margin-right: 0.25em;color: #696969;}#sk-container-id-1 label.sk-toggleable__label-arrow:hover:before {color: black;}#sk-container-id-1 div.sk-estimator:hover label.sk-toggleable__label-arrow:before {color: black;}#sk-container-id-1 div.sk-toggleable__content {max-height: 0;max-width: 0;overflow: hidden;text-align: left;background-color: #f0f8ff;}#sk-container-id-1 div.sk-toggleable__content pre {margin: 0.2em;color: black;border-radius: 0.25em;background-color: #f0f8ff;}#sk-container-id-1 input.sk-toggleable__control:checked~div.sk-toggleable__content {max-height: 200px;max-width: 100%;overflow: auto;}#sk-container-id-1 input.sk-toggleable__control:checked~label.sk-toggleable__label-arrow:before {content: \"▾\";}#sk-container-id-1 div.sk-estimator input.sk-toggleable__control:checked~label.sk-toggleable__label {background-color: #d4ebff;}#sk-container-id-1 div.sk-label input.sk-toggleable__control:checked~label.sk-toggleable__label {background-color: #d4ebff;}#sk-container-id-1 input.sk-hidden--visually {border: 0;clip: rect(1px 1px 1px 1px);clip: rect(1px, 1px, 1px, 1px);height: 1px;margin: -1px;overflow: hidden;padding: 0;position: absolute;width: 1px;}#sk-container-id-1 div.sk-estimator {font-family: monospace;background-color: #f0f8ff;border: 1px dotted black;border-radius: 0.25em;box-sizing: border-box;margin-bottom: 0.5em;}#sk-container-id-1 div.sk-estimator:hover {background-color: #d4ebff;}#sk-container-id-1 div.sk-parallel-item::after {content: \"\";width: 100%;border-bottom: 1px solid gray;flex-grow: 1;}#sk-container-id-1 div.sk-label:hover label.sk-toggleable__label {background-color: #d4ebff;}#sk-container-id-1 div.sk-serial::before {content: \"\";position: absolute;border-left: 1px solid gray;box-sizing: border-box;top: 0;bottom: 0;left: 50%;z-index: 0;}#sk-container-id-1 div.sk-serial {display: flex;flex-direction: column;align-items: center;background-color: white;padding-right: 0.2em;padding-left: 0.2em;position: relative;}#sk-container-id-1 div.sk-item {position: relative;z-index: 1;}#sk-container-id-1 div.sk-parallel {display: flex;align-items: stretch;justify-content: center;background-color: white;position: relative;}#sk-container-id-1 div.sk-item::before, #sk-container-id-1 div.sk-parallel-item::before {content: \"\";position: absolute;border-left: 1px solid gray;box-sizing: border-box;top: 0;bottom: 0;left: 50%;z-index: -1;}#sk-container-id-1 div.sk-parallel-item {display: flex;flex-direction: column;z-index: 1;position: relative;background-color: white;}#sk-container-id-1 div.sk-parallel-item:first-child::after {align-self: flex-end;width: 50%;}#sk-container-id-1 div.sk-parallel-item:last-child::after {align-self: flex-start;width: 50%;}#sk-container-id-1 div.sk-parallel-item:only-child::after {width: 0;}#sk-container-id-1 div.sk-dashed-wrapped {border: 1px dashed gray;margin: 0 0.4em 0.5em 0.4em;box-sizing: border-box;padding-bottom: 0.4em;background-color: white;}#sk-container-id-1 div.sk-label label {font-family: monospace;font-weight: bold;display: inline-block;line-height: 1.2em;}#sk-container-id-1 div.sk-label-container {text-align: center;}#sk-container-id-1 div.sk-container {/* jupyter's `normalize.less` sets `[hidden] { display: none; }` but bootstrap.min.css set `[hidden] { display: none !important; }` so we also need the `!important` here to be able to override the default hidden behavior on the sphinx rendered scikit-learn.org. See: https://github.com/scikit-learn/scikit-learn/issues/21755 */display: inline-block !important;position: relative;}#sk-container-id-1 div.sk-text-repr-fallback {display: none;}</style><div id=\"sk-container-id-1\" class=\"sk-top-container\"><div class=\"sk-text-repr-fallback\"><pre>SVC(max_iter=4000)</pre><b>In a Jupyter environment, please rerun this cell to show the HTML representation or trust the notebook. <br />On GitHub, the HTML representation is unable to render, please try loading this page with nbviewer.org.</b></div><div class=\"sk-container\" hidden><div class=\"sk-item\"><div class=\"sk-estimator sk-toggleable\"><input class=\"sk-toggleable__control sk-hidden--visually\" id=\"sk-estimator-id-1\" type=\"checkbox\" checked><label for=\"sk-estimator-id-1\" class=\"sk-toggleable__label sk-toggleable__label-arrow\">SVC</label><div class=\"sk-toggleable__content\"><pre>SVC(max_iter=4000)</pre></div></div></div></div></div>"
      ],
      "text/plain": [
       "SVC(max_iter=4000)"
      ]
     },
     "execution_count": 4,
     "metadata": {},
     "output_type": "execute_result"
    }
   ],
   "source": [
    "my_svm_model = svm.SVC(max_iter=4000)\n",
    "y = df.values[:, 54]\n",
    "x = df.values[:, 0:54]\n",
    "x_train, x_test, y_train, y_test = model_selection.train_test_split(x,y,test_size=0.3)\n",
    "\n",
    "my_svm_model.fit(x_train, y_train)"
   ]
  },
  {
   "cell_type": "code",
   "execution_count": 1,
   "id": "efc44f8d",
   "metadata": {
    "tags": [
     "hide-input"
    ]
   },
   "outputs": [
    {
     "ename": "NameError",
     "evalue": "name 'widgets' is not defined",
     "output_type": "error",
     "traceback": [
      "\u001b[1;31m---------------------------------------------------------------------------\u001b[0m",
      "\u001b[1;31mNameError\u001b[0m                                 Traceback (most recent call last)",
      "Cell \u001b[1;32mIn[1], line 1\u001b[0m\n\u001b[1;32m----> 1\u001b[0m elevation_widget \u001b[38;5;241m=\u001b[39m \u001b[43mwidgets\u001b[49m\u001b[38;5;241m.\u001b[39mFloatText(description\u001b[38;5;241m=\u001b[39m\u001b[38;5;124m'\u001b[39m\u001b[38;5;124mElev (m)\u001b[39m\u001b[38;5;124m'\u001b[39m, value\u001b[38;5;241m=\u001b[39m\u001b[38;5;124m'\u001b[39m\u001b[38;5;124m0\u001b[39m\u001b[38;5;124m'\u001b[39m)\n\u001b[0;32m      2\u001b[0m aspect_widget \u001b[38;5;241m=\u001b[39m widgets\u001b[38;5;241m.\u001b[39mFloatText(description\u001b[38;5;241m=\u001b[39m\u001b[38;5;124m'\u001b[39m\u001b[38;5;124mAspect\u001b[39m\u001b[38;5;124m'\u001b[39m, value\u001b[38;5;241m=\u001b[39m\u001b[38;5;124m'\u001b[39m\u001b[38;5;124m0\u001b[39m\u001b[38;5;124m'\u001b[39m)\n\u001b[0;32m      3\u001b[0m slope_widget \u001b[38;5;241m=\u001b[39m widgets\u001b[38;5;241m.\u001b[39mFloatText(description\u001b[38;5;241m=\u001b[39m\u001b[38;5;124m'\u001b[39m\u001b[38;5;124mSlope\u001b[39m\u001b[38;5;124m'\u001b[39m, value\u001b[38;5;241m=\u001b[39m\u001b[38;5;124m'\u001b[39m\u001b[38;5;124m0\u001b[39m\u001b[38;5;124m'\u001b[39m)\n",
      "\u001b[1;31mNameError\u001b[0m: name 'widgets' is not defined"
     ]
    }
   ],
   "source": [
    "elevation_widget = widgets.FloatText(description='Elev (m)', value='0')\n",
    "aspect_widget = widgets.FloatText(description='Aspect', value='0')\n",
    "slope_widget = widgets.FloatText(description='Slope', value='0')\n",
    "horizontal_distance_to_hydrology_widget = widgets.FloatText(description='Hrz->Hydro', value='0')\n",
    "vertical_distance_to_hydrology_widget = widgets.FloatText(description='Vrt->Hydro', value='0')\n",
    "horizontal_distance_to_roadways_widget = widgets.FloatText(description='Hrz->Roadways', value='0')\n",
    "hillshade_9am_widget = widgets.FloatText(description='HillSh9a', value='0')\n",
    "hillshade_noon_widget = widgets.FloatText(description='HillNoon', value='0')\n",
    "hillshade_3pm_widget = widgets.FloatText(description='HillSh3p', value='0')\n",
    "horizontal_distance_to_fire_points_widget = widgets.FloatText(description='Hrz->Fire', value='0')\n",
    "wilderness_area_1_widget = widgets.FloatText(description='Rawah', value='0')\n",
    "wilderness_area_2_widget = widgets.FloatText(description='Neota', value='0')\n",
    "wilderness_area_3_widget = widgets.FloatText(description='Comanche', value='0')\n",
    "wilderness_area_4_widget = widgets.FloatText(description='Cache P', value='0')\n",
    "soil_type_1_widget = widgets.FloatText(description='Cathedral', value='0')\n",
    "soil_type_2_widget = widgets.FloatText(description='Vanet', value='0')\n",
    "soil_type_3_widget = widgets.FloatText(description='Haploborolis', value='0')\n",
    "soil_type_4_widget = widgets.FloatText(description='Ratake F', value='0')\n",
    "soil_type_5_widget = widgets.FloatText(description='Vanet F', value='0')\n",
    "soil_type_6_widget = widgets.FloatText(description='Vanet Wet', value='0')\n",
    "soil_type_7_widget = widgets.FloatText(description='Gothic F', value='0')\n",
    "soil_type_8_widget = widgets.FloatText(description='Supervisor', value='0')\n",
    "soil_type_9_widget = widgets.FloatText(description='Troutville F', value='0')\n",
    "soil_type_10_widget = widgets.FloatText(description='Bullwark O', value='0')\n",
    "soil_type_11_widget = widgets.FloatText(description='Bullwark L', value='0')\n",
    "soil_type_12_widget = widgets.FloatText(description='Legault F', value='0')\n",
    "soil_type_13_widget = widgets.FloatText(description='Catamount F', value='0')\n",
    "soil_type_14_widget = widgets.FloatText(description='Pachic A', value='0')\n",
    "soil_type_15_widget = widgets.FloatText(description='Uns', value='0')\n",
    "soil_type_16_widget = widgets.FloatText(description='Cryaquolis', value='0')\n",
    "soil_type_17_widget = widgets.FloatText(description='Gateview F', value='0')\n",
    "soil_type_18_widget = widgets.FloatText(description='Rogert F', value='0')\n",
    "soil_type_19_widget = widgets.FloatText(description='TypicQuolis', value='0')\n",
    "soil_type_20_widget = widgets.FloatText(description='TypicQuepts', value='0')\n",
    "soil_type_21_widget = widgets.FloatText(description='TypicAquolls', value='0')\n",
    "soil_type_22_widget = widgets.FloatText(description='Leighcan F1', value='0')\n",
    "soil_type_23_widget = widgets.FloatText(description='Leighcan F2', value='0')\n",
    "soil_type_24_widget = widgets.FloatText(description='Leighcan F3', value='0')\n",
    "soil_type_25_widget = widgets.FloatText(description='Leighcan F4', value='0')\n",
    "soil_type_26_widget = widgets.FloatText(description='Granile', value='0')\n",
    "soil_type_27_widget = widgets.FloatText(description='LeighcanWarm', value='0')\n",
    "soil_type_28_widget = widgets.FloatText(description='LeighcanF5', value='0')\n",
    "soil_type_29_widget = widgets.FloatText(description='Como', value='0')\n",
    "soil_type_30_widget = widgets.FloatText(description='Como F', value='0')\n",
    "soil_type_31_widget = widgets.FloatText(description='Leighcan F6', value='0')\n",
    "soil_type_32_widget = widgets.FloatText(description='Catamount F2', value='0')\n",
    "soil_type_33_widget = widgets.FloatText(description='Leighcan F7', value='0')\n",
    "soil_type_34_widget = widgets.FloatText(description='Cryorthents', value='0')\n",
    "soil_type_35_widget = widgets.FloatText(description='Cryumbrepts', value='0')\n",
    "soil_type_36_widget = widgets.FloatText(description='Bross F', value='0')\n",
    "soil_type_37_widget = widgets.FloatText(description='Rock O', value='0')\n",
    "soil_type_38_widget = widgets.FloatText(description='Leighcan F8', value='0')\n",
    "soil_type_39_widget = widgets.FloatText(description='Moran F1', value='0')\n",
    "soil_type_40_widget = widgets.FloatText(description='Moran F2', value='0')\n",
    "\n",
    "button_predict = widgets.Button(description='Predict Cover Type')\n",
    "button_output = widgets.Label(value='Enter values and press \"Predict Cover Type\" to run')\n",
    "button_calculate_accuracy = widgets.Button(description='Calculate % Accuracy', layout=widgets.Layout(width='auto'))\n",
    "accuracy_output = widgets.Label(value='Press \"Calculate % Accuracy\" to predict ')\n",
    "\n",
    "def on_click_predict(b):\n",
    "    prediction = my_svm_model.predict([[\n",
    "        elevation_widget.value, aspect_widget.value, slope_widget.value, horizontal_distance_to_hydrology_widget.value, vertical_distance_to_hydrology_widget.value, horizontal_distance_to_roadways_widget.value, hillshade_9am_widget.value, hillshade_noon_widget.value, hillshade_3pm_widget.value, horizontal_distance_to_fire_points_widget.value, wilderness_area_1_widget.value, wilderness_area_2_widget.value, wilderness_area_3_widget.value, wilderness_area_4_widget.value, soil_type_1_widget.value, soil_type_2_widget.value, soil_type_3_widget.value, soil_type_4_widget.value, soil_type_5_widget.value, soil_type_6_widget.value, soil_type_7_widget.value,soil_type_8_widget.value, soil_type_9_widget.value, soil_type_10_widget.value, soil_type_11_widget.value, soil_type_12_widget.value, soil_type_13_widget.value, soil_type_14_widget.value, soil_type_15_widget.value, soil_type_16_widget.value, soil_type_17_widget.value, soil_type_18_widget.value, soil_type_19_widget.value, soil_type_20_widget.value, soil_type_21_widget.value, soil_type_22_widget.value, soil_type_23_widget.value, soil_type_24_widget.value, soil_type_25_widget.value, soil_type_26_widget.value, soil_type_27_widget.value, soil_type_28_widget.value, soil_type_29_widget.value, soil_type_30_widget.value, soil_type_31_widget.value, soil_type_32_widget.value, soil_type_33_widget.value, soil_type_34_widget.value, soil_type_35_widget.value, soil_type_36_widget.value, soil_type_37_widget.value, soil_type_38_widget.value, soil_type_39_widget.value, soil_type_40_widget.value\n",
    "    ]])\n",
    "    match prediction:\n",
    "        case 1:\n",
    "            button_output.value='Predicted Cover Type: Spruce/Fir'\n",
    "        case 2:\n",
    "            button_output.value='Predicted Cover Type: Lodgepole Pine'\n",
    "        case 3:\n",
    "            button_output.value='Predicted Cover Type: Ponderosa Pine'\n",
    "        case 4:\n",
    "            button_output.value='Predicted Cover Type: Cottonwood/Willow'\n",
    "        case 5:\n",
    "            button_output.value='Predicted Cover Type: Aspen'\n",
    "        case 6:\n",
    "            button_output.value='Predicted Cover Type: Douglas-fir'\n",
    "        case 7:\n",
    "            button_output.value='Predicted Cover Type: Krummholz'\n",
    "        case _:\n",
    "            button_output.value='Unknown'\n",
    "            \n",
    "def on_click_accuracy(b):\n",
    "    y_pred = my_svm_model.predict(x_test)\n",
    "    accuracy_score = round(metrics.accuracy_score(y_test, y_pred), 2) * 100\n",
    "    accuracy_output.value=\"This prediction model's accuracy score is: {}\".format(accuracy_score) + \"%\"\n",
    "    \n",
    "\n",
    "button_predict.on_click(on_click_predict)\n",
    "button_calculate_accuracy.on_click(on_click_accuracy)"
   ]
  },
  {
   "cell_type": "markdown",
   "id": "1927c177",
   "metadata": {},
   "source": [
    "# Forest Cover Prediction Tool"
   ]
  },
  {
   "cell_type": "markdown",
   "id": "60e84432",
   "metadata": {},
   "source": [
    "<p style=\"font-family:Georgia; font-size:20px\">By Ethan Tuck</p>"
   ]
  },
  {
   "cell_type": "markdown",
   "id": "5886bb6e",
   "metadata": {},
   "source": [
    "## The Following Visualizations Are Presented For Data Exploration/Analysis"
   ]
  },
  {
   "cell_type": "markdown",
   "id": "9220cc3b",
   "metadata": {},
   "source": [
    "## Visualization 1: ScatterPlot"
   ]
  },
  {
   "cell_type": "markdown",
   "id": "35cd0656",
   "metadata": {},
   "source": [
    "<p style=\"font-family:Georgia; font-size:20px\">This scatterplot was created to see if there was any correlation between the aspect data points and the elevation data points.  There was no direct correlation found.</p>"
   ]
  },
  {
   "cell_type": "code",
   "execution_count": 6,
   "id": "e5ee521a",
   "metadata": {
    "scrolled": false
   },
   "outputs": [
    {
     "data": {
      "text/plain": [
       "<Axes: xlabel='Elevation', ylabel='Aspect'>"
      ]
     },
     "execution_count": 6,
     "metadata": {},
     "output_type": "execute_result"
    },
    {
     "data": {
      "image/png": "[encoded data removed]",
      "text/plain": [
       "<Figure size 640x480 with 1 Axes>"
      ]
     },
     "metadata": {},
     "output_type": "display_data"
    }
   ],
   "source": [
    "df.plot.scatter(x = 'Elevation', y = 'Aspect', s = 1)"
   ]
  },
  {
   "cell_type": "markdown",
   "id": "7960f060",
   "metadata": {},
   "source": [
    "## Visualization 2: Histogram Distribution For Horizontal Distance To Hydrology"
   ]
  },
  {
   "cell_type": "markdown",
   "id": "68b53691",
   "metadata": {},
   "source": [
    "<p style=\"font-family:Georgia; font-size:20px\">This histogram explores the distribution of the various cover types and their horizontal distance to a water source.  It can be inferred that the majority of cover types survive better when closer to water.</p>"
   ]
  },
  {
   "cell_type": "code",
   "execution_count": 7,
   "id": "4d47c825",
   "metadata": {
    "scrolled": false
   },
   "outputs": [
    {
     "data": {
      "text/plain": [
       "array([[<Axes: title={'center': 'Horizontal Distance To Hydrology'}>]],\n",
       "      dtype=object)"
      ]
     },
     "execution_count": 7,
     "metadata": {},
     "output_type": "execute_result"
    },
    {
     "data": {
      "image/png": "[encoded data removed]",
      "text/plain": [
       "<Figure size 640x480 with 1 Axes>"
      ]
     },
     "metadata": {},
     "output_type": "display_data"
    }
   ],
   "source": [
    "df.hist(column='Horizontal Distance To Hydrology')"
   ]
  },
  {
   "cell_type": "markdown",
   "id": "1b61203d",
   "metadata": {},
   "source": [
    "## Visualization 3: Histogram Distribution For The Hillshade Index At 9am"
   ]
  },
  {
   "cell_type": "markdown",
   "id": "345e95af",
   "metadata": {},
   "source": [
    "<p style=\"font-family:Georgia; font-size:20px\">This histogram explores the distribution of the various cover types and their relation to their corresponding hillshade indexes.  The higher the hillshade index, the more sunlight that area receives.  It can be inferred that most of the cover types are in the sunnier areas.  This is also expected.</p>"
   ]
  },
  {
   "cell_type": "code",
   "execution_count": 8,
   "id": "5a6b26a4",
   "metadata": {
    "scrolled": false
   },
   "outputs": [
    {
     "data": {
      "text/plain": [
       "array([[<Axes: title={'center': 'Hillshade 9am'}>]], dtype=object)"
      ]
     },
     "execution_count": 8,
     "metadata": {},
     "output_type": "execute_result"
    },
    {
     "data": {
      "image/png": "[encoded data removed]",
      "text/plain": [
       "<Figure size 640x480 with 1 Axes>"
      ]
     },
     "metadata": {},
     "output_type": "display_data"
    }
   ],
   "source": [
    "df.hist(column='Hillshade 9am')"
   ]
  },
  {
   "cell_type": "markdown",
   "id": "d654db55",
   "metadata": {},
   "source": [
    "## The Accuracy Of The Prediction Model Can Be Tested Here"
   ]
  },
  {
   "cell_type": "markdown",
   "id": "46c4f4ec",
   "metadata": {},
   "source": [
    "<p style=\"font-family:Georgia; font-size:20px\">The accuracy is presented below as a percentage.  It may take a moment to process.</p>"
   ]
  },
  {
   "cell_type": "code",
   "execution_count": 9,
   "id": "9fdfa367",
   "metadata": {
    "scrolled": true
   },
   "outputs": [
    {
     "data": {
      "application/vnd.jupyter.widget-view+json": {
       "model_id": "5b5377ff70c54d73ba3d4b7ff63d78cd",
       "version_major": 2,
       "version_minor": 0
      },
      "text/plain": [
       "VBox(children=(Button(description='Calculate % Accuracy', layout=Layout(width='auto'), style=ButtonStyle()), L…"
      ]
     },
     "metadata": {},
     "output_type": "display_data"
    }
   ],
   "source": [
    "vb2=widgets.VBox([button_calculate_accuracy, accuracy_output])\n",
    "display(vb2)"
   ]
  },
  {
   "cell_type": "markdown",
   "id": "1d99214d",
   "metadata": {},
   "source": [
    "## Unit Guide For Prediction Model"
   ]
  },
  {
   "cell_type": "markdown",
   "id": "28697947",
   "metadata": {},
   "source": [
    "<ul>\n",
    "    <li><strong>Elevation: </strong>Enter the elevation in meters</li>\n",
    "    <li><strong>Aspect: </strong>Enter the aspect in degrees azimuth</li>\n",
    "    <li><strong>Slope: </strong>Enter the slope in degrees</li>\n",
    "    <li><strong>Horizontal Distance To Hydrology: </strong>Enter the horizontal distance to the nearest surface water features in meters</li>\n",
    "    <li><strong>Vertical Distance To Hydrology: </strong>Enter the vertical distance to the nearest surface water features in meters</li>\n",
    "    <li><strong>Horizontal Distance To Roadways: </strong>Enter the horizontal distance to the nearest roadway in meters</li>\n",
    "    <li><strong>Hillshade At 9AM: </strong>Enter the hillshade index at 9am.  Values range from 0 - 255</li>\n",
    "    <li><strong>Hillshade At Noon: </strong>Enter the hillshade index at noon.  Values range from 0 - 255</li>\n",
    "    <li><strong>Hillshade At 3PM: </strong>Enter the hillshade index at 3pm.  Values range from 0 - 255</li>\n",
    "    <li><strong>Horizontal Distance To Fire Points: </strong>Enter the horizontal distance to the nearest wildfire ignition points in meters</li>\n",
    "    <li><strong>There are 4 possible wilderness areas.  Enter either 0 or 1.  1 Indicating the designated wilderness area.</strong>\n",
    "        <ul>\n",
    "            <li><strong>Rawah Wilderness Area</strong></li>\n",
    "            <li><strong>Neota Wilderness Area</strong></li>\n",
    "            <li><strong>Comanche Peak Wilderness Area</strong></li>\n",
    "            <li><strong>Cache La Poudre Wilderness Area</strong></li>\n",
    "        </ul>\n",
    "    </li>\n",
    "    <li><strong>There are 40 possible soil types present.  Enter either a 0 or 1.  1 Indicating that the soil type is present.</strong>\n",
    "        <ul>\n",
    "            <li><strong>Soil Type 1: </strong>Cathedral Family - Rock Outcrop Complex, Extremely Stony</li>\n",
    "            <li><strong>Soil Type 2: </strong>Vanet - Ratake Families Complex, Very Stony</li>\n",
    "            <li><strong>Soil Type 3: </strong>Haploborolis - Rock Outcrop Complex, Rubbly</li>\n",
    "            <li><strong>Soil Type 4: </strong>Ratake Family - Rock outcrop Complex, Rubbly</li>\n",
    "            <li><strong>Soil Type 5: </strong>Vanet Family - Rock Outcrop Complex Complex, Rubbly</li>\n",
    "            <li><strong>Soil Type 6: </strong>Vanet - Wetmore Families - Rock Outcrop Complex, Stony</li>\n",
    "            <li><strong>Soil Type 7: </strong>Gothic Family</li>\n",
    "            <li><strong>Soil Type 8: </strong>Supervisor - Limber Families Complex</li>\n",
    "            <li><strong>Soil Type 9: </strong>Troutville Family, Very Stony</li>\n",
    "            <li><strong>Soil Type 10: </strong>Bullwark - Catamount Families - Rock Outcrop Complex, Rubbly</li>\n",
    "            <li><strong>Soil Type 11: </strong>Bullwark - Catamount Families - Rock Land Complex, Rubbly</li>\n",
    "            <li><strong>Soil Type 12: </strong>Legault Family - Rock land Complex, Stony</li>\n",
    "            <li><strong>Soil Type 13: </strong>Catamount Family - Rock Land - Bullwark Family Complex, Rubbly</li>\n",
    "            <li><strong>Soil Type 14: </strong>Pachic Argiborolis - Aquolis Complex</li>\n",
    "            <li><strong>Soil Type 15: </strong>Unspecified In The USFS Soil And ELU Survey</li>\n",
    "            <li><strong>Soil Type 16: </strong>Cryaquolis - Cryoborolis Complex</li>\n",
    "            <li><strong>Soil Type 17: </strong>Gateview Family - Cryaquolis Complex</li>\n",
    "            <li><strong>Soil Type 18: </strong>Rogert Family, Very Stony</li>\n",
    "            <li><strong>Soil Type 19: </strong>Typic Cryaquolis - Borohemists Complex</li>\n",
    "            <li><strong>Soil Type 20: </strong>Typic Cryaquepts - Typic Cryaquolls Complex</li>\n",
    "            <li><strong>Soil Type 21: </strong>Typic Cryaquolls - Leighcan Family, Till Substratum Complex</li>\n",
    "            <li><strong>Soil Type 22: </strong>Leighcan Family, Till Substratum, Extremely Bouldery</li>\n",
    "            <li><strong>Soil Type 23: </strong>Leighcan Family, Till Substratum - Typic Cryaquolls Complex</li>\n",
    "            <li><strong>Soil Type 24: </strong>Leighcan Family, Extremely Stony</li>\n",
    "            <li><strong>Soil Type 25: </strong>Leighcan Familly, Warm, Extremely Stony</li>\n",
    "            <li><strong>Soil Type 26: </strong>Granile - Catamount Families Complex, Very Stony</li>\n",
    "            <li><strong>Soil Type 27: </strong>Leighcan Family, Warm - Rock Outcrop Complex, Extremely Stony</li>\n",
    "            <li><strong>Soil Type 28: </strong>Leighcan Family - Rock Outcrop Complex, Extremely Stony</li>\n",
    "            <li><strong>Soil Type 29: </strong>Como - Legault Families Complex, Extremely Stony</li>\n",
    "            <li><strong>Soil Type 30: </strong>Como Family - Rock Land - Legault Family Complex, Extremely Stony</li>\n",
    "            <li><strong>Soil Type 31: </strong>Leighcan - Catamount Families Complex, Extremely Stony</li>\n",
    "            <li><strong>Soil Type 32: </strong>Catamount Family - Rock Outcrop - Leighcan Family Complex, Extremely stony</li>\n",
    "            <li><strong>Soil Type 33: </strong>Leighcan - Catamount Families - Rock Outcrop Complex, Extremely Stony</li>\n",
    "            <li><strong>Soil Type 34: </strong>Cryorthents - Rock Land Complex, Extremely Stony</li>\n",
    "            <li><strong>Soil Type 35: </strong>Cryumbrepts - Rock Outcrop - Cryaquepts Complex</li>\n",
    "            <li><strong>Soil Type 36: </strong>Bross Family - Rock Land - Cryumbrepts Complex, Extremely Stony</li>\n",
    "            <li><strong>Soil Type 37: </strong>Rock Outcrop - Cryumbrepts - Cryorthents Complex, Extremely Stony</li>\n",
    "            <li><strong>Soil Type 38: </strong>Leighcan - Moran Families - Cryaquolls Complex, Extremely Stony</li>\n",
    "            <li><strong>Soil Type 39: </strong>Moran Family - Cryorthents - Leighcan Family Complex, Extremely Stony</li>\n",
    "            <li><strong>Soil Type 40: </strong>Moran Family - Cryorthents - Rock Land Complex, Extremely Stony</li>\n",
    "        </ul>\n",
    "    </li>\n",
    "    <li><strong>There are 7 possible forest cover types that can be predicted.  They are the following:</strong>\n",
    "        <ul>\n",
    "            <li><strong>Spruce/Fir</strong></li>\n",
    "            <li><strong>Lodgepole Pine</strong></li>\n",
    "            <li><strong>Ponderosa Pine</strong></li>\n",
    "            <li><strong>Cottonwood/Willow</strong></li>\n",
    "            <li><strong>Aspen</strong></li>\n",
    "            <li><strong>Douglas-Fir</strong></li>\n",
    "            <li><strong>Krummholz</strong></li>\n",
    "        </ul>\n",
    "    </li>\n",
    "</ul>"
   ]
  },
  {
   "cell_type": "code",
   "execution_count": 10,
   "id": "c9e0dddf",
   "metadata": {
    "scrolled": false
   },
   "outputs": [
    {
     "name": "stdout",
     "output_type": "stream",
     "text": [
      "\u001b[1mEnter values in accordance with the above unit guide to make a cover type prediction\n"
     ]
    },
    {
     "data": {
      "application/vnd.jupyter.widget-view+json": {
       "model_id": "3eae9e7f1c5e4d9f984d365ab94df742",
       "version_major": 2,
       "version_minor": 0
      },
      "text/plain": [
       "VBox(children=(FloatText(value=0.0, description='Elev (m)'), FloatText(value=0.0, description='Aspect'), Float…"
      ]
     },
     "metadata": {},
     "output_type": "display_data"
    }
   ],
   "source": [
    "vb=widgets.VBox([elevation_widget, aspect_widget, slope_widget, horizontal_distance_to_hydrology_widget, vertical_distance_to_hydrology_widget, horizontal_distance_to_roadways_widget, hillshade_9am_widget, hillshade_noon_widget, hillshade_3pm_widget, horizontal_distance_to_fire_points_widget, wilderness_area_1_widget, wilderness_area_2_widget, wilderness_area_3_widget, wilderness_area_4_widget, soil_type_1_widget, soil_type_2_widget, soil_type_3_widget, soil_type_4_widget, soil_type_5_widget, soil_type_6_widget, soil_type_7_widget,soil_type_8_widget, soil_type_9_widget, soil_type_10_widget, soil_type_11_widget, soil_type_12_widget, soil_type_13_widget, soil_type_14_widget, soil_type_15_widget, soil_type_16_widget, soil_type_17_widget, soil_type_18_widget, soil_type_19_widget, soil_type_20_widget, soil_type_21_widget, soil_type_22_widget, soil_type_23_widget, soil_type_24_widget, soil_type_25_widget, soil_type_26_widget, soil_type_27_widget, soil_type_28_widget, soil_type_29_widget, soil_type_30_widget, soil_type_31_widget, soil_type_32_widget, soil_type_33_widget, soil_type_34_widget, soil_type_35_widget, soil_type_36_widget, soil_type_37_widget, soil_type_38_widget, soil_type_39_widget, soil_type_40_widget, button_predict, button_output])\n",
    "print('\\033[1m' + 'Enter values in accordance with the above unit guide to make a cover type prediction')\n",
    "display(vb)"
   ]
  }
 ],
 "metadata": {
  "kernelspec": {
   "display_name": "Python 3 (ipykernel)",
   "language": "python",
   "name": "python3"
  },
  "language_info": {
   "codemirror_mode": {
    "name": "ipython",
    "version": 3
   },
   "file_extension": ".py",
   "mimetype": "text/x-python",
   "name": "python",
   "nbconvert_exporter": "python",
   "pygments_lexer": "ipython3",
   "version": "3.11.3"
  },
  "widgets": {
   "application/vnd.jupyter.widget-state+json": {
    "state": {
     "00587782cb11418c8ed80c4359482496": {
      "model_module": "@jupyter-widgets/controls",
      "model_module_version": "2.0.0",
      "model_name": "FloatTextModel",
      "state": {
       "description": "Cryorthents",
       "layout": "IPY_MODEL_b0372e00e655435ebf04365418437387",
       "step": null,
       "style": "IPY_MODEL_588843f7a98f49f2a072280a4c57b3aa"
      }
     },
     "00c3e9b137f0437ab2ba012345878ab6": {
      "model_module": "@jupyter-widgets/controls",
      "model_module_version": "2.0.0",
      "model_name": "ButtonModel",
      "state": {
       "description": "Predict Cover Type",
       "layout": "IPY_MODEL_701a6512850d456e837b42542ef9615e",
       "style": "IPY_MODEL_5113706d56484915b97953d0169505e1",
       "tooltip": null
      }
     },
     "0164e01e97e345a19c056a12f4ce4860": {
      "model_module": "@jupyter-widgets/base",
      "model_module_version": "2.0.0",
      "model_name": "LayoutModel",
      "state": {}
     },
     "022eea5d82b34b8580fa069205f8b2f2": {
      "model_module": "@jupyter-widgets/base",
      "model_module_version": "2.0.0",
      "model_name": "LayoutModel",
      "state": {}
     },
     "02525c3ca08a4e9c84aa1d13859f4add": {
      "model_module": "@jupyter-widgets/controls",
      "model_module_version": "2.0.0",
      "model_name": "FloatTextModel",
      "state": {
       "description": "TypicQuolis",
       "layout": "IPY_MODEL_f69b8d31c78a4a058b5bfb457942b677",
       "step": null,
       "style": "IPY_MODEL_0df19a9613284f6b864cf6aef7906309"
      }
     },
     "025b1293288a45cfaba65159ae2f76d1": {
      "model_module": "@jupyter-widgets/base",
      "model_module_version": "2.0.0",
      "model_name": "LayoutModel",
      "state": {}
     },
     "02af16da173e42ddb3e2d377090ea41a": {
      "model_module": "@jupyter-widgets/base",
      "model_module_version": "2.0.0",
      "model_name": "LayoutModel",
      "state": {}
     },
     "02ccae1c79cd40de9f454cd92bdbd13a": {
      "model_module": "@jupyter-widgets/controls",
      "model_module_version": "2.0.0",
      "model_name": "FloatTextModel",
      "state": {
       "description": "Moran F1",
       "layout": "IPY_MODEL_f314d20c58b5435cb7a09f7c58a77294",
       "step": null,
       "style": "IPY_MODEL_405af5d9d0b84db29113d5883b7a27c1"
      }
     },
     "02f50847a20147359003cd2bbf0b01ec": {
      "model_module": "@jupyter-widgets/controls",
      "model_module_version": "2.0.0",
      "model_name": "DescriptionStyleModel",
      "state": {
       "description_width": ""
      }
     },
     "0343d7afdd514dda802d7d552a39e290": {
      "model_module": "@jupyter-widgets/controls",
      "model_module_version": "2.0.0",
      "model_name": "DescriptionStyleModel",
      "state": {
       "description_width": ""
      }
     },
     "03441be88c8e4959ba9e32add572d9cc": {
      "model_module": "@jupyter-widgets/controls",
      "model_module_version": "2.0.0",
      "model_name": "LabelModel",
      "state": {
       "layout": "IPY_MODEL_022eea5d82b34b8580fa069205f8b2f2",
       "style": "IPY_MODEL_7b8b34970ed24970bed0c5589358ed28",
       "value": "This prediction model's accuracy score is: 0.63%"
      }
     },
     "057e6052c047423a819c0b3d131ca294": {
      "model_module": "@jupyter-widgets/controls",
      "model_module_version": "2.0.0",
      "model_name": "FloatTextModel",
      "state": {
       "description": "Vanet",
       "layout": "IPY_MODEL_ac50747970cd49faac9cbf608359f97f",
       "step": null,
       "style": "IPY_MODEL_71c84120c2e842af8e6837824937e791"
      }
     },
     "07dbd581fd8c4b1ca9bdf13a1a008655": {
      "model_module": "@jupyter-widgets/controls",
      "model_module_version": "2.0.0",
      "model_name": "FloatTextModel",
      "state": {
       "description": "HillSh9a",
       "layout": "IPY_MODEL_f7baf947188a429aacdc342fde841da8",
       "step": null,
       "style": "IPY_MODEL_b1ee0f96454e49f2add3806ee468683e"
      }
     },
     "084db4d48c224a7eb21f38feae1927f0": {
      "model_module": "@jupyter-widgets/controls",
      "model_module_version": "2.0.0",
      "model_name": "DescriptionStyleModel",
      "state": {
       "description_width": ""
      }
     },
     "095a2352d1ba482293664cdd27afa2bb": {
      "model_module": "@jupyter-widgets/base",
      "model_module_version": "2.0.0",
      "model_name": "LayoutModel",
      "state": {}
     },
     "095e34355ce74de8a88a93014a41ec12": {
      "model_module": "@jupyter-widgets/base",
      "model_module_version": "2.0.0",
      "model_name": "LayoutModel",
      "state": {}
     },
     "0b2ad7579bb14bc4a99af49a9a33559d": {
      "model_module": "@jupyter-widgets/controls",
      "model_module_version": "2.0.0",
      "model_name": "FloatTextModel",
      "state": {
       "description": "Rock O",
       "layout": "IPY_MODEL_f25f3b14a4924de790623a3ed1212056",
       "step": null,
       "style": "IPY_MODEL_fc6e9c880fba4a2aaa17cc9fecf54f3b"
      }
     },
     "0b3cb828facd41368343c55d56e3d085": {
      "model_module": "@jupyter-widgets/controls",
      "model_module_version": "2.0.0",
      "model_name": "FloatTextModel",
      "state": {
       "description": "HillSh3p",
       "layout": "IPY_MODEL_2c08f8ff3cbf478cb10eebd4521aef47",
       "step": null,
       "style": "IPY_MODEL_14d54cd693b84fc08bb485d9efba3921"
      }
     },
     "0cb847fd8217486f91fcd0730703daad": {
      "model_module": "@jupyter-widgets/controls",
      "model_module_version": "2.0.0",
      "model_name": "DescriptionStyleModel",
      "state": {
       "description_width": ""
      }
     },
     "0d7fcaf332114aa69e5601d53f89cef5": {
      "model_module": "@jupyter-widgets/base",
      "model_module_version": "2.0.0",
      "model_name": "LayoutModel",
      "state": {}
     },
     "0df19a9613284f6b864cf6aef7906309": {
      "model_module": "@jupyter-widgets/controls",
      "model_module_version": "2.0.0",
      "model_name": "DescriptionStyleModel",
      "state": {
       "description_width": ""
      }
     },
     "0e4018cbfe8c42808005ab8c9943e35c": {
      "model_module": "@jupyter-widgets/base",
      "model_module_version": "2.0.0",
      "model_name": "LayoutModel",
      "state": {}
     },
     "0ee9f77e38f64092880242a5d4fa63e8": {
      "model_module": "@jupyter-widgets/base",
      "model_module_version": "2.0.0",
      "model_name": "LayoutModel",
      "state": {}
     },
     "0fb2760916864d37866f7c8a0faea1f2": {
      "model_module": "@jupyter-widgets/base",
      "model_module_version": "2.0.0",
      "model_name": "LayoutModel",
      "state": {}
     },
     "1259bd0c01a047148d16738320f29f38": {
      "model_module": "@jupyter-widgets/controls",
      "model_module_version": "2.0.0",
      "model_name": "DescriptionStyleModel",
      "state": {
       "description_width": ""
      }
     },
     "14d54cd693b84fc08bb485d9efba3921": {
      "model_module": "@jupyter-widgets/controls",
      "model_module_version": "2.0.0",
      "model_name": "DescriptionStyleModel",
      "state": {
       "description_width": ""
      }
     },
     "14e3718d68d1447ba296826ca740e243": {
      "model_module": "@jupyter-widgets/base",
      "model_module_version": "2.0.0",
      "model_name": "LayoutModel",
      "state": {}
     },
     "15756c4a1f28458e9aa9977e2878d6d1": {
      "model_module": "@jupyter-widgets/controls",
      "model_module_version": "2.0.0",
      "model_name": "FloatTextModel",
      "state": {
       "description": "Aspect",
       "layout": "IPY_MODEL_33444c4147ce408ca7893ed37a975c32",
       "step": null,
       "style": "IPY_MODEL_3cdf2c50da1346a9bc16db5272eb3a7c"
      }
     },
     "15a102f58ebe468d8cb5abdc74efa82b": {
      "model_module": "@jupyter-widgets/controls",
      "model_module_version": "2.0.0",
      "model_name": "FloatTextModel",
      "state": {
       "description": "Leighcan F1",
       "layout": "IPY_MODEL_7a610e5a8f494548bc5f13351674cfec",
       "step": null,
       "style": "IPY_MODEL_b1110dd88c774fa39066e3286422ac3f"
      }
     },
     "16fe9244234e4f22994160f639eb35ee": {
      "model_module": "@jupyter-widgets/controls",
      "model_module_version": "2.0.0",
      "model_name": "FloatTextModel",
      "state": {
       "description": "LeighcanWarm",
       "layout": "IPY_MODEL_43de2c7a6cd94c94a5fc09bf420544ac",
       "step": null,
       "style": "IPY_MODEL_1813f1affc1043eab6e9a0c01267b3d9"
      }
     },
     "173136e7e8534d099fef669e4cfec2a2": {
      "model_module": "@jupyter-widgets/controls",
      "model_module_version": "2.0.0",
      "model_name": "FloatTextModel",
      "state": {
       "description": "Leighcan F6",
       "layout": "IPY_MODEL_829c1340e44945dc9f9c954362d5aa59",
       "step": null,
       "style": "IPY_MODEL_58c937c49e5d474f8d54c8f90f83a873"
      }
     },
     "17636d1826e440ab851836cab7db5ef5": {
      "model_module": "@jupyter-widgets/controls",
      "model_module_version": "2.0.0",
      "model_name": "FloatTextModel",
      "state": {
       "description": "Hrz->Fire",
       "layout": "IPY_MODEL_ec148ea112344af1af30cffa2f2bacb5",
       "step": null,
       "style": "IPY_MODEL_fca7ccc2d3fc4245ad37c84e9e2cc8ab"
      }
     },
     "1813f1affc1043eab6e9a0c01267b3d9": {
      "model_module": "@jupyter-widgets/controls",
      "model_module_version": "2.0.0",
      "model_name": "DescriptionStyleModel",
      "state": {
       "description_width": ""
      }
     },
     "190d54351cf24ef585180dbd0b1d7e7f": {
      "model_module": "@jupyter-widgets/controls",
      "model_module_version": "2.0.0",
      "model_name": "DescriptionStyleModel",
      "state": {
       "description_width": ""
      }
     },
     "19463ab565bc4c8486813534844d6e9b": {
      "model_module": "@jupyter-widgets/controls",
      "model_module_version": "2.0.0",
      "model_name": "DescriptionStyleModel",
      "state": {
       "description_width": ""
      }
     },
     "195980a9566b49c995899475c3625895": {
      "model_module": "@jupyter-widgets/controls",
      "model_module_version": "2.0.0",
      "model_name": "FloatTextModel",
      "state": {
       "description": "Hrz->Fire",
       "layout": "IPY_MODEL_51507c565dfe4ab48767260be75605ab",
       "step": null,
       "style": "IPY_MODEL_36ba9c17e5fd45b4add0143c47c18034"
      }
     },
     "1a3758a869184800a9190c46711beefa": {
      "model_module": "@jupyter-widgets/controls",
      "model_module_version": "2.0.0",
      "model_name": "DescriptionStyleModel",
      "state": {
       "description_width": ""
      }
     },
     "1a79d4b21d874b8eba3b2db439a418b6": {
      "model_module": "@jupyter-widgets/base",
      "model_module_version": "2.0.0",
      "model_name": "LayoutModel",
      "state": {}
     },
     "1a9e69a1d58448d0ac0817f4e137f000": {
      "model_module": "@jupyter-widgets/controls",
      "model_module_version": "2.0.0",
      "model_name": "FloatTextModel",
      "state": {
       "description": "Gothic F",
       "layout": "IPY_MODEL_3efcf743058c4e38ab77672cca541cbf",
       "step": null,
       "style": "IPY_MODEL_2a87f650b0bd459985c118326b496ccc"
      }
     },
     "1ac8548ad42249c189d28b72ef4d20ec": {
      "model_module": "@jupyter-widgets/base",
      "model_module_version": "2.0.0",
      "model_name": "LayoutModel",
      "state": {}
     },
     "1ae4c4a03f2f4f439ef2a5c3cd123619": {
      "model_module": "@jupyter-widgets/base",
      "model_module_version": "2.0.0",
      "model_name": "LayoutModel",
      "state": {}
     },
     "1b2a568503934577b385db5f38290064": {
      "model_module": "@jupyter-widgets/controls",
      "model_module_version": "2.0.0",
      "model_name": "FloatTextModel",
      "state": {
       "description": "Neota",
       "layout": "IPY_MODEL_2febb5f2c79f4747bd47b262cdcf0d8b",
       "step": null,
       "style": "IPY_MODEL_acc1261e720845619fbf96227c471f50"
      }
     },
     "1b406dfa2346450da61d3cca6ac0839a": {
      "model_module": "@jupyter-widgets/controls",
      "model_module_version": "2.0.0",
      "model_name": "VBoxModel",
      "state": {
       "children": [
        "IPY_MODEL_a9199d087ad648be86384be4562bdd75",
        "IPY_MODEL_96c031b5d2574fa6854d54eedbb31578",
        "IPY_MODEL_4471374a5d874cea93604f2c6e6ab27a",
        "IPY_MODEL_ec668e70329a4ba19c294dc8a9829abc",
        "IPY_MODEL_a9997d0c04354965914078dbd911fe58",
        "IPY_MODEL_33ca7fcb3a904240aac0f7e2793e7b70",
        "IPY_MODEL_07dbd581fd8c4b1ca9bdf13a1a008655",
        "IPY_MODEL_4af24f9c17e9439bb5993a83780b8e5f",
        "IPY_MODEL_e627df8d1caf4dd5831a44f8471be106",
        "IPY_MODEL_6dad960e021e4d8fb8d18637ea0eb627",
        "IPY_MODEL_c896a80030884c5a80f3f305ab03ac77",
        "IPY_MODEL_48dc29acf6af4fb09528526822b44872",
        "IPY_MODEL_e0d1ed15fc64432aa4dad1d3e1483b62",
        "IPY_MODEL_fc9731fbc39042cc901b19af863bee99",
        "IPY_MODEL_e9f9a0b07aee46ae80e4c9ab1b7aecba",
        "IPY_MODEL_057e6052c047423a819c0b3d131ca294",
        "IPY_MODEL_70410ed8e97347c8bba1bbf8b6f3bae4",
        "IPY_MODEL_41a2b5649a8040559a4d7052d668dad3",
        "IPY_MODEL_442dc009c3e6415fa52c7a993db62490",
        "IPY_MODEL_bc1b1384d54a4a98acb398c4ef053d92",
        "IPY_MODEL_21aeeea72b12489296b25488368172e2",
        "IPY_MODEL_7cb19b043ad4497994566e8de4b57fbf",
        "IPY_MODEL_9df35644e0224b1984f2642a2c3af5b3",
        "IPY_MODEL_b407662b1cc3447bafb0a5703f229339",
        "IPY_MODEL_ee59044ad5024a9689c3efe8ee70590a",
        "IPY_MODEL_5f09b17d68d74703b5d482f439bb30d1",
        "IPY_MODEL_f372e8e5782a45fba1feb3cb24ce8359",
        "IPY_MODEL_d40b96d3ca164df4bdfc50f5f8249fab",
        "IPY_MODEL_a2d9a70a41384ac889866f5f646a30a7",
        "IPY_MODEL_b6dc07c1139848cd9ab6d675e145f805",
        "IPY_MODEL_aa2842d582e94cc9a28be39bcaa8b1df",
        "IPY_MODEL_3c72e4daf66c4850b58a1f8b969cdddb",
        "IPY_MODEL_02525c3ca08a4e9c84aa1d13859f4add",
        "IPY_MODEL_79f0fc10d0a642e68cd9136a7ffdde77",
        "IPY_MODEL_ce6d65d204b44fc78d8a3a55a522dacf",
        "IPY_MODEL_15a102f58ebe468d8cb5abdc74efa82b",
        "IPY_MODEL_de9fda8b835144e79dc16267d161df3d",
        "IPY_MODEL_4ba257c7a4674b00bb1c0b48d5c530c0",
        "IPY_MODEL_864dd847f5084f79b910bef9488f8669",
        "IPY_MODEL_e98f85086fc94ff08aa8415cc9338dd9",
        "IPY_MODEL_16fe9244234e4f22994160f639eb35ee",
        "IPY_MODEL_358c68b6c530426d8f4298e4e93f5846",
        "IPY_MODEL_9b1752410b0240baa37f9891f5c86ac6",
        "IPY_MODEL_e0bc8d45e39b4430acde9acb4b56ec4d",
        "IPY_MODEL_25e660a8eaac425182b6daddde502131",
        "IPY_MODEL_6024d5513fb04781919e1b23dd5c8fd5",
        "IPY_MODEL_8e9be2b6a647450099d3be3e53ef3ca8",
        "IPY_MODEL_2cf12f972a4c4f758a93a0d8c37d8b1d",
        "IPY_MODEL_7370124847b1487e8598bf844856ef82",
        "IPY_MODEL_b65c8f07d522478ba7a233a1433f129c",
        "IPY_MODEL_622dc37caf034fee83c7ab56dbb7bf94",
        "IPY_MODEL_814d020c8db24fd99bb386002eda8d88",
        "IPY_MODEL_02ccae1c79cd40de9f454cd92bdbd13a",
        "IPY_MODEL_e9fdff76a9284dd39259bcabba408f35",
        "IPY_MODEL_5ca52a4a2d2a44259f314c0ed4bceaf0",
        "IPY_MODEL_35c5fdeee6f24c5fa1e7863d030238a8"
       ],
       "layout": "IPY_MODEL_e8461db8dffc49688c7157edc13c0fab"
      }
     },
     "1bcb5fb46d284d12a3eafff5aba5be3b": {
      "model_module": "@jupyter-widgets/controls",
      "model_module_version": "2.0.0",
      "model_name": "FloatTextModel",
      "state": {
       "description": "Leighcan F3",
       "layout": "IPY_MODEL_2230f9124b524c9ab3144344d526b50d",
       "step": null,
       "style": "IPY_MODEL_c32d67208c964b22a0ce344b3a40e25f"
      }
     },
     "1d17c8b647af4f609cc3ca72553d37f0": {
      "model_module": "@jupyter-widgets/controls",
      "model_module_version": "2.0.0",
      "model_name": "DescriptionStyleModel",
      "state": {
       "description_width": ""
      }
     },
     "1d6d9d2c3fc040c38337052c467e73d5": {
      "model_module": "@jupyter-widgets/controls",
      "model_module_version": "2.0.0",
      "model_name": "DescriptionStyleModel",
      "state": {
       "description_width": ""
      }
     },
     "1d83b38caf5d45e19f912fdbbd7c67eb": {
      "model_module": "@jupyter-widgets/base",
      "model_module_version": "2.0.0",
      "model_name": "LayoutModel",
      "state": {}
     },
     "1da0b2cf30e4444ea3391d92c9f7292a": {
      "model_module": "@jupyter-widgets/controls",
      "model_module_version": "2.0.0",
      "model_name": "FloatTextModel",
      "state": {
       "description": "Cryumbrepts",
       "layout": "IPY_MODEL_e17bd56d6cde4df582656b5370233e20",
       "step": null,
       "style": "IPY_MODEL_7b3cd164c25b474db6e7b9581cbc287d"
      }
     },
     "1e44a506cb39489f954f15614c6d8ce1": {
      "model_module": "@jupyter-widgets/controls",
      "model_module_version": "2.0.0",
      "model_name": "LabelStyleModel",
      "state": {
       "description_width": "",
       "font_family": null,
       "font_size": null,
       "font_style": null,
       "font_variant": null,
       "font_weight": null,
       "text_color": null,
       "text_decoration": null
      }
     },
     "1eedbb66134b468585b085b6c593b248": {
      "model_module": "@jupyter-widgets/controls",
      "model_module_version": "2.0.0",
      "model_name": "DescriptionStyleModel",
      "state": {
       "description_width": ""
      }
     },
     "1f4accf6bdb843f2af886503a4e9404c": {
      "model_module": "@jupyter-widgets/controls",
      "model_module_version": "2.0.0",
      "model_name": "DescriptionStyleModel",
      "state": {
       "description_width": ""
      }
     },
     "1f988778029b4ff187499c1b04655323": {
      "model_module": "@jupyter-widgets/controls",
      "model_module_version": "2.0.0",
      "model_name": "FloatTextModel",
      "state": {
       "description": "Moran F1",
       "layout": "IPY_MODEL_85f9c78bbc18464aa45b1af4f3d43e50",
       "step": null,
       "style": "IPY_MODEL_7edc53c34ebf4fd79bd73a976c8eb28f"
      }
     },
     "21aeeea72b12489296b25488368172e2": {
      "model_module": "@jupyter-widgets/controls",
      "model_module_version": "2.0.0",
      "model_name": "FloatTextModel",
      "state": {
       "description": "Gothic F",
       "layout": "IPY_MODEL_095a2352d1ba482293664cdd27afa2bb",
       "step": null,
       "style": "IPY_MODEL_1d6d9d2c3fc040c38337052c467e73d5"
      }
     },
     "21b13b06345d4ac380cb35e246de570c": {
      "model_module": "@jupyter-widgets/base",
      "model_module_version": "2.0.0",
      "model_name": "LayoutModel",
      "state": {}
     },
     "222302300ec34aca9df69737ca741f28": {
      "model_module": "@jupyter-widgets/controls",
      "model_module_version": "2.0.0",
      "model_name": "FloatTextModel",
      "state": {
       "description": "Bross F",
       "layout": "IPY_MODEL_2ffc5e158caa402f8882110934dafc1d",
       "step": null,
       "style": "IPY_MODEL_2a96892f4964427680fccb1c46414e5c"
      }
     },
     "2230f9124b524c9ab3144344d526b50d": {
      "model_module": "@jupyter-widgets/base",
      "model_module_version": "2.0.0",
      "model_name": "LayoutModel",
      "state": {}
     },
     "2309a9ab2eb44b1da97f5d94d6c92a74": {
      "model_module": "@jupyter-widgets/controls",
      "model_module_version": "2.0.0",
      "model_name": "DescriptionStyleModel",
      "state": {
       "description_width": ""
      }
     },
     "241bf4171a654f469204beaa52188a9e": {
      "model_module": "@jupyter-widgets/controls",
      "model_module_version": "2.0.0",
      "model_name": "FloatTextModel",
      "state": {
       "description": "Haploborolis",
       "layout": "IPY_MODEL_9af1d0b66db84f14aba5ff624fafd1cd",
       "step": null,
       "style": "IPY_MODEL_4858265ed19146da99925f7050ea1f42"
      }
     },
     "258575cc2cbe4decb43ec04e89ba53aa": {
      "model_module": "@jupyter-widgets/controls",
      "model_module_version": "2.0.0",
      "model_name": "DescriptionStyleModel",
      "state": {
       "description_width": ""
      }
     },
     "25e660a8eaac425182b6daddde502131": {
      "model_module": "@jupyter-widgets/controls",
      "model_module_version": "2.0.0",
      "model_name": "FloatTextModel",
      "state": {
       "description": "Leighcan F6",
       "layout": "IPY_MODEL_fc227af88cc347e3be1ba72d9b4fabeb",
       "step": null,
       "style": "IPY_MODEL_28658a249321424eaaa05094554a2c94"
      }
     },
     "265dce6b26b64bd0a1156392635190f5": {
      "model_module": "@jupyter-widgets/controls",
      "model_module_version": "2.0.0",
      "model_name": "DescriptionStyleModel",
      "state": {
       "description_width": ""
      }
     },
     "267c88efa55d4ab09deae8d841bb9fc5": {
      "model_module": "@jupyter-widgets/controls",
      "model_module_version": "2.0.0",
      "model_name": "FloatTextModel",
      "state": {
       "description": "HillSh9a",
       "layout": "IPY_MODEL_7d82436856e54c529c835aeef8f1a329",
       "step": null,
       "style": "IPY_MODEL_0343d7afdd514dda802d7d552a39e290"
      }
     },
     "2695744bddba4beaba4ba483a7a9e374": {
      "model_module": "@jupyter-widgets/controls",
      "model_module_version": "2.0.0",
      "model_name": "DescriptionStyleModel",
      "state": {
       "description_width": ""
      }
     },
     "2725b0a4a0c34b8e99180f76a2b61b0e": {
      "model_module": "@jupyter-widgets/controls",
      "model_module_version": "2.0.0",
      "model_name": "FloatTextModel",
      "state": {
       "description": "Legault F",
       "layout": "IPY_MODEL_c79c07de57af4c01a41503d63f48c6de",
       "step": null,
       "style": "IPY_MODEL_c19efa4f9fde4a2cb397af594c4bb1e9"
      }
     },
     "2741c622dca44a86b0a8270421aed199": {
      "model_module": "@jupyter-widgets/base",
      "model_module_version": "2.0.0",
      "model_name": "LayoutModel",
      "state": {}
     },
     "27724a297c9a4ff08f771147367b1276": {
      "model_module": "@jupyter-widgets/controls",
      "model_module_version": "2.0.0",
      "model_name": "FloatTextModel",
      "state": {
       "description": "Leighcan F7",
       "layout": "IPY_MODEL_5c40853d90f745b3a2496e1b5d110444",
       "step": null,
       "style": "IPY_MODEL_993fa3e8cc394d39827d6421172723d7"
      }
     },
     "280e9368ada741a39ef412c52d6f1838": {
      "model_module": "@jupyter-widgets/controls",
      "model_module_version": "2.0.0",
      "model_name": "FloatTextModel",
      "state": {
       "description": "Moran F1",
       "layout": "IPY_MODEL_da563cf3d0b1413d97e121d271486615",
       "step": null,
       "style": "IPY_MODEL_445f0f119f36496086402fab1d9f9dc0"
      }
     },
     "2834b35dec8f42d78f675ce836c32291": {
      "model_module": "@jupyter-widgets/controls",
      "model_module_version": "2.0.0",
      "model_name": "FloatTextModel",
      "state": {
       "description": "Vanet F",
       "layout": "IPY_MODEL_2c8d85e5c4b5406dac2dcada6ae3616f",
       "step": null,
       "style": "IPY_MODEL_f7ea62cebc314c72801f1eb25ec31bd8"
      }
     },
     "28658a249321424eaaa05094554a2c94": {
      "model_module": "@jupyter-widgets/controls",
      "model_module_version": "2.0.0",
      "model_name": "DescriptionStyleModel",
      "state": {
       "description_width": ""
      }
     },
     "2a50e7b8afea4741b8b3006ef821834c": {
      "model_module": "@jupyter-widgets/base",
      "model_module_version": "2.0.0",
      "model_name": "LayoutModel",
      "state": {}
     },
     "2a87f650b0bd459985c118326b496ccc": {
      "model_module": "@jupyter-widgets/controls",
      "model_module_version": "2.0.0",
      "model_name": "DescriptionStyleModel",
      "state": {
       "description_width": ""
      }
     },
     "2a96892f4964427680fccb1c46414e5c": {
      "model_module": "@jupyter-widgets/controls",
      "model_module_version": "2.0.0",
      "model_name": "DescriptionStyleModel",
      "state": {
       "description_width": ""
      }
     },
     "2abed5f009d54488a1ec975ff93fe716": {
      "model_module": "@jupyter-widgets/base",
      "model_module_version": "2.0.0",
      "model_name": "LayoutModel",
      "state": {}
     },
     "2b535147bb6148749835c87fd46e55c0": {
      "model_module": "@jupyter-widgets/base",
      "model_module_version": "2.0.0",
      "model_name": "LayoutModel",
      "state": {}
     },
     "2bed6db7244e4d55a65b1971ec429f66": {
      "model_module": "@jupyter-widgets/controls",
      "model_module_version": "2.0.0",
      "model_name": "DescriptionStyleModel",
      "state": {
       "description_width": ""
      }
     },
     "2c08f8ff3cbf478cb10eebd4521aef47": {
      "model_module": "@jupyter-widgets/base",
      "model_module_version": "2.0.0",
      "model_name": "LayoutModel",
      "state": {}
     },
     "2c0b77bb228d4bf6a181fe6f1a78a447": {
      "model_module": "@jupyter-widgets/controls",
      "model_module_version": "2.0.0",
      "model_name": "DescriptionStyleModel",
      "state": {
       "description_width": ""
      }
     },
     "2c14b37848c847248fc33a99d67ef6bb": {
      "model_module": "@jupyter-widgets/base",
      "model_module_version": "2.0.0",
      "model_name": "LayoutModel",
      "state": {}
     },
     "2c8d85e5c4b5406dac2dcada6ae3616f": {
      "model_module": "@jupyter-widgets/base",
      "model_module_version": "2.0.0",
      "model_name": "LayoutModel",
      "state": {}
     },
     "2c92aeb9632345e897bcfb0f5f6ca3b3": {
      "model_module": "@jupyter-widgets/controls",
      "model_module_version": "2.0.0",
      "model_name": "DescriptionStyleModel",
      "state": {
       "description_width": ""
      }
     },
     "2ca64ee1decf4ca5aed53638dcf2c832": {
      "model_module": "@jupyter-widgets/controls",
      "model_module_version": "2.0.0",
      "model_name": "DescriptionStyleModel",
      "state": {
       "description_width": ""
      }
     },
     "2cf12f972a4c4f758a93a0d8c37d8b1d": {
      "model_module": "@jupyter-widgets/controls",
      "model_module_version": "2.0.0",
      "model_name": "FloatTextModel",
      "state": {
       "description": "Cryorthents",
       "layout": "IPY_MODEL_c21e743b926d456ab6b742126d3e0303",
       "step": null,
       "style": "IPY_MODEL_a7f1c9abfdb34abdbbc6ce5a836c13b5"
      }
     },
     "2d930589ec6848e5aa8921a284bddf97": {
      "model_module": "@jupyter-widgets/base",
      "model_module_version": "2.0.0",
      "model_name": "LayoutModel",
      "state": {}
     },
     "2da0d076f1aa41a7b8af32275fe3c428": {
      "model_module": "@jupyter-widgets/controls",
      "model_module_version": "2.0.0",
      "model_name": "FloatTextModel",
      "state": {
       "description": "Como",
       "layout": "IPY_MODEL_c66df96d1c254cecb8dd0567e1714238",
       "step": null,
       "style": "IPY_MODEL_084db4d48c224a7eb21f38feae1927f0"
      }
     },
     "2db9a4bc3fcc4df293666258febff112": {
      "model_module": "@jupyter-widgets/base",
      "model_module_version": "2.0.0",
      "model_name": "LayoutModel",
      "state": {}
     },
     "2e982e84b0b24c068f936120d4fc1647": {
      "model_module": "@jupyter-widgets/base",
      "model_module_version": "2.0.0",
      "model_name": "LayoutModel",
      "state": {}
     },
     "2e9eb4526e924fabade2771c52312293": {
      "model_module": "@jupyter-widgets/base",
      "model_module_version": "2.0.0",
      "model_name": "LayoutModel",
      "state": {}
     },
     "2f87a9bcb47d4adf80fb0de9c505dda5": {
      "model_module": "@jupyter-widgets/base",
      "model_module_version": "2.0.0",
      "model_name": "LayoutModel",
      "state": {}
     },
     "2febb5f2c79f4747bd47b262cdcf0d8b": {
      "model_module": "@jupyter-widgets/base",
      "model_module_version": "2.0.0",
      "model_name": "LayoutModel",
      "state": {}
     },
     "2ffc5e158caa402f8882110934dafc1d": {
      "model_module": "@jupyter-widgets/base",
      "model_module_version": "2.0.0",
      "model_name": "LayoutModel",
      "state": {}
     },
     "2ffef9f3e7b048c1aec114e7adcaf632": {
      "model_module": "@jupyter-widgets/controls",
      "model_module_version": "2.0.0",
      "model_name": "DescriptionStyleModel",
      "state": {
       "description_width": ""
      }
     },
     "3085e067fb2744c8ad719de3d9ec9fb3": {
      "model_module": "@jupyter-widgets/controls",
      "model_module_version": "2.0.0",
      "model_name": "DescriptionStyleModel",
      "state": {
       "description_width": ""
      }
     },
     "30a1bd6edaa34c8284582e9fe074193a": {
      "model_module": "@jupyter-widgets/controls",
      "model_module_version": "2.0.0",
      "model_name": "DescriptionStyleModel",
      "state": {
       "description_width": ""
      }
     },
     "312b2a40c05e46d4a97496ea8192ec9c": {
      "model_module": "@jupyter-widgets/controls",
      "model_module_version": "2.0.0",
      "model_name": "DescriptionStyleModel",
      "state": {
       "description_width": ""
      }
     },
     "315de6dfbc9b44e1a434eef3aafc9871": {
      "model_module": "@jupyter-widgets/base",
      "model_module_version": "2.0.0",
      "model_name": "LayoutModel",
      "state": {}
     },
     "31a97b756e0c496abb5d60baa9852499": {
      "model_module": "@jupyter-widgets/controls",
      "model_module_version": "2.0.0",
      "model_name": "DescriptionStyleModel",
      "state": {
       "description_width": ""
      }
     },
     "330767e716cf451aa2f7a8ff81dd6b91": {
      "model_module": "@jupyter-widgets/controls",
      "model_module_version": "2.0.0",
      "model_name": "DescriptionStyleModel",
      "state": {
       "description_width": ""
      }
     },
     "333d6679c54743f08fce4cfdf9e0f3ac": {
      "model_module": "@jupyter-widgets/controls",
      "model_module_version": "2.0.0",
      "model_name": "DescriptionStyleModel",
      "state": {
       "description_width": ""
      }
     },
     "33444c4147ce408ca7893ed37a975c32": {
      "model_module": "@jupyter-widgets/base",
      "model_module_version": "2.0.0",
      "model_name": "LayoutModel",
      "state": {}
     },
     "339148a291eb477cad5a8b67ccc0596a": {
      "model_module": "@jupyter-widgets/base",
      "model_module_version": "2.0.0",
      "model_name": "LayoutModel",
      "state": {}
     },
     "33ca7fcb3a904240aac0f7e2793e7b70": {
      "model_module": "@jupyter-widgets/controls",
      "model_module_version": "2.0.0",
      "model_name": "FloatTextModel",
      "state": {
       "description": "Hrz->Roadways",
       "layout": "IPY_MODEL_ae6322351a534e62878336d8c6f491e0",
       "step": null,
       "style": "IPY_MODEL_d2bb92dc2d384e638a877aa74425464f"
      }
     },
     "343aecff64454aa1ab7444da044e80f4": {
      "model_module": "@jupyter-widgets/controls",
      "model_module_version": "2.0.0",
      "model_name": "FloatTextModel",
      "state": {
       "description": "Leighcan F2",
       "layout": "IPY_MODEL_ea34fcc46f6844d6ba7e09afccef39a1",
       "step": null,
       "style": "IPY_MODEL_af6a16ed3a534c8aa68c2aca7aa98b43"
      }
     },
     "358c68b6c530426d8f4298e4e93f5846": {
      "model_module": "@jupyter-widgets/controls",
      "model_module_version": "2.0.0",
      "model_name": "FloatTextModel",
      "state": {
       "description": "LeighcanF5",
       "layout": "IPY_MODEL_1ae4c4a03f2f4f439ef2a5c3cd123619",
       "step": null,
       "style": "IPY_MODEL_bd8eb41317c74e358eae787352c0f9a0"
      }
     },
     "35c5fdeee6f24c5fa1e7863d030238a8": {
      "model_module": "@jupyter-widgets/controls",
      "model_module_version": "2.0.0",
      "model_name": "LabelModel",
      "state": {
       "layout": "IPY_MODEL_f79f67e4e24a430db7ad8900d1740213",
       "style": "IPY_MODEL_533a35a2e9ad47c6ab449b29c2488a08",
       "value": "Enter values and press \"Predict Cover Type\" to run"
      }
     },
     "36ba9c17e5fd45b4add0143c47c18034": {
      "model_module": "@jupyter-widgets/controls",
      "model_module_version": "2.0.0",
      "model_name": "DescriptionStyleModel",
      "state": {
       "description_width": ""
      }
     },
     "37a6a2f5b19a4a2ab0fe69b5d2acfa71": {
      "model_module": "@jupyter-widgets/controls",
      "model_module_version": "2.0.0",
      "model_name": "DescriptionStyleModel",
      "state": {
       "description_width": ""
      }
     },
     "384f682a745a4fd188d15e68e1b06805": {
      "model_module": "@jupyter-widgets/base",
      "model_module_version": "2.0.0",
      "model_name": "LayoutModel",
      "state": {}
     },
     "3889ef70fabc4569b5c4ea3ed0075d54": {
      "model_module": "@jupyter-widgets/controls",
      "model_module_version": "2.0.0",
      "model_name": "DescriptionStyleModel",
      "state": {
       "description_width": ""
      }
     },
     "393b532734ac4b0793519b855d526472": {
      "model_module": "@jupyter-widgets/controls",
      "model_module_version": "2.0.0",
      "model_name": "DescriptionStyleModel",
      "state": {
       "description_width": ""
      }
     },
     "3a3ed4cbab6b4f08921478649f4359f2": {
      "model_module": "@jupyter-widgets/controls",
      "model_module_version": "2.0.0",
      "model_name": "FloatTextModel",
      "state": {
       "description": "Leighcan F4",
       "layout": "IPY_MODEL_e3040acf9c5e439da333ae261d050b4c",
       "step": null,
       "style": "IPY_MODEL_d7940b9f2ed346ce9e0c02b5b0293538"
      }
     },
     "3a6bf0b7926a4a8fac0ea3a6d903f2a7": {
      "model_module": "@jupyter-widgets/controls",
      "model_module_version": "2.0.0",
      "model_name": "FloatTextModel",
      "state": {
       "description": "Gateview F",
       "layout": "IPY_MODEL_0ee9f77e38f64092880242a5d4fa63e8",
       "step": null,
       "style": "IPY_MODEL_616c5644a3984b71953e2791ccf93563"
      }
     },
     "3b10916778d84397b613e4f2dfc226d7": {
      "model_module": "@jupyter-widgets/controls",
      "model_module_version": "2.0.0",
      "model_name": "DescriptionStyleModel",
      "state": {
       "description_width": ""
      }
     },
     "3b3773460343462bbaeb556c14223ce8": {
      "model_module": "@jupyter-widgets/controls",
      "model_module_version": "2.0.0",
      "model_name": "FloatTextModel",
      "state": {
       "description": "Comanche",
       "layout": "IPY_MODEL_f53e13a5b0864f118bd8c6d728c9ea90",
       "step": null,
       "style": "IPY_MODEL_8ba7568ee85d42639eea922c148c562b"
      }
     },
     "3b9ff9b244504f3ab424a2f41b83dc93": {
      "model_module": "@jupyter-widgets/base",
      "model_module_version": "2.0.0",
      "model_name": "LayoutModel",
      "state": {}
     },
     "3c33d1b15e2b4a6a85a5190c5050ce38": {
      "model_module": "@jupyter-widgets/base",
      "model_module_version": "2.0.0",
      "model_name": "LayoutModel",
      "state": {}
     },
     "3c72e4daf66c4850b58a1f8b969cdddb": {
      "model_module": "@jupyter-widgets/controls",
      "model_module_version": "2.0.0",
      "model_name": "FloatTextModel",
      "state": {
       "description": "Rogert F",
       "layout": "IPY_MODEL_2e982e84b0b24c068f936120d4fc1647",
       "step": null,
       "style": "IPY_MODEL_3085e067fb2744c8ad719de3d9ec9fb3"
      }
     },
     "3cdf2c50da1346a9bc16db5272eb3a7c": {
      "model_module": "@jupyter-widgets/controls",
      "model_module_version": "2.0.0",
      "model_name": "DescriptionStyleModel",
      "state": {
       "description_width": ""
      }
     },
     "3ceab377005b4558b7f8238c930488b2": {
      "model_module": "@jupyter-widgets/base",
      "model_module_version": "2.0.0",
      "model_name": "LayoutModel",
      "state": {}
     },
     "3d094540fd654770ac4374a482d9ca47": {
      "model_module": "@jupyter-widgets/controls",
      "model_module_version": "2.0.0",
      "model_name": "DescriptionStyleModel",
      "state": {
       "description_width": ""
      }
     },
     "3d8691046aa948aca0085a0c75d6a4d6": {
      "model_module": "@jupyter-widgets/controls",
      "model_module_version": "2.0.0",
      "model_name": "DescriptionStyleModel",
      "state": {
       "description_width": ""
      }
     },
     "3daacde491ba4203a553f8f81b1d7eae": {
      "model_module": "@jupyter-widgets/base",
      "model_module_version": "2.0.0",
      "model_name": "LayoutModel",
      "state": {}
     },
     "3e4c1f3fb64e4d2eb91f3b002b2180bd": {
      "model_module": "@jupyter-widgets/controls",
      "model_module_version": "2.0.0",
      "model_name": "ButtonModel",
      "state": {
       "description": "Calculate % Accuracy",
       "layout": "IPY_MODEL_c50cfd8520c3464d9e3bbe14c20f9cb9",
       "style": "IPY_MODEL_ff1f1f41c5b74dd78b5c6fa01587e468",
       "tooltip": null
      }
     },
     "3efcf743058c4e38ab77672cca541cbf": {
      "model_module": "@jupyter-widgets/base",
      "model_module_version": "2.0.0",
      "model_name": "LayoutModel",
      "state": {}
     },
     "3fe2fef875064d8e99129959b3458cc9": {
      "model_module": "@jupyter-widgets/controls",
      "model_module_version": "2.0.0",
      "model_name": "FloatTextModel",
      "state": {
       "description": "Rock O",
       "layout": "IPY_MODEL_9bc1d616e2dc498e9d6d877368c0fa72",
       "step": null,
       "style": "IPY_MODEL_2bed6db7244e4d55a65b1971ec429f66"
      }
     },
     "405af5d9d0b84db29113d5883b7a27c1": {
      "model_module": "@jupyter-widgets/controls",
      "model_module_version": "2.0.0",
      "model_name": "DescriptionStyleModel",
      "state": {
       "description_width": ""
      }
     },
     "40f3b5421ef843ce8cd275a292062f24": {
      "model_module": "@jupyter-widgets/controls",
      "model_module_version": "2.0.0",
      "model_name": "FloatTextModel",
      "state": {
       "description": "TypicQuolis",
       "layout": "IPY_MODEL_1ac8548ad42249c189d28b72ef4d20ec",
       "step": null,
       "style": "IPY_MODEL_3889ef70fabc4569b5c4ea3ed0075d54"
      }
     },
     "41a2b5649a8040559a4d7052d668dad3": {
      "model_module": "@jupyter-widgets/controls",
      "model_module_version": "2.0.0",
      "model_name": "FloatTextModel",
      "state": {
       "description": "Ratake F",
       "layout": "IPY_MODEL_6cb3d590e7c742aeb5eddf0320cf0657",
       "step": null,
       "style": "IPY_MODEL_e129f700c8e2408f9e7ddad58479f410"
      }
     },
     "41af11d6b2c54613be11c2d17641e53a": {
      "model_module": "@jupyter-widgets/base",
      "model_module_version": "2.0.0",
      "model_name": "LayoutModel",
      "state": {}
     },
     "433e59ca60c347d19603c983bc8b23e8": {
      "model_module": "@jupyter-widgets/controls",
      "model_module_version": "2.0.0",
      "model_name": "DescriptionStyleModel",
      "state": {
       "description_width": ""
      }
     },
     "43d4b41f1f2247c2a8fa5b9ab5bf5403": {
      "model_module": "@jupyter-widgets/controls",
      "model_module_version": "2.0.0",
      "model_name": "FloatTextModel",
      "state": {
       "description": "Vanet F",
       "layout": "IPY_MODEL_4c2ebccd0e9b4adc8f911f542a935d20",
       "step": null,
       "style": "IPY_MODEL_64e15692ac09473eb4f0cb2b13b5f621"
      }
     },
     "43de2c7a6cd94c94a5fc09bf420544ac": {
      "model_module": "@jupyter-widgets/base",
      "model_module_version": "2.0.0",
      "model_name": "LayoutModel",
      "state": {}
     },
     "442dc009c3e6415fa52c7a993db62490": {
      "model_module": "@jupyter-widgets/controls",
      "model_module_version": "2.0.0",
      "model_name": "FloatTextModel",
      "state": {
       "description": "Vanet F",
       "layout": "IPY_MODEL_cd5810654b7947e0a364e4048d9bccfb",
       "step": null,
       "style": "IPY_MODEL_a4e3250d09174f8093092df51d49c34f"
      }
     },
     "445f0f119f36496086402fab1d9f9dc0": {
      "model_module": "@jupyter-widgets/controls",
      "model_module_version": "2.0.0",
      "model_name": "DescriptionStyleModel",
      "state": {
       "description_width": ""
      }
     },
     "4471374a5d874cea93604f2c6e6ab27a": {
      "model_module": "@jupyter-widgets/controls",
      "model_module_version": "2.0.0",
      "model_name": "FloatTextModel",
      "state": {
       "description": "Slope",
       "layout": "IPY_MODEL_b6dc0b28e6ac453fa05e4cc09933d257",
       "step": null,
       "style": "IPY_MODEL_1d17c8b647af4f609cc3ca72553d37f0"
      }
     },
     "4528f77a1ba3428d936960dd4dd2aa9b": {
      "model_module": "@jupyter-widgets/controls",
      "model_module_version": "2.0.0",
      "model_name": "FloatTextModel",
      "state": {
       "description": "Troutville F",
       "layout": "IPY_MODEL_fa49e0174b764e4e9f1f011b7d0d4acf",
       "step": null,
       "style": "IPY_MODEL_c7a65a68353d4724803212a30835ee37"
      }
     },
     "4532ef585d9242ee93b0e761aab2be51": {
      "model_module": "@jupyter-widgets/controls",
      "model_module_version": "2.0.0",
      "model_name": "VBoxModel",
      "state": {
       "children": [
        "IPY_MODEL_6c66c4938b2d443a9b74816c5328104d",
        "IPY_MODEL_d533f79d2c2f48aa963adf5a2209d7db"
       ],
       "layout": "IPY_MODEL_e57abe93426542c88561b6c792b71917"
      }
     },
     "4548890ef8c54f9587be9953f3b3e4f4": {
      "model_module": "@jupyter-widgets/controls",
      "model_module_version": "2.0.0",
      "model_name": "DescriptionStyleModel",
      "state": {
       "description_width": ""
      }
     },
     "454f867028764ab8bad8158548db4665": {
      "model_module": "@jupyter-widgets/controls",
      "model_module_version": "2.0.0",
      "model_name": "VBoxModel",
      "state": {
       "children": [
        "IPY_MODEL_ecb47bbf22a0472b9193a59783e41e61",
        "IPY_MODEL_03441be88c8e4959ba9e32add572d9cc"
       ],
       "layout": "IPY_MODEL_738ae4de0f0946999c4b831e49faf785"
      }
     },
     "46677aee2b1a412e9259fec8ef6e237a": {
      "model_module": "@jupyter-widgets/controls",
      "model_module_version": "2.0.0",
      "model_name": "DescriptionStyleModel",
      "state": {
       "description_width": ""
      }
     },
     "46dc1b45b83b473c9a9ffd803c26cce4": {
      "model_module": "@jupyter-widgets/base",
      "model_module_version": "2.0.0",
      "model_name": "LayoutModel",
      "state": {}
     },
     "471ab8163191492085c831dfbcd6242e": {
      "model_module": "@jupyter-widgets/base",
      "model_module_version": "2.0.0",
      "model_name": "LayoutModel",
      "state": {}
     },
     "47784c9eb1f74e8cbd978d99f5943342": {
      "model_module": "@jupyter-widgets/controls",
      "model_module_version": "2.0.0",
      "model_name": "FloatTextModel",
      "state": {
       "description": "LeighcanWarm",
       "layout": "IPY_MODEL_3ceab377005b4558b7f8238c930488b2",
       "step": null,
       "style": "IPY_MODEL_bd1e4856a68746389cc56695f0e02361"
      }
     },
     "47f0ddf3c9b346c3baeb3e2d6c3148b1": {
      "model_module": "@jupyter-widgets/controls",
      "model_module_version": "2.0.0",
      "model_name": "FloatTextModel",
      "state": {
       "description": "Cache P",
       "layout": "IPY_MODEL_7e62aeaefe22439f8046f24054b0c293",
       "step": null,
       "style": "IPY_MODEL_a8cde1cf420b470e84c447ed3d90468a"
      }
     },
     "4858265ed19146da99925f7050ea1f42": {
      "model_module": "@jupyter-widgets/controls",
      "model_module_version": "2.0.0",
      "model_name": "DescriptionStyleModel",
      "state": {
       "description_width": ""
      }
     },
     "489d6f82f79e42dba7e97646686f92d2": {
      "model_module": "@jupyter-widgets/base",
      "model_module_version": "2.0.0",
      "model_name": "LayoutModel",
      "state": {}
     },
     "48b5da6a80034a39bccfae4eb753b67d": {
      "model_module": "@jupyter-widgets/controls",
      "model_module_version": "2.0.0",
      "model_name": "DescriptionStyleModel",
      "state": {
       "description_width": ""
      }
     },
     "48dc29acf6af4fb09528526822b44872": {
      "model_module": "@jupyter-widgets/controls",
      "model_module_version": "2.0.0",
      "model_name": "FloatTextModel",
      "state": {
       "description": "Neota",
       "layout": "IPY_MODEL_c4d9de9343bc411d8ef53644dac2cb25",
       "step": null,
       "style": "IPY_MODEL_515421628c294e849b195655afe23ecc"
      }
     },
     "4915a4b322be472286a91f27e3fe7c25": {
      "model_module": "@jupyter-widgets/controls",
      "model_module_version": "2.0.0",
      "model_name": "FloatTextModel",
      "state": {
       "description": "Moran F2",
       "layout": "IPY_MODEL_89b6c5a5e7a7426498bb0a6564909b8e",
       "step": null,
       "style": "IPY_MODEL_8fd9ea0cd52f42bfb318470da6da2f5a"
      }
     },
     "4ad2b74282a2478088dfb77763b1617f": {
      "model_module": "@jupyter-widgets/controls",
      "model_module_version": "2.0.0",
      "model_name": "DescriptionStyleModel",
      "state": {
       "description_width": ""
      }
     },
     "4af24f9c17e9439bb5993a83780b8e5f": {
      "model_module": "@jupyter-widgets/controls",
      "model_module_version": "2.0.0",
      "model_name": "FloatTextModel",
      "state": {
       "description": "HillNoon",
       "layout": "IPY_MODEL_e8ba9904b123420699e02c33338c862a",
       "step": null,
       "style": "IPY_MODEL_02f50847a20147359003cd2bbf0b01ec"
      }
     },
     "4b03b731fd5a4392b23b85dd70556bda": {
      "model_module": "@jupyter-widgets/controls",
      "model_module_version": "2.0.0",
      "model_name": "ButtonModel",
      "state": {
       "description": "Predict Cover Type",
       "layout": "IPY_MODEL_694f731f26d24cb98fd7cf4b115ae4af",
       "style": "IPY_MODEL_d970bd1aa1334ffe9b20249271dca542",
       "tooltip": null
      }
     },
     "4ba257c7a4674b00bb1c0b48d5c530c0": {
      "model_module": "@jupyter-widgets/controls",
      "model_module_version": "2.0.0",
      "model_name": "FloatTextModel",
      "state": {
       "description": "Leighcan F3",
       "layout": "IPY_MODEL_f3d1bd453b7e4c4d831a2cd6cc13ed03",
       "step": null,
       "style": "IPY_MODEL_a6eebe6ec259407ea4f451d4ec310a11"
      }
     },
     "4bfc8f2119654e9cb6fe1fee11032485": {
      "model_module": "@jupyter-widgets/base",
      "model_module_version": "2.0.0",
      "model_name": "LayoutModel",
      "state": {}
     },
     "4c2ebccd0e9b4adc8f911f542a935d20": {
      "model_module": "@jupyter-widgets/base",
      "model_module_version": "2.0.0",
      "model_name": "LayoutModel",
      "state": {}
     },
     "4d201a589a8b4159ac068ad188247ff7": {
      "model_module": "@jupyter-widgets/controls",
      "model_module_version": "2.0.0",
      "model_name": "DescriptionStyleModel",
      "state": {
       "description_width": ""
      }
     },
     "4d46064925e44f4f84fa80bd0417038b": {
      "model_module": "@jupyter-widgets/controls",
      "model_module_version": "2.0.0",
      "model_name": "FloatTextModel",
      "state": {
       "description": "LeighcanWarm",
       "layout": "IPY_MODEL_d2cf979720d3409481f5a01e787bdb23",
       "step": null,
       "style": "IPY_MODEL_e80d9ce9911547b9b81e058d7f567181"
      }
     },
     "4d46d6a793e94de083055262963a3098": {
      "model_module": "@jupyter-widgets/controls",
      "model_module_version": "2.0.0",
      "model_name": "FloatTextModel",
      "state": {
       "description": "Leighcan F6",
       "layout": "IPY_MODEL_f0b658395d8a4528a0cfa482d4962f6f",
       "step": null,
       "style": "IPY_MODEL_b44f40b54f74443bb4e1a0016df4bd87"
      }
     },
     "4d9952b6fc14457eab04b8d83dd3cd2b": {
      "model_module": "@jupyter-widgets/controls",
      "model_module_version": "2.0.0",
      "model_name": "FloatTextModel",
      "state": {
       "description": "Cryaquolis",
       "layout": "IPY_MODEL_ad1d885b2de6422487836a75817cd3dc",
       "step": null,
       "style": "IPY_MODEL_8311fe5a3f784f75bd7ce78c49d1edbb"
      }
     },
     "4fb31ea6525f48d786d0e1d2f54d525c": {
      "model_module": "@jupyter-widgets/base",
      "model_module_version": "2.0.0",
      "model_name": "LayoutModel",
      "state": {}
     },
     "5113706d56484915b97953d0169505e1": {
      "model_module": "@jupyter-widgets/controls",
      "model_module_version": "2.0.0",
      "model_name": "ButtonStyleModel",
      "state": {
       "font_family": null,
       "font_size": null,
       "font_style": null,
       "font_variant": null,
       "font_weight": null,
       "text_color": null,
       "text_decoration": null
      }
     },
     "51507c565dfe4ab48767260be75605ab": {
      "model_module": "@jupyter-widgets/base",
      "model_module_version": "2.0.0",
      "model_name": "LayoutModel",
      "state": {}
     },
     "515421628c294e849b195655afe23ecc": {
      "model_module": "@jupyter-widgets/controls",
      "model_module_version": "2.0.0",
      "model_name": "DescriptionStyleModel",
      "state": {
       "description_width": ""
      }
     },
     "5197c57fbd2e4e6d928ad2105091fe6c": {
      "model_module": "@jupyter-widgets/controls",
      "model_module_version": "2.0.0",
      "model_name": "FloatTextModel",
      "state": {
       "description": "Granile",
       "layout": "IPY_MODEL_bc99f8535bf647d4a95aeae3a29de02c",
       "step": null,
       "style": "IPY_MODEL_8014082d30bd4ef0ac8286bad1f53afd"
      }
     },
     "51e0c15baa0d46358dc22036b29f19d5": {
      "model_module": "@jupyter-widgets/base",
      "model_module_version": "2.0.0",
      "model_name": "LayoutModel",
      "state": {}
     },
     "52625c24261c45a999b64a75ad5534d0": {
      "model_module": "@jupyter-widgets/controls",
      "model_module_version": "2.0.0",
      "model_name": "FloatTextModel",
      "state": {
       "description": "Como F",
       "layout": "IPY_MODEL_d56f48165667400984d13c70ec31b31f",
       "step": null,
       "style": "IPY_MODEL_0cb847fd8217486f91fcd0730703daad"
      }
     },
     "5293c6f2c36a46b68ec4406b01680153": {
      "model_module": "@jupyter-widgets/base",
      "model_module_version": "2.0.0",
      "model_name": "LayoutModel",
      "state": {}
     },
     "533a35a2e9ad47c6ab449b29c2488a08": {
      "model_module": "@jupyter-widgets/controls",
      "model_module_version": "2.0.0",
      "model_name": "LabelStyleModel",
      "state": {
       "description_width": "",
       "font_family": null,
       "font_size": null,
       "font_style": null,
       "font_variant": null,
       "font_weight": null,
       "text_color": null,
       "text_decoration": null
      }
     },
     "53c4e0b152f543b89ef2f1142c24cfa7": {
      "model_module": "@jupyter-widgets/controls",
      "model_module_version": "2.0.0",
      "model_name": "DescriptionStyleModel",
      "state": {
       "description_width": ""
      }
     },
     "54127b8ec1af467f9f4751ecd26ef18c": {
      "model_module": "@jupyter-widgets/base",
      "model_module_version": "2.0.0",
      "model_name": "LayoutModel",
      "state": {}
     },
     "542752acf16f4ea78a279e84ffda9def": {
      "model_module": "@jupyter-widgets/controls",
      "model_module_version": "2.0.0",
      "model_name": "FloatTextModel",
      "state": {
       "description": "Cache P",
       "layout": "IPY_MODEL_2e9eb4526e924fabade2771c52312293",
       "step": null,
       "style": "IPY_MODEL_fad2752093e5463eba5dadfaebb6ea53"
      }
     },
     "547cc9bad65442fc9ac0a638f44dc296": {
      "model_module": "@jupyter-widgets/controls",
      "model_module_version": "2.0.0",
      "model_name": "DescriptionStyleModel",
      "state": {
       "description_width": ""
      }
     },
     "54998878388a46dfb739b0883fcd678d": {
      "model_module": "@jupyter-widgets/controls",
      "model_module_version": "2.0.0",
      "model_name": "FloatTextModel",
      "state": {
       "description": "Vanet Wet",
       "layout": "IPY_MODEL_b2aa59d4d090419eaa3744c238058bda",
       "step": null,
       "style": "IPY_MODEL_2c0b77bb228d4bf6a181fe6f1a78a447"
      }
     },
     "558f63375cc249479f3eaad972b412fd": {
      "model_module": "@jupyter-widgets/controls",
      "model_module_version": "2.0.0",
      "model_name": "FloatTextModel",
      "state": {
       "description": "Hrz->Roadways",
       "layout": "IPY_MODEL_a827991c2a404b519a1dba7e873ff8a5",
       "step": null,
       "style": "IPY_MODEL_cebed0fa4cd54b1388af23616eef92cb"
      }
     },
     "5691737037684cfd84c683d52adc763d": {
      "model_module": "@jupyter-widgets/controls",
      "model_module_version": "2.0.0",
      "model_name": "FloatTextModel",
      "state": {
       "description": "Bullwark L",
       "layout": "IPY_MODEL_956c352e278a480f80fee6a680d05ba2",
       "step": null,
       "style": "IPY_MODEL_d3583cc1b07b4dc1a0c01c99bfcaa212"
      }
     },
     "588843f7a98f49f2a072280a4c57b3aa": {
      "model_module": "@jupyter-widgets/controls",
      "model_module_version": "2.0.0",
      "model_name": "DescriptionStyleModel",
      "state": {
       "description_width": ""
      }
     },
     "58c4997b373e478d99abe61a01f6cc5e": {
      "model_module": "@jupyter-widgets/base",
      "model_module_version": "2.0.0",
      "model_name": "LayoutModel",
      "state": {}
     },
     "58c937c49e5d474f8d54c8f90f83a873": {
      "model_module": "@jupyter-widgets/controls",
      "model_module_version": "2.0.0",
      "model_name": "DescriptionStyleModel",
      "state": {
       "description_width": ""
      }
     },
     "58f90a94f88d4ed4b31ac25a6d96c5cd": {
      "model_module": "@jupyter-widgets/controls",
      "model_module_version": "2.0.0",
      "model_name": "FloatTextModel",
      "state": {
       "description": "Leighcan F7",
       "layout": "IPY_MODEL_ea15ce60ec544da093a8cc674510edc2",
       "step": null,
       "style": "IPY_MODEL_1a3758a869184800a9190c46711beefa"
      }
     },
     "595c2d2040b940a68926e9c18a426f3a": {
      "model_module": "@jupyter-widgets/controls",
      "model_module_version": "2.0.0",
      "model_name": "FloatTextModel",
      "state": {
       "description": "Pachic A",
       "layout": "IPY_MODEL_777794b41884471f90e8db4e28095ded",
       "step": null,
       "style": "IPY_MODEL_4d201a589a8b4159ac068ad188247ff7"
      }
     },
     "5968b6753ef744efad8f65001ab2b35d": {
      "model_module": "@jupyter-widgets/base",
      "model_module_version": "2.0.0",
      "model_name": "LayoutModel",
      "state": {}
     },
     "5c40853d90f745b3a2496e1b5d110444": {
      "model_module": "@jupyter-widgets/base",
      "model_module_version": "2.0.0",
      "model_name": "LayoutModel",
      "state": {}
     },
     "5ca52a4a2d2a44259f314c0ed4bceaf0": {
      "model_module": "@jupyter-widgets/controls",
      "model_module_version": "2.0.0",
      "model_name": "ButtonModel",
      "state": {
       "description": "Predict Cover Type",
       "layout": "IPY_MODEL_2f87a9bcb47d4adf80fb0de9c505dda5",
       "style": "IPY_MODEL_e4e192613cbd401e88236af98815525f",
       "tooltip": null
      }
     },
     "5d64e5b1f0674ee3bdb7c138994bdb66": {
      "model_module": "@jupyter-widgets/controls",
      "model_module_version": "2.0.0",
      "model_name": "DescriptionStyleModel",
      "state": {
       "description_width": ""
      }
     },
     "5da4e485b01940fd88a70885d2c0e616": {
      "model_module": "@jupyter-widgets/controls",
      "model_module_version": "2.0.0",
      "model_name": "DescriptionStyleModel",
      "state": {
       "description_width": ""
      }
     },
     "5e63775d0a18427698dfb486ab9dd5f7": {
      "model_module": "@jupyter-widgets/controls",
      "model_module_version": "2.0.0",
      "model_name": "FloatTextModel",
      "state": {
       "description": "HillNoon",
       "layout": "IPY_MODEL_d15c89b733ba4111a95ff7eb79bbd106",
       "step": null,
       "style": "IPY_MODEL_e0051ec561c947e5ba392994fbc05974"
      }
     },
     "5ec3ddd542734f5f87981b997b4a068d": {
      "model_module": "@jupyter-widgets/base",
      "model_module_version": "2.0.0",
      "model_name": "LayoutModel",
      "state": {}
     },
     "5f09b17d68d74703b5d482f439bb30d1": {
      "model_module": "@jupyter-widgets/controls",
      "model_module_version": "2.0.0",
      "model_name": "FloatTextModel",
      "state": {
       "description": "Legault F",
       "layout": "IPY_MODEL_65c8527600064db7b7eeb46208c721b5",
       "step": null,
       "style": "IPY_MODEL_5da4e485b01940fd88a70885d2c0e616"
      }
     },
     "5f962c5d96ad4161b2ba8cb9794e9c9c": {
      "model_module": "@jupyter-widgets/controls",
      "model_module_version": "2.0.0",
      "model_name": "FloatTextModel",
      "state": {
       "description": "Elev (m)",
       "layout": "IPY_MODEL_edc263dc2417458caa9d05908f719390",
       "step": null,
       "style": "IPY_MODEL_c762d63e29de4c0998ca47f07a3f4d8c"
      }
     },
     "5fd0659d5c5f4e1ea556a55cba4e227e": {
      "model_module": "@jupyter-widgets/base",
      "model_module_version": "2.0.0",
      "model_name": "LayoutModel",
      "state": {}
     },
     "6024d5513fb04781919e1b23dd5c8fd5": {
      "model_module": "@jupyter-widgets/controls",
      "model_module_version": "2.0.0",
      "model_name": "FloatTextModel",
      "state": {
       "description": "Catamount F2",
       "layout": "IPY_MODEL_14e3718d68d1447ba296826ca740e243",
       "step": null,
       "style": "IPY_MODEL_393b532734ac4b0793519b855d526472"
      }
     },
     "6054530d41804b38bfcb9b0cd57df453": {
      "model_module": "@jupyter-widgets/controls",
      "model_module_version": "2.0.0",
      "model_name": "DescriptionStyleModel",
      "state": {
       "description_width": ""
      }
     },
     "60a04f7e250c4965a0eaf7de78ef973f": {
      "model_module": "@jupyter-widgets/controls",
      "model_module_version": "2.0.0",
      "model_name": "DescriptionStyleModel",
      "state": {
       "description_width": ""
      }
     },
     "616c5644a3984b71953e2791ccf93563": {
      "model_module": "@jupyter-widgets/controls",
      "model_module_version": "2.0.0",
      "model_name": "DescriptionStyleModel",
      "state": {
       "description_width": ""
      }
     },
     "61c4ca029b2041d8951432b2e4b4ca5f": {
      "model_module": "@jupyter-widgets/controls",
      "model_module_version": "2.0.0",
      "model_name": "FloatTextModel",
      "state": {
       "description": "Supervisor",
       "layout": "IPY_MODEL_8f6890c5578a492884919b4c100a8aaa",
       "step": null,
       "style": "IPY_MODEL_bf662a1ff68b4b9e919a415ba8c925f2"
      }
     },
     "622dc37caf034fee83c7ab56dbb7bf94": {
      "model_module": "@jupyter-widgets/controls",
      "model_module_version": "2.0.0",
      "model_name": "FloatTextModel",
      "state": {
       "description": "Rock O",
       "layout": "IPY_MODEL_f86e52a97174460c97b63cc51119597f",
       "step": null,
       "style": "IPY_MODEL_1eedbb66134b468585b085b6c593b248"
      }
     },
     "630363e757714fc6b66e949a5e6268e9": {
      "model_module": "@jupyter-widgets/controls",
      "model_module_version": "2.0.0",
      "model_name": "DescriptionStyleModel",
      "state": {
       "description_width": ""
      }
     },
     "630b047625874e4cbf9dd97a1e77a540": {
      "model_module": "@jupyter-widgets/controls",
      "model_module_version": "2.0.0",
      "model_name": "DescriptionStyleModel",
      "state": {
       "description_width": ""
      }
     },
     "6393b862b74948ed80aea1b9cb81294f": {
      "model_module": "@jupyter-widgets/controls",
      "model_module_version": "2.0.0",
      "model_name": "FloatTextModel",
      "state": {
       "description": "TypicAquolls",
       "layout": "IPY_MODEL_3daacde491ba4203a553f8f81b1d7eae",
       "step": null,
       "style": "IPY_MODEL_7ddaf0a119c346018c6bef6facaed103"
      }
     },
     "639bb555bbf14b228412cabe6fc2c19e": {
      "model_module": "@jupyter-widgets/base",
      "model_module_version": "2.0.0",
      "model_name": "LayoutModel",
      "state": {}
     },
     "64b0421d8d87460daabd3ed993a92b15": {
      "model_module": "@jupyter-widgets/base",
      "model_module_version": "2.0.0",
      "model_name": "LayoutModel",
      "state": {}
     },
     "64e15692ac09473eb4f0cb2b13b5f621": {
      "model_module": "@jupyter-widgets/controls",
      "model_module_version": "2.0.0",
      "model_name": "DescriptionStyleModel",
      "state": {
       "description_width": ""
      }
     },
     "65c8527600064db7b7eeb46208c721b5": {
      "model_module": "@jupyter-widgets/base",
      "model_module_version": "2.0.0",
      "model_name": "LayoutModel",
      "state": {}
     },
     "6605bf9aacb3483995e3055eebc71e50": {
      "model_module": "@jupyter-widgets/controls",
      "model_module_version": "2.0.0",
      "model_name": "FloatTextModel",
      "state": {
       "description": "Slope",
       "layout": "IPY_MODEL_d14de79b187245dfb1dade225abe48fa",
       "step": null,
       "style": "IPY_MODEL_9797f362156c4c59855faa118acf5a1a"
      }
     },
     "672d272b9b8742c1aca08e7ed3e6028c": {
      "model_module": "@jupyter-widgets/base",
      "model_module_version": "2.0.0",
      "model_name": "LayoutModel",
      "state": {}
     },
     "681680907e05490f88084b4c2ea2f7e2": {
      "model_module": "@jupyter-widgets/controls",
      "model_module_version": "2.0.0",
      "model_name": "LabelModel",
      "state": {
       "layout": "IPY_MODEL_6a7e30b9ce8c4dccaf7eb1b67a25f6f4",
       "style": "IPY_MODEL_68355b4056894a65880109883e139b29",
       "value": "Enter values and press \"Predict Cover Type\" to run"
      }
     },
     "682640d761ff47329e677f7d8fee0281": {
      "model_module": "@jupyter-widgets/base",
      "model_module_version": "2.0.0",
      "model_name": "LayoutModel",
      "state": {}
     },
     "68355b4056894a65880109883e139b29": {
      "model_module": "@jupyter-widgets/controls",
      "model_module_version": "2.0.0",
      "model_name": "LabelStyleModel",
      "state": {
       "description_width": "",
       "font_family": null,
       "font_size": null,
       "font_style": null,
       "font_variant": null,
       "font_weight": null,
       "text_color": null,
       "text_decoration": null
      }
     },
     "68bc8618d35f4390b6ba0c32440076a7": {
      "model_module": "@jupyter-widgets/controls",
      "model_module_version": "2.0.0",
      "model_name": "DescriptionStyleModel",
      "state": {
       "description_width": ""
      }
     },
     "6917b4d312f5472f9e258126b3634c87": {
      "model_module": "@jupyter-widgets/controls",
      "model_module_version": "2.0.0",
      "model_name": "DescriptionStyleModel",
      "state": {
       "description_width": ""
      }
     },
     "694f731f26d24cb98fd7cf4b115ae4af": {
      "model_module": "@jupyter-widgets/base",
      "model_module_version": "2.0.0",
      "model_name": "LayoutModel",
      "state": {}
     },
     "6a7e30b9ce8c4dccaf7eb1b67a25f6f4": {
      "model_module": "@jupyter-widgets/base",
      "model_module_version": "2.0.0",
      "model_name": "LayoutModel",
      "state": {}
     },
     "6c5404eec4154d73a60f7552e4bcb08e": {
      "model_module": "@jupyter-widgets/controls",
      "model_module_version": "2.0.0",
      "model_name": "FloatTextModel",
      "state": {
       "description": "TypicQuepts",
       "layout": "IPY_MODEL_64b0421d8d87460daabd3ed993a92b15",
       "step": null,
       "style": "IPY_MODEL_97136e830f8445c386c66285d0faa5dc"
      }
     },
     "6c66c4938b2d443a9b74816c5328104d": {
      "model_module": "@jupyter-widgets/controls",
      "model_module_version": "2.0.0",
      "model_name": "ButtonModel",
      "state": {
       "description": "Calculate % Accuracy",
       "layout": "IPY_MODEL_c74a54a520744ab6a89186971582a430",
       "style": "IPY_MODEL_ec27340cc7364e8c9f31cc3f62dc4c08",
       "tooltip": null
      }
     },
     "6cb3d590e7c742aeb5eddf0320cf0657": {
      "model_module": "@jupyter-widgets/base",
      "model_module_version": "2.0.0",
      "model_name": "LayoutModel",
      "state": {}
     },
     "6d8f8b833abe4c32b16f59dc192b12bf": {
      "model_module": "@jupyter-widgets/controls",
      "model_module_version": "2.0.0",
      "model_name": "FloatTextModel",
      "state": {
       "description": "TypicQuolis",
       "layout": "IPY_MODEL_ba0d05e8cd67424083d2511ae81044e1",
       "step": null,
       "style": "IPY_MODEL_e74141c5784e40cc94d90237a06a3e6a"
      }
     },
     "6dad960e021e4d8fb8d18637ea0eb627": {
      "model_module": "@jupyter-widgets/controls",
      "model_module_version": "2.0.0",
      "model_name": "FloatTextModel",
      "state": {
       "description": "Hrz->Fire",
       "layout": "IPY_MODEL_9b26abd6feb042a6b8d26f3ad3e5c1fe",
       "step": null,
       "style": "IPY_MODEL_547cc9bad65442fc9ac0a638f44dc296"
      }
     },
     "6fcb1214230448f59438272dcf80efbf": {
      "model_module": "@jupyter-widgets/controls",
      "model_module_version": "2.0.0",
      "model_name": "FloatTextModel",
      "state": {
       "description": "Leighcan F8",
       "layout": "IPY_MODEL_f0e5d9a1331940b79d0faa1d47bb3b80",
       "step": null,
       "style": "IPY_MODEL_630b047625874e4cbf9dd97a1e77a540"
      }
     },
     "6fcd27f3fa55410eafdcb267df5c835b": {
      "model_module": "@jupyter-widgets/controls",
      "model_module_version": "2.0.0",
      "model_name": "FloatTextModel",
      "state": {
       "description": "Catamount F",
       "layout": "IPY_MODEL_41af11d6b2c54613be11c2d17641e53a",
       "step": null,
       "style": "IPY_MODEL_fc96935c8a364738bdbda324e506eee5"
      }
     },
     "701a6512850d456e837b42542ef9615e": {
      "model_module": "@jupyter-widgets/base",
      "model_module_version": "2.0.0",
      "model_name": "LayoutModel",
      "state": {}
     },
     "70410ed8e97347c8bba1bbf8b6f3bae4": {
      "model_module": "@jupyter-widgets/controls",
      "model_module_version": "2.0.0",
      "model_name": "FloatTextModel",
      "state": {
       "description": "Haploborolis",
       "layout": "IPY_MODEL_471ab8163191492085c831dfbcd6242e",
       "step": null,
       "style": "IPY_MODEL_99122d775df54949946891bd6c73a1f6"
      }
     },
     "708d027f79784c95b1422262d88e7f22": {
      "model_module": "@jupyter-widgets/controls",
      "model_module_version": "2.0.0",
      "model_name": "FloatTextModel",
      "state": {
       "description": "Vrt->Hydro",
       "layout": "IPY_MODEL_b37844eb405b48baa3d6d5ee0011d083",
       "step": null,
       "style": "IPY_MODEL_8c20d5ba20fc4d78ab036f01869ff845"
      }
     },
     "71c84120c2e842af8e6837824937e791": {
      "model_module": "@jupyter-widgets/controls",
      "model_module_version": "2.0.0",
      "model_name": "DescriptionStyleModel",
      "state": {
       "description_width": ""
      }
     },
     "71e5619372d9452bae819fb26dbe29da": {
      "model_module": "@jupyter-widgets/base",
      "model_module_version": "2.0.0",
      "model_name": "LayoutModel",
      "state": {}
     },
     "72110fd054434403a08dbeed88346064": {
      "model_module": "@jupyter-widgets/controls",
      "model_module_version": "2.0.0",
      "model_name": "DescriptionStyleModel",
      "state": {
       "description_width": ""
      }
     },
     "725962dbc40c4707863a1b7d3f8368ca": {
      "model_module": "@jupyter-widgets/controls",
      "model_module_version": "2.0.0",
      "model_name": "FloatTextModel",
      "state": {
       "description": "LeighcanF5",
       "layout": "IPY_MODEL_095e34355ce74de8a88a93014a41ec12",
       "step": null,
       "style": "IPY_MODEL_60a04f7e250c4965a0eaf7de78ef973f"
      }
     },
     "72e22aa884054ea9b2b1190091ea248e": {
      "model_module": "@jupyter-widgets/controls",
      "model_module_version": "2.0.0",
      "model_name": "DescriptionStyleModel",
      "state": {
       "description_width": ""
      }
     },
     "7370124847b1487e8598bf844856ef82": {
      "model_module": "@jupyter-widgets/controls",
      "model_module_version": "2.0.0",
      "model_name": "FloatTextModel",
      "state": {
       "description": "Cryumbrepts",
       "layout": "IPY_MODEL_a70edf68b1854658a3e7dca00365c4fd",
       "step": null,
       "style": "IPY_MODEL_f7579b6b46d44119b1f73b93058c81d3"
      }
     },
     "738ae4de0f0946999c4b831e49faf785": {
      "model_module": "@jupyter-widgets/base",
      "model_module_version": "2.0.0",
      "model_name": "LayoutModel",
      "state": {}
     },
     "73ee5881738d426381ed0a244344df77": {
      "model_module": "@jupyter-widgets/controls",
      "model_module_version": "2.0.0",
      "model_name": "FloatTextModel",
      "state": {
       "description": "Leighcan F2",
       "layout": "IPY_MODEL_7c91af57a5424455b6690aa210998ce1",
       "step": null,
       "style": "IPY_MODEL_fd86521b91254df39d98936eba7ea39f"
      }
     },
     "747a01f85e2e4078ba5ce23f4832c961": {
      "model_module": "@jupyter-widgets/controls",
      "model_module_version": "2.0.0",
      "model_name": "FloatTextModel",
      "state": {
       "description": "Leighcan F4",
       "layout": "IPY_MODEL_cfab80ea9d904cb0ab906c03824547d4",
       "step": null,
       "style": "IPY_MODEL_37a6a2f5b19a4a2ab0fe69b5d2acfa71"
      }
     },
     "76c881c98c1c4be5aa23290c60bee6dd": {
      "model_module": "@jupyter-widgets/controls",
      "model_module_version": "2.0.0",
      "model_name": "VBoxModel",
      "state": {
       "children": [
        "IPY_MODEL_a9199d087ad648be86384be4562bdd75",
        "IPY_MODEL_96c031b5d2574fa6854d54eedbb31578",
        "IPY_MODEL_4471374a5d874cea93604f2c6e6ab27a",
        "IPY_MODEL_ec668e70329a4ba19c294dc8a9829abc",
        "IPY_MODEL_a9997d0c04354965914078dbd911fe58",
        "IPY_MODEL_33ca7fcb3a904240aac0f7e2793e7b70",
        "IPY_MODEL_07dbd581fd8c4b1ca9bdf13a1a008655",
        "IPY_MODEL_4af24f9c17e9439bb5993a83780b8e5f",
        "IPY_MODEL_e627df8d1caf4dd5831a44f8471be106",
        "IPY_MODEL_6dad960e021e4d8fb8d18637ea0eb627",
        "IPY_MODEL_c896a80030884c5a80f3f305ab03ac77",
        "IPY_MODEL_48dc29acf6af4fb09528526822b44872",
        "IPY_MODEL_e0d1ed15fc64432aa4dad1d3e1483b62",
        "IPY_MODEL_fc9731fbc39042cc901b19af863bee99",
        "IPY_MODEL_e9f9a0b07aee46ae80e4c9ab1b7aecba",
        "IPY_MODEL_057e6052c047423a819c0b3d131ca294",
        "IPY_MODEL_70410ed8e97347c8bba1bbf8b6f3bae4",
        "IPY_MODEL_41a2b5649a8040559a4d7052d668dad3",
        "IPY_MODEL_442dc009c3e6415fa52c7a993db62490",
        "IPY_MODEL_bc1b1384d54a4a98acb398c4ef053d92",
        "IPY_MODEL_21aeeea72b12489296b25488368172e2",
        "IPY_MODEL_7cb19b043ad4497994566e8de4b57fbf",
        "IPY_MODEL_9df35644e0224b1984f2642a2c3af5b3",
        "IPY_MODEL_b407662b1cc3447bafb0a5703f229339",
        "IPY_MODEL_ee59044ad5024a9689c3efe8ee70590a",
        "IPY_MODEL_5f09b17d68d74703b5d482f439bb30d1",
        "IPY_MODEL_f372e8e5782a45fba1feb3cb24ce8359",
        "IPY_MODEL_d40b96d3ca164df4bdfc50f5f8249fab",
        "IPY_MODEL_a2d9a70a41384ac889866f5f646a30a7",
        "IPY_MODEL_b6dc07c1139848cd9ab6d675e145f805",
        "IPY_MODEL_aa2842d582e94cc9a28be39bcaa8b1df",
        "IPY_MODEL_3c72e4daf66c4850b58a1f8b969cdddb",
        "IPY_MODEL_02525c3ca08a4e9c84aa1d13859f4add",
        "IPY_MODEL_79f0fc10d0a642e68cd9136a7ffdde77",
        "IPY_MODEL_ce6d65d204b44fc78d8a3a55a522dacf",
        "IPY_MODEL_15a102f58ebe468d8cb5abdc74efa82b",
        "IPY_MODEL_de9fda8b835144e79dc16267d161df3d",
        "IPY_MODEL_4ba257c7a4674b00bb1c0b48d5c530c0",
        "IPY_MODEL_864dd847f5084f79b910bef9488f8669",
        "IPY_MODEL_e98f85086fc94ff08aa8415cc9338dd9",
        "IPY_MODEL_16fe9244234e4f22994160f639eb35ee",
        "IPY_MODEL_358c68b6c530426d8f4298e4e93f5846",
        "IPY_MODEL_9b1752410b0240baa37f9891f5c86ac6",
        "IPY_MODEL_e0bc8d45e39b4430acde9acb4b56ec4d",
        "IPY_MODEL_25e660a8eaac425182b6daddde502131",
        "IPY_MODEL_6024d5513fb04781919e1b23dd5c8fd5",
        "IPY_MODEL_8e9be2b6a647450099d3be3e53ef3ca8",
        "IPY_MODEL_2cf12f972a4c4f758a93a0d8c37d8b1d",
        "IPY_MODEL_7370124847b1487e8598bf844856ef82",
        "IPY_MODEL_b65c8f07d522478ba7a233a1433f129c",
        "IPY_MODEL_622dc37caf034fee83c7ab56dbb7bf94",
        "IPY_MODEL_814d020c8db24fd99bb386002eda8d88",
        "IPY_MODEL_02ccae1c79cd40de9f454cd92bdbd13a",
        "IPY_MODEL_e9fdff76a9284dd39259bcabba408f35",
        "IPY_MODEL_5ca52a4a2d2a44259f314c0ed4bceaf0",
        "IPY_MODEL_35c5fdeee6f24c5fa1e7863d030238a8"
       ],
       "layout": "IPY_MODEL_ea75bcd8da3b4f50b0995fe1da322660"
      }
     },
     "76cc374b5ea641cdabc515f629a70d8b": {
      "model_module": "@jupyter-widgets/controls",
      "model_module_version": "2.0.0",
      "model_name": "FloatTextModel",
      "state": {
       "description": "Moran F2",
       "layout": "IPY_MODEL_9cd6740956b44ae3837ee9f7f0143b9c",
       "step": null,
       "style": "IPY_MODEL_2ffef9f3e7b048c1aec114e7adcaf632"
      }
     },
     "7719cfd2a8d34103b7cf11bd068974e9": {
      "model_module": "@jupyter-widgets/base",
      "model_module_version": "2.0.0",
      "model_name": "LayoutModel",
      "state": {}
     },
     "777794b41884471f90e8db4e28095ded": {
      "model_module": "@jupyter-widgets/base",
      "model_module_version": "2.0.0",
      "model_name": "LayoutModel",
      "state": {}
     },
     "7796ead8156e46feaa267b4fd6e75e33": {
      "model_module": "@jupyter-widgets/controls",
      "model_module_version": "2.0.0",
      "model_name": "FloatTextModel",
      "state": {
       "description": "Como F",
       "layout": "IPY_MODEL_639bb555bbf14b228412cabe6fc2c19e",
       "step": null,
       "style": "IPY_MODEL_cd1f54bcd1af45cab178312950ef4518"
      }
     },
     "78b8d6f32b514db8a1750409eb4d1b99": {
      "model_module": "@jupyter-widgets/base",
      "model_module_version": "2.0.0",
      "model_name": "LayoutModel",
      "state": {}
     },
     "78f465b659d84f53b4b6c59fc07dcb3f": {
      "model_module": "@jupyter-widgets/base",
      "model_module_version": "2.0.0",
      "model_name": "LayoutModel",
      "state": {}
     },
     "791947d7144a45c497ed8acb841bc2ce": {
      "model_module": "@jupyter-widgets/controls",
      "model_module_version": "2.0.0",
      "model_name": "DescriptionStyleModel",
      "state": {
       "description_width": ""
      }
     },
     "79f0fc10d0a642e68cd9136a7ffdde77": {
      "model_module": "@jupyter-widgets/controls",
      "model_module_version": "2.0.0",
      "model_name": "FloatTextModel",
      "state": {
       "description": "TypicQuepts",
       "layout": "IPY_MODEL_fe08c0be0df649a4bd33618466fc5ef2",
       "step": null,
       "style": "IPY_MODEL_791947d7144a45c497ed8acb841bc2ce"
      }
     },
     "7a5be79a52b34cae8a057168f2f64675": {
      "model_module": "@jupyter-widgets/controls",
      "model_module_version": "2.0.0",
      "model_name": "ButtonStyleModel",
      "state": {
       "font_family": null,
       "font_size": null,
       "font_style": null,
       "font_variant": null,
       "font_weight": null,
       "text_color": null,
       "text_decoration": null
      }
     },
     "7a610e5a8f494548bc5f13351674cfec": {
      "model_module": "@jupyter-widgets/base",
      "model_module_version": "2.0.0",
      "model_name": "LayoutModel",
      "state": {}
     },
     "7a7953f3459341ad9c241cf3a0c3cc1c": {
      "model_module": "@jupyter-widgets/controls",
      "model_module_version": "2.0.0",
      "model_name": "DescriptionStyleModel",
      "state": {
       "description_width": ""
      }
     },
     "7b1408b16ff14af69fc48a5f4b173f0f": {
      "model_module": "@jupyter-widgets/controls",
      "model_module_version": "2.0.0",
      "model_name": "FloatTextModel",
      "state": {
       "description": "Haploborolis",
       "layout": "IPY_MODEL_8bee2b6de2b04ce1aaa1e46d45770c4a",
       "step": null,
       "style": "IPY_MODEL_72110fd054434403a08dbeed88346064"
      }
     },
     "7b3cd164c25b474db6e7b9581cbc287d": {
      "model_module": "@jupyter-widgets/controls",
      "model_module_version": "2.0.0",
      "model_name": "DescriptionStyleModel",
      "state": {
       "description_width": ""
      }
     },
     "7b8b34970ed24970bed0c5589358ed28": {
      "model_module": "@jupyter-widgets/controls",
      "model_module_version": "2.0.0",
      "model_name": "LabelStyleModel",
      "state": {
       "description_width": "",
       "font_family": null,
       "font_size": null,
       "font_style": null,
       "font_variant": null,
       "font_weight": null,
       "text_color": null,
       "text_decoration": null
      }
     },
     "7bc781adbd56429496676da9e01e189f": {
      "model_module": "@jupyter-widgets/controls",
      "model_module_version": "2.0.0",
      "model_name": "DescriptionStyleModel",
      "state": {
       "description_width": ""
      }
     },
     "7c91af57a5424455b6690aa210998ce1": {
      "model_module": "@jupyter-widgets/base",
      "model_module_version": "2.0.0",
      "model_name": "LayoutModel",
      "state": {}
     },
     "7c9461b64545473cb581ba7c888cba36": {
      "model_module": "@jupyter-widgets/controls",
      "model_module_version": "2.0.0",
      "model_name": "FloatTextModel",
      "state": {
       "description": "Neota",
       "layout": "IPY_MODEL_315de6dfbc9b44e1a434eef3aafc9871",
       "step": null,
       "style": "IPY_MODEL_99b14f69ed0f471c95688d6d746f9bcd"
      }
     },
     "7cb19b043ad4497994566e8de4b57fbf": {
      "model_module": "@jupyter-widgets/controls",
      "model_module_version": "2.0.0",
      "model_name": "FloatTextModel",
      "state": {
       "description": "Supervisor",
       "layout": "IPY_MODEL_3c33d1b15e2b4a6a85a5190c5050ce38",
       "step": null,
       "style": "IPY_MODEL_7bc781adbd56429496676da9e01e189f"
      }
     },
     "7d82436856e54c529c835aeef8f1a329": {
      "model_module": "@jupyter-widgets/base",
      "model_module_version": "2.0.0",
      "model_name": "LayoutModel",
      "state": {}
     },
     "7dbf200a818945f2a9caaf94ffe743e9": {
      "model_module": "@jupyter-widgets/controls",
      "model_module_version": "2.0.0",
      "model_name": "DescriptionStyleModel",
      "state": {
       "description_width": ""
      }
     },
     "7ddaf0a119c346018c6bef6facaed103": {
      "model_module": "@jupyter-widgets/controls",
      "model_module_version": "2.0.0",
      "model_name": "DescriptionStyleModel",
      "state": {
       "description_width": ""
      }
     },
     "7ddd4187dfd04df8b0010a98b6aaa670": {
      "model_module": "@jupyter-widgets/base",
      "model_module_version": "2.0.0",
      "model_name": "LayoutModel",
      "state": {}
     },
     "7de5a273cd2f45ce8e570c5242d964b6": {
      "model_module": "@jupyter-widgets/controls",
      "model_module_version": "2.0.0",
      "model_name": "DescriptionStyleModel",
      "state": {
       "description_width": ""
      }
     },
     "7de9ee99ee244d6880ad83a5c219e69f": {
      "model_module": "@jupyter-widgets/base",
      "model_module_version": "2.0.0",
      "model_name": "LayoutModel",
      "state": {}
     },
     "7e501739ec9f424382dbfd5a2b8d712b": {
      "model_module": "@jupyter-widgets/controls",
      "model_module_version": "2.0.0",
      "model_name": "DescriptionStyleModel",
      "state": {
       "description_width": ""
      }
     },
     "7e62aeaefe22439f8046f24054b0c293": {
      "model_module": "@jupyter-widgets/base",
      "model_module_version": "2.0.0",
      "model_name": "LayoutModel",
      "state": {}
     },
     "7ec12b44a46a43c0bfd935a81f2a043a": {
      "model_module": "@jupyter-widgets/controls",
      "model_module_version": "2.0.0",
      "model_name": "DescriptionStyleModel",
      "state": {
       "description_width": ""
      }
     },
     "7ec5dfbdcbcf4fe9989cc279587f707b": {
      "model_module": "@jupyter-widgets/controls",
      "model_module_version": "2.0.0",
      "model_name": "DescriptionStyleModel",
      "state": {
       "description_width": ""
      }
     },
     "7edc53c34ebf4fd79bd73a976c8eb28f": {
      "model_module": "@jupyter-widgets/controls",
      "model_module_version": "2.0.0",
      "model_name": "DescriptionStyleModel",
      "state": {
       "description_width": ""
      }
     },
     "7f7dbd5ecacc498d84d806957187d5f7": {
      "model_module": "@jupyter-widgets/controls",
      "model_module_version": "2.0.0",
      "model_name": "DescriptionStyleModel",
      "state": {
       "description_width": ""
      }
     },
     "8014082d30bd4ef0ac8286bad1f53afd": {
      "model_module": "@jupyter-widgets/controls",
      "model_module_version": "2.0.0",
      "model_name": "DescriptionStyleModel",
      "state": {
       "description_width": ""
      }
     },
     "814d020c8db24fd99bb386002eda8d88": {
      "model_module": "@jupyter-widgets/controls",
      "model_module_version": "2.0.0",
      "model_name": "FloatTextModel",
      "state": {
       "description": "Leighcan F8",
       "layout": "IPY_MODEL_e64cc4efa7b4449691f0a57f6b171334",
       "step": null,
       "style": "IPY_MODEL_aa1e9b5030554554bbe1c5d2a1164bb1"
      }
     },
     "828c67a9ebe34c79840fbd77037b8b61": {
      "model_module": "@jupyter-widgets/controls",
      "model_module_version": "2.0.0",
      "model_name": "DescriptionStyleModel",
      "state": {
       "description_width": ""
      }
     },
     "829ba52d7a944530896950095de8ff9f": {
      "model_module": "@jupyter-widgets/base",
      "model_module_version": "2.0.0",
      "model_name": "LayoutModel",
      "state": {}
     },
     "829c1340e44945dc9f9c954362d5aa59": {
      "model_module": "@jupyter-widgets/base",
      "model_module_version": "2.0.0",
      "model_name": "LayoutModel",
      "state": {}
     },
     "8311fe5a3f784f75bd7ce78c49d1edbb": {
      "model_module": "@jupyter-widgets/controls",
      "model_module_version": "2.0.0",
      "model_name": "DescriptionStyleModel",
      "state": {
       "description_width": ""
      }
     },
     "8335b422df184c838124a719db8293e0": {
      "model_module": "@jupyter-widgets/base",
      "model_module_version": "2.0.0",
      "model_name": "LayoutModel",
      "state": {}
     },
     "83780cf14e064192a9f5b349f6cfb90e": {
      "model_module": "@jupyter-widgets/controls",
      "model_module_version": "2.0.0",
      "model_name": "DescriptionStyleModel",
      "state": {
       "description_width": ""
      }
     },
     "847f760e96654ceaa0520325ee89dcca": {
      "model_module": "@jupyter-widgets/controls",
      "model_module_version": "2.0.0",
      "model_name": "DescriptionStyleModel",
      "state": {
       "description_width": ""
      }
     },
     "84af6b452edb4a28b03a76071af9d239": {
      "model_module": "@jupyter-widgets/base",
      "model_module_version": "2.0.0",
      "model_name": "LayoutModel",
      "state": {}
     },
     "858aa6774ef54e15bcbc3519848a83fc": {
      "model_module": "@jupyter-widgets/controls",
      "model_module_version": "2.0.0",
      "model_name": "DescriptionStyleModel",
      "state": {
       "description_width": ""
      }
     },
     "85f9c78bbc18464aa45b1af4f3d43e50": {
      "model_module": "@jupyter-widgets/base",
      "model_module_version": "2.0.0",
      "model_name": "LayoutModel",
      "state": {}
     },
     "864dd847f5084f79b910bef9488f8669": {
      "model_module": "@jupyter-widgets/controls",
      "model_module_version": "2.0.0",
      "model_name": "FloatTextModel",
      "state": {
       "description": "Leighcan F4",
       "layout": "IPY_MODEL_8d1b4755c01e476eacee27569cce61d4",
       "step": null,
       "style": "IPY_MODEL_96e53723a8ae4902b4492c5add23d59e"
      }
     },
     "88fb0690db8e4b2db23f640e9ed1dffe": {
      "model_module": "@jupyter-widgets/controls",
      "model_module_version": "2.0.0",
      "model_name": "DescriptionStyleModel",
      "state": {
       "description_width": ""
      }
     },
     "89b6c5a5e7a7426498bb0a6564909b8e": {
      "model_module": "@jupyter-widgets/base",
      "model_module_version": "2.0.0",
      "model_name": "LayoutModel",
      "state": {}
     },
     "89c3cccb752542e59a4470604802e557": {
      "model_module": "@jupyter-widgets/controls",
      "model_module_version": "2.0.0",
      "model_name": "FloatTextModel",
      "state": {
       "description": "Catamount F2",
       "layout": "IPY_MODEL_9b471941c8e443539d54df872fc1cc55",
       "step": null,
       "style": "IPY_MODEL_19463ab565bc4c8486813534844d6e9b"
      }
     },
     "8a59031a4eb84bc88ba60e966e701897": {
      "model_module": "@jupyter-widgets/base",
      "model_module_version": "2.0.0",
      "model_name": "LayoutModel",
      "state": {}
     },
     "8ba7568ee85d42639eea922c148c562b": {
      "model_module": "@jupyter-widgets/controls",
      "model_module_version": "2.0.0",
      "model_name": "DescriptionStyleModel",
      "state": {
       "description_width": ""
      }
     },
     "8bee2b6de2b04ce1aaa1e46d45770c4a": {
      "model_module": "@jupyter-widgets/base",
      "model_module_version": "2.0.0",
      "model_name": "LayoutModel",
      "state": {}
     },
     "8c20d5ba20fc4d78ab036f01869ff845": {
      "model_module": "@jupyter-widgets/controls",
      "model_module_version": "2.0.0",
      "model_name": "DescriptionStyleModel",
      "state": {
       "description_width": ""
      }
     },
     "8c2da8e3e3ea461c8eabc3c5b8537da8": {
      "model_module": "@jupyter-widgets/controls",
      "model_module_version": "2.0.0",
      "model_name": "FloatTextModel",
      "state": {
       "description": "Troutville F",
       "layout": "IPY_MODEL_2b535147bb6148749835c87fd46e55c0",
       "step": null,
       "style": "IPY_MODEL_31a97b756e0c496abb5d60baa9852499"
      }
     },
     "8cc01d93c0a84cd3aeb3f6af509de055": {
      "model_module": "@jupyter-widgets/controls",
      "model_module_version": "2.0.0",
      "model_name": "FloatTextModel",
      "state": {
       "description": "HillNoon",
       "layout": "IPY_MODEL_5fd0659d5c5f4e1ea556a55cba4e227e",
       "step": null,
       "style": "IPY_MODEL_330767e716cf451aa2f7a8ff81dd6b91"
      }
     },
     "8d1b4755c01e476eacee27569cce61d4": {
      "model_module": "@jupyter-widgets/base",
      "model_module_version": "2.0.0",
      "model_name": "LayoutModel",
      "state": {}
     },
     "8d40fa5572704065bfa0222ebe9d1e78": {
      "model_module": "@jupyter-widgets/controls",
      "model_module_version": "2.0.0",
      "model_name": "FloatTextModel",
      "state": {
       "description": "LeighcanF5",
       "layout": "IPY_MODEL_a573959dc3e64f9cbc03144ecbec32ca",
       "step": null,
       "style": "IPY_MODEL_4ad2b74282a2478088dfb77763b1617f"
      }
     },
     "8e2f5954943a4803a407228fc530a1fc": {
      "model_module": "@jupyter-widgets/base",
      "model_module_version": "2.0.0",
      "model_name": "LayoutModel",
      "state": {}
     },
     "8e9be2b6a647450099d3be3e53ef3ca8": {
      "model_module": "@jupyter-widgets/controls",
      "model_module_version": "2.0.0",
      "model_name": "FloatTextModel",
      "state": {
       "description": "Leighcan F7",
       "layout": "IPY_MODEL_339148a291eb477cad5a8b67ccc0596a",
       "step": null,
       "style": "IPY_MODEL_d8ff34e9ee954d0e99b0e8f951bafd0f"
      }
     },
     "8efc837ee295467f9454cd8cf4b73061": {
      "model_module": "@jupyter-widgets/controls",
      "model_module_version": "2.0.0",
      "model_name": "FloatTextModel",
      "state": {
       "description": "Cryorthents",
       "layout": "IPY_MODEL_384f682a745a4fd188d15e68e1b06805",
       "step": null,
       "style": "IPY_MODEL_7ec12b44a46a43c0bfd935a81f2a043a"
      }
     },
     "8f451402ed704ef7822b46e942a7047e": {
      "model_module": "@jupyter-widgets/controls",
      "model_module_version": "2.0.0",
      "model_name": "FloatTextModel",
      "state": {
       "description": "Gothic F",
       "layout": "IPY_MODEL_51e0c15baa0d46358dc22036b29f19d5",
       "step": null,
       "style": "IPY_MODEL_a752ee5016e849eeadb8fadc276fca69"
      }
     },
     "8f6890c5578a492884919b4c100a8aaa": {
      "model_module": "@jupyter-widgets/base",
      "model_module_version": "2.0.0",
      "model_name": "LayoutModel",
      "state": {}
     },
     "8fb7e6ea9d4644b3a8bf9297a3283a35": {
      "model_module": "@jupyter-widgets/controls",
      "model_module_version": "2.0.0",
      "model_name": "FloatTextModel",
      "state": {
       "description": "Leighcan F1",
       "layout": "IPY_MODEL_bb80eb67ced54f948d36f0e5f918a25b",
       "step": null,
       "style": "IPY_MODEL_828c67a9ebe34c79840fbd77037b8b61"
      }
     },
     "8fd9ea0cd52f42bfb318470da6da2f5a": {
      "model_module": "@jupyter-widgets/controls",
      "model_module_version": "2.0.0",
      "model_name": "DescriptionStyleModel",
      "state": {
       "description_width": ""
      }
     },
     "91f2f6f477ba4b4faed2a69e09477a75": {
      "model_module": "@jupyter-widgets/controls",
      "model_module_version": "2.0.0",
      "model_name": "FloatTextModel",
      "state": {
       "description": "Comanche",
       "layout": "IPY_MODEL_5293c6f2c36a46b68ec4406b01680153",
       "step": null,
       "style": "IPY_MODEL_a03c57cc599d4a66b4d121ff61d985d8"
      }
     },
     "927e876b98864a76877c523c75e76bf3": {
      "model_module": "@jupyter-widgets/controls",
      "model_module_version": "2.0.0",
      "model_name": "DescriptionStyleModel",
      "state": {
       "description_width": ""
      }
     },
     "93f07913e16f449f8e80d0777abc3a62": {
      "model_module": "@jupyter-widgets/base",
      "model_module_version": "2.0.0",
      "model_name": "LayoutModel",
      "state": {}
     },
     "956c352e278a480f80fee6a680d05ba2": {
      "model_module": "@jupyter-widgets/base",
      "model_module_version": "2.0.0",
      "model_name": "LayoutModel",
      "state": {}
     },
     "95a3cb968a7042838194ff1587d93846": {
      "model_module": "@jupyter-widgets/controls",
      "model_module_version": "2.0.0",
      "model_name": "VBoxModel",
      "state": {
       "children": [
        "IPY_MODEL_6c66c4938b2d443a9b74816c5328104d",
        "IPY_MODEL_d533f79d2c2f48aa963adf5a2209d7db"
       ],
       "layout": "IPY_MODEL_78f465b659d84f53b4b6c59fc07dcb3f"
      }
     },
     "96c031b5d2574fa6854d54eedbb31578": {
      "model_module": "@jupyter-widgets/controls",
      "model_module_version": "2.0.0",
      "model_name": "FloatTextModel",
      "state": {
       "description": "Aspect",
       "layout": "IPY_MODEL_2a50e7b8afea4741b8b3006ef821834c",
       "step": null,
       "style": "IPY_MODEL_5d64e5b1f0674ee3bdb7c138994bdb66"
      }
     },
     "96e53723a8ae4902b4492c5add23d59e": {
      "model_module": "@jupyter-widgets/controls",
      "model_module_version": "2.0.0",
      "model_name": "DescriptionStyleModel",
      "state": {
       "description_width": ""
      }
     },
     "97136e830f8445c386c66285d0faa5dc": {
      "model_module": "@jupyter-widgets/controls",
      "model_module_version": "2.0.0",
      "model_name": "DescriptionStyleModel",
      "state": {
       "description_width": ""
      }
     },
     "9797f362156c4c59855faa118acf5a1a": {
      "model_module": "@jupyter-widgets/controls",
      "model_module_version": "2.0.0",
      "model_name": "DescriptionStyleModel",
      "state": {
       "description_width": ""
      }
     },
     "99122d775df54949946891bd6c73a1f6": {
      "model_module": "@jupyter-widgets/controls",
      "model_module_version": "2.0.0",
      "model_name": "DescriptionStyleModel",
      "state": {
       "description_width": ""
      }
     },
     "992aaa6055c64006b3c4aa99ba777c68": {
      "model_module": "@jupyter-widgets/controls",
      "model_module_version": "2.0.0",
      "model_name": "FloatTextModel",
      "state": {
       "description": "Rawah",
       "layout": "IPY_MODEL_46dc1b45b83b473c9a9ffd803c26cce4",
       "step": null,
       "style": "IPY_MODEL_dc48b04554644c38ba78a659d8e124bb"
      }
     },
     "993fa3e8cc394d39827d6421172723d7": {
      "model_module": "@jupyter-widgets/controls",
      "model_module_version": "2.0.0",
      "model_name": "DescriptionStyleModel",
      "state": {
       "description_width": ""
      }
     },
     "99b14f69ed0f471c95688d6d746f9bcd": {
      "model_module": "@jupyter-widgets/controls",
      "model_module_version": "2.0.0",
      "model_name": "DescriptionStyleModel",
      "state": {
       "description_width": ""
      }
     },
     "99ec130b06b6481689d56202881be7a8": {
      "model_module": "@jupyter-widgets/base",
      "model_module_version": "2.0.0",
      "model_name": "LayoutModel",
      "state": {}
     },
     "9af1d0b66db84f14aba5ff624fafd1cd": {
      "model_module": "@jupyter-widgets/base",
      "model_module_version": "2.0.0",
      "model_name": "LayoutModel",
      "state": {}
     },
     "9b1752410b0240baa37f9891f5c86ac6": {
      "model_module": "@jupyter-widgets/controls",
      "model_module_version": "2.0.0",
      "model_name": "FloatTextModel",
      "state": {
       "description": "Como",
       "layout": "IPY_MODEL_b47a10db5b71485392e8e94618891d24",
       "step": null,
       "style": "IPY_MODEL_b1ed838634a24857b303534894dfd725"
      }
     },
     "9b26abd6feb042a6b8d26f3ad3e5c1fe": {
      "model_module": "@jupyter-widgets/base",
      "model_module_version": "2.0.0",
      "model_name": "LayoutModel",
      "state": {}
     },
     "9b471941c8e443539d54df872fc1cc55": {
      "model_module": "@jupyter-widgets/base",
      "model_module_version": "2.0.0",
      "model_name": "LayoutModel",
      "state": {}
     },
     "9b52bd0d5c6c4b739ea0f48da768c814": {
      "model_module": "@jupyter-widgets/controls",
      "model_module_version": "2.0.0",
      "model_name": "FloatTextModel",
      "state": {
       "description": "Vanet",
       "layout": "IPY_MODEL_c0ae4eda532b464a97a12595d6419593",
       "step": null,
       "style": "IPY_MODEL_7e501739ec9f424382dbfd5a2b8d712b"
      }
     },
     "9bc1d616e2dc498e9d6d877368c0fa72": {
      "model_module": "@jupyter-widgets/base",
      "model_module_version": "2.0.0",
      "model_name": "LayoutModel",
      "state": {}
     },
     "9cd6740956b44ae3837ee9f7f0143b9c": {
      "model_module": "@jupyter-widgets/base",
      "model_module_version": "2.0.0",
      "model_name": "LayoutModel",
      "state": {}
     },
     "9d0409d35055495fb4851ea8334ded7e": {
      "model_module": "@jupyter-widgets/controls",
      "model_module_version": "2.0.0",
      "model_name": "FloatTextModel",
      "state": {
       "description": "Catamount F2",
       "layout": "IPY_MODEL_829ba52d7a944530896950095de8ff9f",
       "step": null,
       "style": "IPY_MODEL_88fb0690db8e4b2db23f640e9ed1dffe"
      }
     },
     "9d19067243674113b47695b074c42c97": {
      "model_module": "@jupyter-widgets/base",
      "model_module_version": "2.0.0",
      "model_name": "LayoutModel",
      "state": {}
     },
     "9d571296500c44cf9ee08de3f8c8c4e1": {
      "model_module": "@jupyter-widgets/controls",
      "model_module_version": "2.0.0",
      "model_name": "FloatTextModel",
      "state": {
       "description": "Hrz->Roadways",
       "layout": "IPY_MODEL_0d7fcaf332114aa69e5601d53f89cef5",
       "step": null,
       "style": "IPY_MODEL_2ca64ee1decf4ca5aed53638dcf2c832"
      }
     },
     "9df35644e0224b1984f2642a2c3af5b3": {
      "model_module": "@jupyter-widgets/controls",
      "model_module_version": "2.0.0",
      "model_name": "FloatTextModel",
      "state": {
       "description": "Troutville F",
       "layout": "IPY_MODEL_7719cfd2a8d34103b7cf11bd068974e9",
       "step": null,
       "style": "IPY_MODEL_265dce6b26b64bd0a1156392635190f5"
      }
     },
     "9e7a0ad7adf940faa64f8f1a68b2661b": {
      "model_module": "@jupyter-widgets/controls",
      "model_module_version": "2.0.0",
      "model_name": "LabelModel",
      "state": {
       "layout": "IPY_MODEL_f09ed62679f547fd893b8deab58a3e75",
       "style": "IPY_MODEL_dcce27deef9948aaa9f3a6c26d624220",
       "value": "Enter values and press \"Predict Cover Type\" to run"
      }
     },
     "9f658fbc3b384d5daafce3703ba5e070": {
      "model_module": "@jupyter-widgets/controls",
      "model_module_version": "2.0.0",
      "model_name": "VBoxModel",
      "state": {
       "children": [
        "IPY_MODEL_5f962c5d96ad4161b2ba8cb9794e9c9c",
        "IPY_MODEL_b444c1b98ecd4c6589a1af1cbd1b2d8b",
        "IPY_MODEL_6605bf9aacb3483995e3055eebc71e50",
        "IPY_MODEL_be08a28f800d489284cc694a299bfb02",
        "IPY_MODEL_a6830ceb1579465096dbbdadfae7fb03",
        "IPY_MODEL_9d571296500c44cf9ee08de3f8c8c4e1",
        "IPY_MODEL_267c88efa55d4ab09deae8d841bb9fc5",
        "IPY_MODEL_5e63775d0a18427698dfb486ab9dd5f7",
        "IPY_MODEL_bad71d8dc8d64ba6a599a54b5a2aa4ce",
        "IPY_MODEL_17636d1826e440ab851836cab7db5ef5",
        "IPY_MODEL_cbc64856bee54781817b0d771878017f",
        "IPY_MODEL_1b2a568503934577b385db5f38290064",
        "IPY_MODEL_91f2f6f477ba4b4faed2a69e09477a75",
        "IPY_MODEL_47f0ddf3c9b346c3baeb3e2d6c3148b1",
        "IPY_MODEL_a5a11e91ec784a33bc505351f3b7a760",
        "IPY_MODEL_9b52bd0d5c6c4b739ea0f48da768c814",
        "IPY_MODEL_7b1408b16ff14af69fc48a5f4b173f0f",
        "IPY_MODEL_f511ade82def4c7fb5b14f56966bc09b",
        "IPY_MODEL_43d4b41f1f2247c2a8fa5b9ab5bf5403",
        "IPY_MODEL_aac45e244fa543758ce0ca5a2501e0e8",
        "IPY_MODEL_8f451402ed704ef7822b46e942a7047e",
        "IPY_MODEL_61c4ca029b2041d8951432b2e4b4ca5f",
        "IPY_MODEL_4528f77a1ba3428d936960dd4dd2aa9b",
        "IPY_MODEL_d17f6c74b1c54a898ccf526e11f80909",
        "IPY_MODEL_5691737037684cfd84c683d52adc763d",
        "IPY_MODEL_2725b0a4a0c34b8e99180f76a2b61b0e",
        "IPY_MODEL_bdd1a4b2ba9a40478ddc850345e628a9",
        "IPY_MODEL_595c2d2040b940a68926e9c18a426f3a",
        "IPY_MODEL_ab6b9944a4c3480f927b6754d6a2e757",
        "IPY_MODEL_d1184e6cb4dd4fd1aa6dd444e05cfe40",
        "IPY_MODEL_3a6bf0b7926a4a8fac0ea3a6d903f2a7",
        "IPY_MODEL_cd1122c771b44d44bee6b6a37814c86d",
        "IPY_MODEL_6d8f8b833abe4c32b16f59dc192b12bf",
        "IPY_MODEL_6c5404eec4154d73a60f7552e4bcb08e",
        "IPY_MODEL_6393b862b74948ed80aea1b9cb81294f",
        "IPY_MODEL_d77e28a2b2a0433f87dfd95203984e38",
        "IPY_MODEL_73ee5881738d426381ed0a244344df77",
        "IPY_MODEL_c59b9d520acc459a93863723d5f8743c",
        "IPY_MODEL_747a01f85e2e4078ba5ce23f4832c961",
        "IPY_MODEL_5197c57fbd2e4e6d928ad2105091fe6c",
        "IPY_MODEL_4d46064925e44f4f84fa80bd0417038b",
        "IPY_MODEL_8d40fa5572704065bfa0222ebe9d1e78",
        "IPY_MODEL_a3b26654e46d457586062d14461ff611",
        "IPY_MODEL_52625c24261c45a999b64a75ad5534d0",
        "IPY_MODEL_4d46d6a793e94de083055262963a3098",
        "IPY_MODEL_89c3cccb752542e59a4470604802e557",
        "IPY_MODEL_27724a297c9a4ff08f771147367b1276",
        "IPY_MODEL_00587782cb11418c8ed80c4359482496",
        "IPY_MODEL_e59d872bd69d41f289dbd6e801e82413",
        "IPY_MODEL_dcf71363edb345b59b18e044272a7c56",
        "IPY_MODEL_0b2ad7579bb14bc4a99af49a9a33559d",
        "IPY_MODEL_6fcb1214230448f59438272dcf80efbf",
        "IPY_MODEL_1f988778029b4ff187499c1b04655323",
        "IPY_MODEL_4915a4b322be472286a91f27e3fe7c25",
        "IPY_MODEL_4b03b731fd5a4392b23b85dd70556bda",
        "IPY_MODEL_681680907e05490f88084b4c2ea2f7e2"
       ],
       "layout": "IPY_MODEL_a16c76eb54ac4375bd9c33b16237cfd0"
      }
     },
     "a03c57cc599d4a66b4d121ff61d985d8": {
      "model_module": "@jupyter-widgets/controls",
      "model_module_version": "2.0.0",
      "model_name": "DescriptionStyleModel",
      "state": {
       "description_width": ""
      }
     },
     "a09efb0f8fb94596b2fdffcdee2b04a0": {
      "model_module": "@jupyter-widgets/controls",
      "model_module_version": "2.0.0",
      "model_name": "DescriptionStyleModel",
      "state": {
       "description_width": ""
      }
     },
     "a16c76eb54ac4375bd9c33b16237cfd0": {
      "model_module": "@jupyter-widgets/base",
      "model_module_version": "2.0.0",
      "model_name": "LayoutModel",
      "state": {}
     },
     "a215d81e24ae4298af29ba14dd2301a3": {
      "model_module": "@jupyter-widgets/base",
      "model_module_version": "2.0.0",
      "model_name": "LayoutModel",
      "state": {}
     },
     "a27730dc8df44b9ba07dd6fe6ddd1f02": {
      "model_module": "@jupyter-widgets/controls",
      "model_module_version": "2.0.0",
      "model_name": "FloatTextModel",
      "state": {
       "description": "TypicAquolls",
       "layout": "IPY_MODEL_0fb2760916864d37866f7c8a0faea1f2",
       "step": null,
       "style": "IPY_MODEL_af12ffd698da4e62894c2490045a1ce7"
      }
     },
     "a2d9a70a41384ac889866f5f646a30a7": {
      "model_module": "@jupyter-widgets/controls",
      "model_module_version": "2.0.0",
      "model_name": "FloatTextModel",
      "state": {
       "description": "Uns",
       "layout": "IPY_MODEL_d510dccb9f88471ba7bdd766c36c1849",
       "step": null,
       "style": "IPY_MODEL_a816403b0d04444fa33b450f80c0c570"
      }
     },
     "a36453cc40d74d29906edc2fcdc1f260": {
      "model_module": "@jupyter-widgets/controls",
      "model_module_version": "2.0.0",
      "model_name": "FloatTextModel",
      "state": {
       "description": "Legault F",
       "layout": "IPY_MODEL_1a79d4b21d874b8eba3b2db439a418b6",
       "step": null,
       "style": "IPY_MODEL_e107ab52a35c43cf965ddbc424d2fd08"
      }
     },
     "a3b26654e46d457586062d14461ff611": {
      "model_module": "@jupyter-widgets/controls",
      "model_module_version": "2.0.0",
      "model_name": "FloatTextModel",
      "state": {
       "description": "Como",
       "layout": "IPY_MODEL_e6f87a34324d4619860b4b756e08ccd5",
       "step": null,
       "style": "IPY_MODEL_3b10916778d84397b613e4f2dfc226d7"
      }
     },
     "a476f577adf340dd8520eabdf0a970d5": {
      "model_module": "@jupyter-widgets/controls",
      "model_module_version": "2.0.0",
      "model_name": "DescriptionStyleModel",
      "state": {
       "description_width": ""
      }
     },
     "a491c74542d44c29865fa6ff97c70f7d": {
      "model_module": "@jupyter-widgets/base",
      "model_module_version": "2.0.0",
      "model_name": "LayoutModel",
      "state": {}
     },
     "a4e3250d09174f8093092df51d49c34f": {
      "model_module": "@jupyter-widgets/controls",
      "model_module_version": "2.0.0",
      "model_name": "DescriptionStyleModel",
      "state": {
       "description_width": ""
      }
     },
     "a52d34bb4ce242b29e0083cbf0cdadf1": {
      "model_module": "@jupyter-widgets/controls",
      "model_module_version": "2.0.0",
      "model_name": "DescriptionStyleModel",
      "state": {
       "description_width": ""
      }
     },
     "a56e1f0807f84947881ff92a73c882e7": {
      "model_module": "@jupyter-widgets/base",
      "model_module_version": "2.0.0",
      "model_name": "LayoutModel",
      "state": {}
     },
     "a573959dc3e64f9cbc03144ecbec32ca": {
      "model_module": "@jupyter-widgets/base",
      "model_module_version": "2.0.0",
      "model_name": "LayoutModel",
      "state": {}
     },
     "a5a11e91ec784a33bc505351f3b7a760": {
      "model_module": "@jupyter-widgets/controls",
      "model_module_version": "2.0.0",
      "model_name": "FloatTextModel",
      "state": {
       "description": "Cathedral",
       "layout": "IPY_MODEL_a491c74542d44c29865fa6ff97c70f7d",
       "step": null,
       "style": "IPY_MODEL_d0fed10d16dc4d8e81b89b92fa0cad52"
      }
     },
     "a6830ceb1579465096dbbdadfae7fb03": {
      "model_module": "@jupyter-widgets/controls",
      "model_module_version": "2.0.0",
      "model_name": "FloatTextModel",
      "state": {
       "description": "Vrt->Hydro",
       "layout": "IPY_MODEL_e0e2b5939186438a94c6bce1202c8251",
       "step": null,
       "style": "IPY_MODEL_cea62e8cb65240f4a608bf7cb77ea6db"
      }
     },
     "a6eebe6ec259407ea4f451d4ec310a11": {
      "model_module": "@jupyter-widgets/controls",
      "model_module_version": "2.0.0",
      "model_name": "DescriptionStyleModel",
      "state": {
       "description_width": ""
      }
     },
     "a70edf68b1854658a3e7dca00365c4fd": {
      "model_module": "@jupyter-widgets/base",
      "model_module_version": "2.0.0",
      "model_name": "LayoutModel",
      "state": {}
     },
     "a752ee5016e849eeadb8fadc276fca69": {
      "model_module": "@jupyter-widgets/controls",
      "model_module_version": "2.0.0",
      "model_name": "DescriptionStyleModel",
      "state": {
       "description_width": ""
      }
     },
     "a7f1c9abfdb34abdbbc6ce5a836c13b5": {
      "model_module": "@jupyter-widgets/controls",
      "model_module_version": "2.0.0",
      "model_name": "DescriptionStyleModel",
      "state": {
       "description_width": ""
      }
     },
     "a816403b0d04444fa33b450f80c0c570": {
      "model_module": "@jupyter-widgets/controls",
      "model_module_version": "2.0.0",
      "model_name": "DescriptionStyleModel",
      "state": {
       "description_width": ""
      }
     },
     "a827991c2a404b519a1dba7e873ff8a5": {
      "model_module": "@jupyter-widgets/base",
      "model_module_version": "2.0.0",
      "model_name": "LayoutModel",
      "state": {}
     },
     "a8cde1cf420b470e84c447ed3d90468a": {
      "model_module": "@jupyter-widgets/controls",
      "model_module_version": "2.0.0",
      "model_name": "DescriptionStyleModel",
      "state": {
       "description_width": ""
      }
     },
     "a9199d087ad648be86384be4562bdd75": {
      "model_module": "@jupyter-widgets/controls",
      "model_module_version": "2.0.0",
      "model_name": "FloatTextModel",
      "state": {
       "description": "Elev (m)",
       "layout": "IPY_MODEL_e7677d883c4746328a184c11763f84ee",
       "step": null,
       "style": "IPY_MODEL_4548890ef8c54f9587be9953f3b3e4f4"
      }
     },
     "a9997d0c04354965914078dbd911fe58": {
      "model_module": "@jupyter-widgets/controls",
      "model_module_version": "2.0.0",
      "model_name": "FloatTextModel",
      "state": {
       "description": "Vrt->Hydro",
       "layout": "IPY_MODEL_c0f1f9bdf1d24f59a1015852c527731c",
       "step": null,
       "style": "IPY_MODEL_72e22aa884054ea9b2b1190091ea248e"
      }
     },
     "a9aed4f9ce9748b6be1f50a88fdb47f9": {
      "model_module": "@jupyter-widgets/controls",
      "model_module_version": "2.0.0",
      "model_name": "LabelModel",
      "state": {
       "layout": "IPY_MODEL_a56e1f0807f84947881ff92a73c882e7",
       "style": "IPY_MODEL_1e44a506cb39489f954f15614c6d8ce1",
       "value": "Press \"Calculate % Accuracy\" to predict "
      }
     },
     "aa1e9b5030554554bbe1c5d2a1164bb1": {
      "model_module": "@jupyter-widgets/controls",
      "model_module_version": "2.0.0",
      "model_name": "DescriptionStyleModel",
      "state": {
       "description_width": ""
      }
     },
     "aa2842d582e94cc9a28be39bcaa8b1df": {
      "model_module": "@jupyter-widgets/controls",
      "model_module_version": "2.0.0",
      "model_name": "FloatTextModel",
      "state": {
       "description": "Gateview F",
       "layout": "IPY_MODEL_78b8d6f32b514db8a1750409eb4d1b99",
       "step": null,
       "style": "IPY_MODEL_f38e59b9edff4711b599acb2cabd0374"
      }
     },
     "aac45e244fa543758ce0ca5a2501e0e8": {
      "model_module": "@jupyter-widgets/controls",
      "model_module_version": "2.0.0",
      "model_name": "FloatTextModel",
      "state": {
       "description": "Vanet Wet",
       "layout": "IPY_MODEL_a215d81e24ae4298af29ba14dd2301a3",
       "step": null,
       "style": "IPY_MODEL_30a1bd6edaa34c8284582e9fe074193a"
      }
     },
     "aaefd058e1d74caba9ee9613000d51aa": {
      "model_module": "@jupyter-widgets/controls",
      "model_module_version": "2.0.0",
      "model_name": "DescriptionStyleModel",
      "state": {
       "description_width": ""
      }
     },
     "ab6b9944a4c3480f927b6754d6a2e757": {
      "model_module": "@jupyter-widgets/controls",
      "model_module_version": "2.0.0",
      "model_name": "FloatTextModel",
      "state": {
       "description": "Uns",
       "layout": "IPY_MODEL_8335b422df184c838124a719db8293e0",
       "step": null,
       "style": "IPY_MODEL_aaefd058e1d74caba9ee9613000d51aa"
      }
     },
     "ac1371795ff044e28f3d6ecce8afe588": {
      "model_module": "@jupyter-widgets/base",
      "model_module_version": "2.0.0",
      "model_name": "LayoutModel",
      "state": {}
     },
     "ac50747970cd49faac9cbf608359f97f": {
      "model_module": "@jupyter-widgets/base",
      "model_module_version": "2.0.0",
      "model_name": "LayoutModel",
      "state": {}
     },
     "ac7c48c9fa69410c905f5203bca1d163": {
      "model_module": "@jupyter-widgets/base",
      "model_module_version": "2.0.0",
      "model_name": "LayoutModel",
      "state": {}
     },
     "acc1261e720845619fbf96227c471f50": {
      "model_module": "@jupyter-widgets/controls",
      "model_module_version": "2.0.0",
      "model_name": "DescriptionStyleModel",
      "state": {
       "description_width": ""
      }
     },
     "ad1d885b2de6422487836a75817cd3dc": {
      "model_module": "@jupyter-widgets/base",
      "model_module_version": "2.0.0",
      "model_name": "LayoutModel",
      "state": {}
     },
     "ad85406b92554374b78794685c498371": {
      "model_module": "@jupyter-widgets/controls",
      "model_module_version": "2.0.0",
      "model_name": "FloatTextModel",
      "state": {
       "description": "Rogert F",
       "layout": "IPY_MODEL_baa180a114274764abf6206ac5c0da58",
       "step": null,
       "style": "IPY_MODEL_a476f577adf340dd8520eabdf0a970d5"
      }
     },
     "ae6322351a534e62878336d8c6f491e0": {
      "model_module": "@jupyter-widgets/base",
      "model_module_version": "2.0.0",
      "model_name": "LayoutModel",
      "state": {}
     },
     "af12ffd698da4e62894c2490045a1ce7": {
      "model_module": "@jupyter-widgets/controls",
      "model_module_version": "2.0.0",
      "model_name": "DescriptionStyleModel",
      "state": {
       "description_width": ""
      }
     },
     "af6a16ed3a534c8aa68c2aca7aa98b43": {
      "model_module": "@jupyter-widgets/controls",
      "model_module_version": "2.0.0",
      "model_name": "DescriptionStyleModel",
      "state": {
       "description_width": ""
      }
     },
     "b0372e00e655435ebf04365418437387": {
      "model_module": "@jupyter-widgets/base",
      "model_module_version": "2.0.0",
      "model_name": "LayoutModel",
      "state": {}
     },
     "b1110dd88c774fa39066e3286422ac3f": {
      "model_module": "@jupyter-widgets/controls",
      "model_module_version": "2.0.0",
      "model_name": "DescriptionStyleModel",
      "state": {
       "description_width": ""
      }
     },
     "b1ed838634a24857b303534894dfd725": {
      "model_module": "@jupyter-widgets/controls",
      "model_module_version": "2.0.0",
      "model_name": "DescriptionStyleModel",
      "state": {
       "description_width": ""
      }
     },
     "b1ee0f96454e49f2add3806ee468683e": {
      "model_module": "@jupyter-widgets/controls",
      "model_module_version": "2.0.0",
      "model_name": "DescriptionStyleModel",
      "state": {
       "description_width": ""
      }
     },
     "b2aa59d4d090419eaa3744c238058bda": {
      "model_module": "@jupyter-widgets/base",
      "model_module_version": "2.0.0",
      "model_name": "LayoutModel",
      "state": {}
     },
     "b332c645fa15425eb6a5364f99172ba0": {
      "model_module": "@jupyter-widgets/controls",
      "model_module_version": "2.0.0",
      "model_name": "FloatTextModel",
      "state": {
       "description": "Gateview F",
       "layout": "IPY_MODEL_02af16da173e42ddb3e2d377090ea41a",
       "step": null,
       "style": "IPY_MODEL_b51a33002ff64f378622d71106e86d2b"
      }
     },
     "b367649f3601487ea70a2e7981eebdbb": {
      "model_module": "@jupyter-widgets/controls",
      "model_module_version": "2.0.0",
      "model_name": "FloatTextModel",
      "state": {
       "description": "Ratake F",
       "layout": "IPY_MODEL_682640d761ff47329e677f7d8fee0281",
       "step": null,
       "style": "IPY_MODEL_c0876b2df8794fa09ce8b0b1db7a6fb3"
      }
     },
     "b37844eb405b48baa3d6d5ee0011d083": {
      "model_module": "@jupyter-widgets/base",
      "model_module_version": "2.0.0",
      "model_name": "LayoutModel",
      "state": {}
     },
     "b407662b1cc3447bafb0a5703f229339": {
      "model_module": "@jupyter-widgets/controls",
      "model_module_version": "2.0.0",
      "model_name": "FloatTextModel",
      "state": {
       "description": "Bullwark O",
       "layout": "IPY_MODEL_baf0b7dd642d49c4b9412819dfec3a56",
       "step": null,
       "style": "IPY_MODEL_b763ce1ebccc453281edda8e1d47c253"
      }
     },
     "b42a2a57d9a340239afa9dc35ece117e": {
      "model_module": "@jupyter-widgets/controls",
      "model_module_version": "2.0.0",
      "model_name": "DescriptionStyleModel",
      "state": {
       "description_width": ""
      }
     },
     "b444c1b98ecd4c6589a1af1cbd1b2d8b": {
      "model_module": "@jupyter-widgets/controls",
      "model_module_version": "2.0.0",
      "model_name": "FloatTextModel",
      "state": {
       "description": "Aspect",
       "layout": "IPY_MODEL_84af6b452edb4a28b03a76071af9d239",
       "step": null,
       "style": "IPY_MODEL_1259bd0c01a047148d16738320f29f38"
      }
     },
     "b44f40b54f74443bb4e1a0016df4bd87": {
      "model_module": "@jupyter-widgets/controls",
      "model_module_version": "2.0.0",
      "model_name": "DescriptionStyleModel",
      "state": {
       "description_width": ""
      }
     },
     "b47a10db5b71485392e8e94618891d24": {
      "model_module": "@jupyter-widgets/base",
      "model_module_version": "2.0.0",
      "model_name": "LayoutModel",
      "state": {}
     },
     "b51a33002ff64f378622d71106e86d2b": {
      "model_module": "@jupyter-widgets/controls",
      "model_module_version": "2.0.0",
      "model_name": "DescriptionStyleModel",
      "state": {
       "description_width": ""
      }
     },
     "b65c8f07d522478ba7a233a1433f129c": {
      "model_module": "@jupyter-widgets/controls",
      "model_module_version": "2.0.0",
      "model_name": "FloatTextModel",
      "state": {
       "description": "Bross F",
       "layout": "IPY_MODEL_8a59031a4eb84bc88ba60e966e701897",
       "step": null,
       "style": "IPY_MODEL_cd85f22f4b2a4985a745f7c0a007bee3"
      }
     },
     "b6dc07c1139848cd9ab6d675e145f805": {
      "model_module": "@jupyter-widgets/controls",
      "model_module_version": "2.0.0",
      "model_name": "FloatTextModel",
      "state": {
       "description": "Cryaquolis",
       "layout": "IPY_MODEL_e2bc1bc3dd6349a988b7d4936eb65de4",
       "step": null,
       "style": "IPY_MODEL_927e876b98864a76877c523c75e76bf3"
      }
     },
     "b6dc0b28e6ac453fa05e4cc09933d257": {
      "model_module": "@jupyter-widgets/base",
      "model_module_version": "2.0.0",
      "model_name": "LayoutModel",
      "state": {}
     },
     "b713b44629024e5196918400a1b1f481": {
      "model_module": "@jupyter-widgets/controls",
      "model_module_version": "2.0.0",
      "model_name": "DescriptionStyleModel",
      "state": {
       "description_width": ""
      }
     },
     "b763ce1ebccc453281edda8e1d47c253": {
      "model_module": "@jupyter-widgets/controls",
      "model_module_version": "2.0.0",
      "model_name": "DescriptionStyleModel",
      "state": {
       "description_width": ""
      }
     },
     "b783196f5a48434691d0fb06e6d5e889": {
      "model_module": "@jupyter-widgets/base",
      "model_module_version": "2.0.0",
      "model_name": "LayoutModel",
      "state": {}
     },
     "b902e1b36b794a1285af23a86a9afdc4": {
      "model_module": "@jupyter-widgets/base",
      "model_module_version": "2.0.0",
      "model_name": "LayoutModel",
      "state": {}
     },
     "ba0d05e8cd67424083d2511ae81044e1": {
      "model_module": "@jupyter-widgets/base",
      "model_module_version": "2.0.0",
      "model_name": "LayoutModel",
      "state": {}
     },
     "baa180a114274764abf6206ac5c0da58": {
      "model_module": "@jupyter-widgets/base",
      "model_module_version": "2.0.0",
      "model_name": "LayoutModel",
      "state": {}
     },
     "baa585bc08154480a12907020448ff6d": {
      "model_module": "@jupyter-widgets/base",
      "model_module_version": "2.0.0",
      "model_name": "LayoutModel",
      "state": {}
     },
     "bad71d8dc8d64ba6a599a54b5a2aa4ce": {
      "model_module": "@jupyter-widgets/controls",
      "model_module_version": "2.0.0",
      "model_name": "FloatTextModel",
      "state": {
       "description": "HillSh3p",
       "layout": "IPY_MODEL_93f07913e16f449f8e80d0777abc3a62",
       "step": null,
       "style": "IPY_MODEL_190d54351cf24ef585180dbd0b1d7e7f"
      }
     },
     "baf0b7dd642d49c4b9412819dfec3a56": {
      "model_module": "@jupyter-widgets/base",
      "model_module_version": "2.0.0",
      "model_name": "LayoutModel",
      "state": {}
     },
     "bb80eb67ced54f948d36f0e5f918a25b": {
      "model_module": "@jupyter-widgets/base",
      "model_module_version": "2.0.0",
      "model_name": "LayoutModel",
      "state": {}
     },
     "bc1b1384d54a4a98acb398c4ef053d92": {
      "model_module": "@jupyter-widgets/controls",
      "model_module_version": "2.0.0",
      "model_name": "FloatTextModel",
      "state": {
       "description": "Vanet Wet",
       "layout": "IPY_MODEL_672d272b9b8742c1aca08e7ed3e6028c",
       "step": null,
       "style": "IPY_MODEL_a09efb0f8fb94596b2fdffcdee2b04a0"
      }
     },
     "bc8bcd3c47e04523a569ec619b257604": {
      "model_module": "@jupyter-widgets/controls",
      "model_module_version": "2.0.0",
      "model_name": "FloatTextModel",
      "state": {
       "description": "Bullwark O",
       "layout": "IPY_MODEL_ce7105992a7e47d89480f52465e62538",
       "step": null,
       "style": "IPY_MODEL_2309a9ab2eb44b1da97f5d94d6c92a74"
      }
     },
     "bc99f8535bf647d4a95aeae3a29de02c": {
      "model_module": "@jupyter-widgets/base",
      "model_module_version": "2.0.0",
      "model_name": "LayoutModel",
      "state": {}
     },
     "bcee260102144af0aea8e7615aa18028": {
      "model_module": "@jupyter-widgets/controls",
      "model_module_version": "2.0.0",
      "model_name": "DescriptionStyleModel",
      "state": {
       "description_width": ""
      }
     },
     "bd1e4856a68746389cc56695f0e02361": {
      "model_module": "@jupyter-widgets/controls",
      "model_module_version": "2.0.0",
      "model_name": "DescriptionStyleModel",
      "state": {
       "description_width": ""
      }
     },
     "bd8eb41317c74e358eae787352c0f9a0": {
      "model_module": "@jupyter-widgets/controls",
      "model_module_version": "2.0.0",
      "model_name": "DescriptionStyleModel",
      "state": {
       "description_width": ""
      }
     },
     "bdd1a4b2ba9a40478ddc850345e628a9": {
      "model_module": "@jupyter-widgets/controls",
      "model_module_version": "2.0.0",
      "model_name": "FloatTextModel",
      "state": {
       "description": "Catamount F",
       "layout": "IPY_MODEL_2abed5f009d54488a1ec975ff93fe716",
       "step": null,
       "style": "IPY_MODEL_a52d34bb4ce242b29e0083cbf0cdadf1"
      }
     },
     "bdd2adaddadf4bada5eaae15d7294dc2": {
      "model_module": "@jupyter-widgets/controls",
      "model_module_version": "2.0.0",
      "model_name": "FloatTextModel",
      "state": {
       "description": "Elev (m)",
       "layout": "IPY_MODEL_58c4997b373e478d99abe61a01f6cc5e",
       "step": null,
       "style": "IPY_MODEL_630363e757714fc6b66e949a5e6268e9"
      }
     },
     "be08a28f800d489284cc694a299bfb02": {
      "model_module": "@jupyter-widgets/controls",
      "model_module_version": "2.0.0",
      "model_name": "FloatTextModel",
      "state": {
       "description": "Hrz->Hydro",
       "layout": "IPY_MODEL_7de9ee99ee244d6880ad83a5c219e69f",
       "step": null,
       "style": "IPY_MODEL_b42a2a57d9a340239afa9dc35ece117e"
      }
     },
     "bed07d7b39864acca18ff6167b86e0a6": {
      "model_module": "@jupyter-widgets/base",
      "model_module_version": "2.0.0",
      "model_name": "LayoutModel",
      "state": {}
     },
     "bf662a1ff68b4b9e919a415ba8c925f2": {
      "model_module": "@jupyter-widgets/controls",
      "model_module_version": "2.0.0",
      "model_name": "DescriptionStyleModel",
      "state": {
       "description_width": ""
      }
     },
     "c0876b2df8794fa09ce8b0b1db7a6fb3": {
      "model_module": "@jupyter-widgets/controls",
      "model_module_version": "2.0.0",
      "model_name": "DescriptionStyleModel",
      "state": {
       "description_width": ""
      }
     },
     "c0ae4eda532b464a97a12595d6419593": {
      "model_module": "@jupyter-widgets/base",
      "model_module_version": "2.0.0",
      "model_name": "LayoutModel",
      "state": {}
     },
     "c0f1f9bdf1d24f59a1015852c527731c": {
      "model_module": "@jupyter-widgets/base",
      "model_module_version": "2.0.0",
      "model_name": "LayoutModel",
      "state": {}
     },
     "c0f65f543e694f2b8b89d80a6bae0229": {
      "model_module": "@jupyter-widgets/base",
      "model_module_version": "2.0.0",
      "model_name": "LayoutModel",
      "state": {}
     },
     "c15049c35ddc478580737186f3d13b34": {
      "model_module": "@jupyter-widgets/controls",
      "model_module_version": "2.0.0",
      "model_name": "DescriptionStyleModel",
      "state": {
       "description_width": ""
      }
     },
     "c19efa4f9fde4a2cb397af594c4bb1e9": {
      "model_module": "@jupyter-widgets/controls",
      "model_module_version": "2.0.0",
      "model_name": "DescriptionStyleModel",
      "state": {
       "description_width": ""
      }
     },
     "c21e743b926d456ab6b742126d3e0303": {
      "model_module": "@jupyter-widgets/base",
      "model_module_version": "2.0.0",
      "model_name": "LayoutModel",
      "state": {}
     },
     "c32d67208c964b22a0ce344b3a40e25f": {
      "model_module": "@jupyter-widgets/controls",
      "model_module_version": "2.0.0",
      "model_name": "DescriptionStyleModel",
      "state": {
       "description_width": ""
      }
     },
     "c45242cad49c47e9ab02c97e1f08cb12": {
      "model_module": "@jupyter-widgets/controls",
      "model_module_version": "2.0.0",
      "model_name": "DescriptionStyleModel",
      "state": {
       "description_width": ""
      }
     },
     "c4d9de9343bc411d8ef53644dac2cb25": {
      "model_module": "@jupyter-widgets/base",
      "model_module_version": "2.0.0",
      "model_name": "LayoutModel",
      "state": {}
     },
     "c50cfd8520c3464d9e3bbe14c20f9cb9": {
      "model_module": "@jupyter-widgets/base",
      "model_module_version": "2.0.0",
      "model_name": "LayoutModel",
      "state": {
       "width": "auto"
      }
     },
     "c59b9d520acc459a93863723d5f8743c": {
      "model_module": "@jupyter-widgets/controls",
      "model_module_version": "2.0.0",
      "model_name": "FloatTextModel",
      "state": {
       "description": "Leighcan F3",
       "layout": "IPY_MODEL_2db9a4bc3fcc4df293666258febff112",
       "step": null,
       "style": "IPY_MODEL_53c4e0b152f543b89ef2f1142c24cfa7"
      }
     },
     "c66df96d1c254cecb8dd0567e1714238": {
      "model_module": "@jupyter-widgets/base",
      "model_module_version": "2.0.0",
      "model_name": "LayoutModel",
      "state": {}
     },
     "c74a54a520744ab6a89186971582a430": {
      "model_module": "@jupyter-widgets/base",
      "model_module_version": "2.0.0",
      "model_name": "LayoutModel",
      "state": {
       "width": "auto"
      }
     },
     "c762d63e29de4c0998ca47f07a3f4d8c": {
      "model_module": "@jupyter-widgets/controls",
      "model_module_version": "2.0.0",
      "model_name": "DescriptionStyleModel",
      "state": {
       "description_width": ""
      }
     },
     "c78198f548654eed9bcd21516715bd60": {
      "model_module": "@jupyter-widgets/controls",
      "model_module_version": "2.0.0",
      "model_name": "FloatTextModel",
      "state": {
       "description": "Pachic A",
       "layout": "IPY_MODEL_4bfc8f2119654e9cb6fe1fee11032485",
       "step": null,
       "style": "IPY_MODEL_46677aee2b1a412e9259fec8ef6e237a"
      }
     },
     "c79c07de57af4c01a41503d63f48c6de": {
      "model_module": "@jupyter-widgets/base",
      "model_module_version": "2.0.0",
      "model_name": "LayoutModel",
      "state": {}
     },
     "c7a65a68353d4724803212a30835ee37": {
      "model_module": "@jupyter-widgets/controls",
      "model_module_version": "2.0.0",
      "model_name": "DescriptionStyleModel",
      "state": {
       "description_width": ""
      }
     },
     "c896a80030884c5a80f3f305ab03ac77": {
      "model_module": "@jupyter-widgets/controls",
      "model_module_version": "2.0.0",
      "model_name": "FloatTextModel",
      "state": {
       "description": "Rawah",
       "layout": "IPY_MODEL_54127b8ec1af467f9f4751ecd26ef18c",
       "step": null,
       "style": "IPY_MODEL_b713b44629024e5196918400a1b1f481"
      }
     },
     "c8f2483014ff46a799cb487c31add470": {
      "model_module": "@jupyter-widgets/base",
      "model_module_version": "2.0.0",
      "model_name": "LayoutModel",
      "state": {}
     },
     "ca971c442d4745659bbeaed7d3694ff4": {
      "model_module": "@jupyter-widgets/controls",
      "model_module_version": "2.0.0",
      "model_name": "DescriptionStyleModel",
      "state": {
       "description_width": ""
      }
     },
     "cbc64856bee54781817b0d771878017f": {
      "model_module": "@jupyter-widgets/controls",
      "model_module_version": "2.0.0",
      "model_name": "FloatTextModel",
      "state": {
       "description": "Rawah",
       "layout": "IPY_MODEL_71e5619372d9452bae819fb26dbe29da",
       "step": null,
       "style": "IPY_MODEL_7f7dbd5ecacc498d84d806957187d5f7"
      }
     },
     "cd1122c771b44d44bee6b6a37814c86d": {
      "model_module": "@jupyter-widgets/controls",
      "model_module_version": "2.0.0",
      "model_name": "FloatTextModel",
      "state": {
       "description": "Rogert F",
       "layout": "IPY_MODEL_e56e9745c63f4fff8d80117400acfe6f",
       "step": null,
       "style": "IPY_MODEL_333d6679c54743f08fce4cfdf9e0f3ac"
      }
     },
     "cd1f54bcd1af45cab178312950ef4518": {
      "model_module": "@jupyter-widgets/controls",
      "model_module_version": "2.0.0",
      "model_name": "DescriptionStyleModel",
      "state": {
       "description_width": ""
      }
     },
     "cd5810654b7947e0a364e4048d9bccfb": {
      "model_module": "@jupyter-widgets/base",
      "model_module_version": "2.0.0",
      "model_name": "LayoutModel",
      "state": {}
     },
     "cd85f22f4b2a4985a745f7c0a007bee3": {
      "model_module": "@jupyter-widgets/controls",
      "model_module_version": "2.0.0",
      "model_name": "DescriptionStyleModel",
      "state": {
       "description_width": ""
      }
     },
     "ce6d65d204b44fc78d8a3a55a522dacf": {
      "model_module": "@jupyter-widgets/controls",
      "model_module_version": "2.0.0",
      "model_name": "FloatTextModel",
      "state": {
       "description": "TypicAquolls",
       "layout": "IPY_MODEL_eb17bca355424d699862f4cd767e2745",
       "step": null,
       "style": "IPY_MODEL_312b2a40c05e46d4a97496ea8192ec9c"
      }
     },
     "ce7105992a7e47d89480f52465e62538": {
      "model_module": "@jupyter-widgets/base",
      "model_module_version": "2.0.0",
      "model_name": "LayoutModel",
      "state": {}
     },
     "cea62e8cb65240f4a608bf7cb77ea6db": {
      "model_module": "@jupyter-widgets/controls",
      "model_module_version": "2.0.0",
      "model_name": "DescriptionStyleModel",
      "state": {
       "description_width": ""
      }
     },
     "cebed0fa4cd54b1388af23616eef92cb": {
      "model_module": "@jupyter-widgets/controls",
      "model_module_version": "2.0.0",
      "model_name": "DescriptionStyleModel",
      "state": {
       "description_width": ""
      }
     },
     "cf18fc205ef74acba077bb123cf8253f": {
      "model_module": "@jupyter-widgets/controls",
      "model_module_version": "2.0.0",
      "model_name": "FloatTextModel",
      "state": {
       "description": "Supervisor",
       "layout": "IPY_MODEL_c0f65f543e694f2b8b89d80a6bae0229",
       "step": null,
       "style": "IPY_MODEL_bcee260102144af0aea8e7615aa18028"
      }
     },
     "cfab80ea9d904cb0ab906c03824547d4": {
      "model_module": "@jupyter-widgets/base",
      "model_module_version": "2.0.0",
      "model_name": "LayoutModel",
      "state": {}
     },
     "d0d6b2104bb746c48f1681b6e4bb0387": {
      "model_module": "@jupyter-widgets/controls",
      "model_module_version": "2.0.0",
      "model_name": "FloatTextModel",
      "state": {
       "description": "Cathedral",
       "layout": "IPY_MODEL_4fb31ea6525f48d786d0e1d2f54d525c",
       "step": null,
       "style": "IPY_MODEL_ca971c442d4745659bbeaed7d3694ff4"
      }
     },
     "d0fed10d16dc4d8e81b89b92fa0cad52": {
      "model_module": "@jupyter-widgets/controls",
      "model_module_version": "2.0.0",
      "model_name": "DescriptionStyleModel",
      "state": {
       "description_width": ""
      }
     },
     "d1184e6cb4dd4fd1aa6dd444e05cfe40": {
      "model_module": "@jupyter-widgets/controls",
      "model_module_version": "2.0.0",
      "model_name": "FloatTextModel",
      "state": {
       "description": "Cryaquolis",
       "layout": "IPY_MODEL_1d83b38caf5d45e19f912fdbbd7c67eb",
       "step": null,
       "style": "IPY_MODEL_7dbf200a818945f2a9caaf94ffe743e9"
      }
     },
     "d14de79b187245dfb1dade225abe48fa": {
      "model_module": "@jupyter-widgets/base",
      "model_module_version": "2.0.0",
      "model_name": "LayoutModel",
      "state": {}
     },
     "d15c89b733ba4111a95ff7eb79bbd106": {
      "model_module": "@jupyter-widgets/base",
      "model_module_version": "2.0.0",
      "model_name": "LayoutModel",
      "state": {}
     },
     "d17f6c74b1c54a898ccf526e11f80909": {
      "model_module": "@jupyter-widgets/controls",
      "model_module_version": "2.0.0",
      "model_name": "FloatTextModel",
      "state": {
       "description": "Bullwark O",
       "layout": "IPY_MODEL_5968b6753ef744efad8f65001ab2b35d",
       "step": null,
       "style": "IPY_MODEL_3d094540fd654770ac4374a482d9ca47"
      }
     },
     "d2bb92dc2d384e638a877aa74425464f": {
      "model_module": "@jupyter-widgets/controls",
      "model_module_version": "2.0.0",
      "model_name": "DescriptionStyleModel",
      "state": {
       "description_width": ""
      }
     },
     "d2cf979720d3409481f5a01e787bdb23": {
      "model_module": "@jupyter-widgets/base",
      "model_module_version": "2.0.0",
      "model_name": "LayoutModel",
      "state": {}
     },
     "d3583cc1b07b4dc1a0c01c99bfcaa212": {
      "model_module": "@jupyter-widgets/controls",
      "model_module_version": "2.0.0",
      "model_name": "DescriptionStyleModel",
      "state": {
       "description_width": ""
      }
     },
     "d40b96d3ca164df4bdfc50f5f8249fab": {
      "model_module": "@jupyter-widgets/controls",
      "model_module_version": "2.0.0",
      "model_name": "FloatTextModel",
      "state": {
       "description": "Pachic A",
       "layout": "IPY_MODEL_9d19067243674113b47695b074c42c97",
       "step": null,
       "style": "IPY_MODEL_83780cf14e064192a9f5b349f6cfb90e"
      }
     },
     "d510dccb9f88471ba7bdd766c36c1849": {
      "model_module": "@jupyter-widgets/base",
      "model_module_version": "2.0.0",
      "model_name": "LayoutModel",
      "state": {}
     },
     "d533f79d2c2f48aa963adf5a2209d7db": {
      "model_module": "@jupyter-widgets/controls",
      "model_module_version": "2.0.0",
      "model_name": "LabelModel",
      "state": {
       "layout": "IPY_MODEL_b902e1b36b794a1285af23a86a9afdc4",
       "style": "IPY_MODEL_ecc969a8139641af839b71446745d0c3",
       "value": "Press \"Calculate % Accuracy\" to predict "
      }
     },
     "d563dd07563043239f4891a514bd3398": {
      "model_module": "@jupyter-widgets/controls",
      "model_module_version": "2.0.0",
      "model_name": "DescriptionStyleModel",
      "state": {
       "description_width": ""
      }
     },
     "d56804d7e1414d298e423cb141765385": {
      "model_module": "@jupyter-widgets/controls",
      "model_module_version": "2.0.0",
      "model_name": "DescriptionStyleModel",
      "state": {
       "description_width": ""
      }
     },
     "d56f48165667400984d13c70ec31b31f": {
      "model_module": "@jupyter-widgets/base",
      "model_module_version": "2.0.0",
      "model_name": "LayoutModel",
      "state": {}
     },
     "d6c640663f6b42e3b8c7344bb0f87caa": {
      "model_module": "@jupyter-widgets/base",
      "model_module_version": "2.0.0",
      "model_name": "LayoutModel",
      "state": {}
     },
     "d6ca7be5694140fba780cd2ab108f4eb": {
      "model_module": "@jupyter-widgets/controls",
      "model_module_version": "2.0.0",
      "model_name": "DescriptionStyleModel",
      "state": {
       "description_width": ""
      }
     },
     "d77e28a2b2a0433f87dfd95203984e38": {
      "model_module": "@jupyter-widgets/controls",
      "model_module_version": "2.0.0",
      "model_name": "FloatTextModel",
      "state": {
       "description": "Leighcan F1",
       "layout": "IPY_MODEL_f44696073fa646a8ad0d1f891e9a6ff3",
       "step": null,
       "style": "IPY_MODEL_1f4accf6bdb843f2af886503a4e9404c"
      }
     },
     "d7940b9f2ed346ce9e0c02b5b0293538": {
      "model_module": "@jupyter-widgets/controls",
      "model_module_version": "2.0.0",
      "model_name": "DescriptionStyleModel",
      "state": {
       "description_width": ""
      }
     },
     "d81268a82ebf4d41bcb0693b0f6b79f6": {
      "model_module": "@jupyter-widgets/controls",
      "model_module_version": "2.0.0",
      "model_name": "FloatTextModel",
      "state": {
       "description": "Uns",
       "layout": "IPY_MODEL_3b9ff9b244504f3ab424a2f41b83dc93",
       "step": null,
       "style": "IPY_MODEL_d563dd07563043239f4891a514bd3398"
      }
     },
     "d8ff34e9ee954d0e99b0e8f951bafd0f": {
      "model_module": "@jupyter-widgets/controls",
      "model_module_version": "2.0.0",
      "model_name": "DescriptionStyleModel",
      "state": {
       "description_width": ""
      }
     },
     "d970bd1aa1334ffe9b20249271dca542": {
      "model_module": "@jupyter-widgets/controls",
      "model_module_version": "2.0.0",
      "model_name": "ButtonStyleModel",
      "state": {
       "font_family": null,
       "font_size": null,
       "font_style": null,
       "font_variant": null,
       "font_weight": null,
       "text_color": null,
       "text_decoration": null
      }
     },
     "da54d72f88fb49b399e49910cf9ce1fd": {
      "model_module": "@jupyter-widgets/base",
      "model_module_version": "2.0.0",
      "model_name": "LayoutModel",
      "state": {}
     },
     "da563cf3d0b1413d97e121d271486615": {
      "model_module": "@jupyter-widgets/base",
      "model_module_version": "2.0.0",
      "model_name": "LayoutModel",
      "state": {}
     },
     "dc02370978be4dca9ff8aa13e1830e94": {
      "model_module": "@jupyter-widgets/controls",
      "model_module_version": "2.0.0",
      "model_name": "DescriptionStyleModel",
      "state": {
       "description_width": ""
      }
     },
     "dc48b04554644c38ba78a659d8e124bb": {
      "model_module": "@jupyter-widgets/controls",
      "model_module_version": "2.0.0",
      "model_name": "DescriptionStyleModel",
      "state": {
       "description_width": ""
      }
     },
     "dcce27deef9948aaa9f3a6c26d624220": {
      "model_module": "@jupyter-widgets/controls",
      "model_module_version": "2.0.0",
      "model_name": "LabelStyleModel",
      "state": {
       "description_width": "",
       "font_family": null,
       "font_size": null,
       "font_style": null,
       "font_variant": null,
       "font_weight": null,
       "text_color": null,
       "text_decoration": null
      }
     },
     "dcf659fe9e82416a911b9e54541f2211": {
      "model_module": "@jupyter-widgets/controls",
      "model_module_version": "2.0.0",
      "model_name": "VBoxModel",
      "state": {
       "children": [
        "IPY_MODEL_bdd2adaddadf4bada5eaae15d7294dc2",
        "IPY_MODEL_15756c4a1f28458e9aa9977e2878d6d1",
        "IPY_MODEL_dd5f981b4c4b484f848a05b35f38515f",
        "IPY_MODEL_fb19946c706e4ded8c38175612ff926a",
        "IPY_MODEL_708d027f79784c95b1422262d88e7f22",
        "IPY_MODEL_558f63375cc249479f3eaad972b412fd",
        "IPY_MODEL_dde28677f1884d8b94f397810302d5bc",
        "IPY_MODEL_8cc01d93c0a84cd3aeb3f6af509de055",
        "IPY_MODEL_0b3cb828facd41368343c55d56e3d085",
        "IPY_MODEL_195980a9566b49c995899475c3625895",
        "IPY_MODEL_992aaa6055c64006b3c4aa99ba777c68",
        "IPY_MODEL_7c9461b64545473cb581ba7c888cba36",
        "IPY_MODEL_3b3773460343462bbaeb556c14223ce8",
        "IPY_MODEL_542752acf16f4ea78a279e84ffda9def",
        "IPY_MODEL_d0d6b2104bb746c48f1681b6e4bb0387",
        "IPY_MODEL_edd0a1ff1ff0441ba91741382b94b70e",
        "IPY_MODEL_241bf4171a654f469204beaa52188a9e",
        "IPY_MODEL_b367649f3601487ea70a2e7981eebdbb",
        "IPY_MODEL_2834b35dec8f42d78f675ce836c32291",
        "IPY_MODEL_54998878388a46dfb739b0883fcd678d",
        "IPY_MODEL_1a9e69a1d58448d0ac0817f4e137f000",
        "IPY_MODEL_cf18fc205ef74acba077bb123cf8253f",
        "IPY_MODEL_8c2da8e3e3ea461c8eabc3c5b8537da8",
        "IPY_MODEL_bc8bcd3c47e04523a569ec619b257604",
        "IPY_MODEL_f899bedd768446b29214336caf9d1be7",
        "IPY_MODEL_a36453cc40d74d29906edc2fcdc1f260",
        "IPY_MODEL_6fcd27f3fa55410eafdcb267df5c835b",
        "IPY_MODEL_c78198f548654eed9bcd21516715bd60",
        "IPY_MODEL_d81268a82ebf4d41bcb0693b0f6b79f6",
        "IPY_MODEL_4d9952b6fc14457eab04b8d83dd3cd2b",
        "IPY_MODEL_b332c645fa15425eb6a5364f99172ba0",
        "IPY_MODEL_ad85406b92554374b78794685c498371",
        "IPY_MODEL_40f3b5421ef843ce8cd275a292062f24",
        "IPY_MODEL_dd897b3c0800443f8a69aff01ac646c8",
        "IPY_MODEL_a27730dc8df44b9ba07dd6fe6ddd1f02",
        "IPY_MODEL_8fb7e6ea9d4644b3a8bf9297a3283a35",
        "IPY_MODEL_343aecff64454aa1ab7444da044e80f4",
        "IPY_MODEL_1bcb5fb46d284d12a3eafff5aba5be3b",
        "IPY_MODEL_3a3ed4cbab6b4f08921478649f4359f2",
        "IPY_MODEL_e7abfe45a0d6438ea79ab777914cc03b",
        "IPY_MODEL_47784c9eb1f74e8cbd978d99f5943342",
        "IPY_MODEL_725962dbc40c4707863a1b7d3f8368ca",
        "IPY_MODEL_2da0d076f1aa41a7b8af32275fe3c428",
        "IPY_MODEL_7796ead8156e46feaa267b4fd6e75e33",
        "IPY_MODEL_173136e7e8534d099fef669e4cfec2a2",
        "IPY_MODEL_9d0409d35055495fb4851ea8334ded7e",
        "IPY_MODEL_58f90a94f88d4ed4b31ac25a6d96c5cd",
        "IPY_MODEL_8efc837ee295467f9454cd8cf4b73061",
        "IPY_MODEL_1da0b2cf30e4444ea3391d92c9f7292a",
        "IPY_MODEL_222302300ec34aca9df69737ca741f28",
        "IPY_MODEL_3fe2fef875064d8e99129959b3458cc9",
        "IPY_MODEL_e253cb1b6251456c8132e0ebe14f4e82",
        "IPY_MODEL_280e9368ada741a39ef412c52d6f1838",
        "IPY_MODEL_76cc374b5ea641cdabc515f629a70d8b",
        "IPY_MODEL_00c3e9b137f0437ab2ba012345878ab6",
        "IPY_MODEL_9e7a0ad7adf940faa64f8f1a68b2661b"
       ],
       "layout": "IPY_MODEL_025b1293288a45cfaba65159ae2f76d1"
      }
     },
     "dcf71363edb345b59b18e044272a7c56": {
      "model_module": "@jupyter-widgets/controls",
      "model_module_version": "2.0.0",
      "model_name": "FloatTextModel",
      "state": {
       "description": "Bross F",
       "layout": "IPY_MODEL_f5e0cf79619e4922a17bf2e72bfb5bb7",
       "step": null,
       "style": "IPY_MODEL_c45242cad49c47e9ab02c97e1f08cb12"
      }
     },
     "dd5f981b4c4b484f848a05b35f38515f": {
      "model_module": "@jupyter-widgets/controls",
      "model_module_version": "2.0.0",
      "model_name": "FloatTextModel",
      "state": {
       "description": "Slope",
       "layout": "IPY_MODEL_0e4018cbfe8c42808005ab8c9943e35c",
       "step": null,
       "style": "IPY_MODEL_858aa6774ef54e15bcbc3519848a83fc"
      }
     },
     "dd897b3c0800443f8a69aff01ac646c8": {
      "model_module": "@jupyter-widgets/controls",
      "model_module_version": "2.0.0",
      "model_name": "FloatTextModel",
      "state": {
       "description": "TypicQuepts",
       "layout": "IPY_MODEL_99ec130b06b6481689d56202881be7a8",
       "step": null,
       "style": "IPY_MODEL_6917b4d312f5472f9e258126b3634c87"
      }
     },
     "dde28677f1884d8b94f397810302d5bc": {
      "model_module": "@jupyter-widgets/controls",
      "model_module_version": "2.0.0",
      "model_name": "FloatTextModel",
      "state": {
       "description": "HillSh9a",
       "layout": "IPY_MODEL_ac7c48c9fa69410c905f5203bca1d163",
       "step": null,
       "style": "IPY_MODEL_2695744bddba4beaba4ba483a7a9e374"
      }
     },
     "de9fda8b835144e79dc16267d161df3d": {
      "model_module": "@jupyter-widgets/controls",
      "model_module_version": "2.0.0",
      "model_name": "FloatTextModel",
      "state": {
       "description": "Leighcan F2",
       "layout": "IPY_MODEL_489d6f82f79e42dba7e97646686f92d2",
       "step": null,
       "style": "IPY_MODEL_3d8691046aa948aca0085a0c75d6a4d6"
      }
     },
     "e0051ec561c947e5ba392994fbc05974": {
      "model_module": "@jupyter-widgets/controls",
      "model_module_version": "2.0.0",
      "model_name": "DescriptionStyleModel",
      "state": {
       "description_width": ""
      }
     },
     "e0bc8d45e39b4430acde9acb4b56ec4d": {
      "model_module": "@jupyter-widgets/controls",
      "model_module_version": "2.0.0",
      "model_name": "FloatTextModel",
      "state": {
       "description": "Como F",
       "layout": "IPY_MODEL_5ec3ddd542734f5f87981b997b4a068d",
       "step": null,
       "style": "IPY_MODEL_7a7953f3459341ad9c241cf3a0c3cc1c"
      }
     },
     "e0d1ed15fc64432aa4dad1d3e1483b62": {
      "model_module": "@jupyter-widgets/controls",
      "model_module_version": "2.0.0",
      "model_name": "FloatTextModel",
      "state": {
       "description": "Comanche",
       "layout": "IPY_MODEL_8e2f5954943a4803a407228fc530a1fc",
       "step": null,
       "style": "IPY_MODEL_2c92aeb9632345e897bcfb0f5f6ca3b3"
      }
     },
     "e0e2b5939186438a94c6bce1202c8251": {
      "model_module": "@jupyter-widgets/base",
      "model_module_version": "2.0.0",
      "model_name": "LayoutModel",
      "state": {}
     },
     "e107ab52a35c43cf965ddbc424d2fd08": {
      "model_module": "@jupyter-widgets/controls",
      "model_module_version": "2.0.0",
      "model_name": "DescriptionStyleModel",
      "state": {
       "description_width": ""
      }
     },
     "e129f700c8e2408f9e7ddad58479f410": {
      "model_module": "@jupyter-widgets/controls",
      "model_module_version": "2.0.0",
      "model_name": "DescriptionStyleModel",
      "state": {
       "description_width": ""
      }
     },
     "e17bd56d6cde4df582656b5370233e20": {
      "model_module": "@jupyter-widgets/base",
      "model_module_version": "2.0.0",
      "model_name": "LayoutModel",
      "state": {}
     },
     "e18061ab135d4e0bba6fcfa14bb275da": {
      "model_module": "@jupyter-widgets/controls",
      "model_module_version": "2.0.0",
      "model_name": "DescriptionStyleModel",
      "state": {
       "description_width": ""
      }
     },
     "e24709e6510b4ff790af8badc3053950": {
      "model_module": "@jupyter-widgets/base",
      "model_module_version": "2.0.0",
      "model_name": "LayoutModel",
      "state": {
       "width": "auto"
      }
     },
     "e253cb1b6251456c8132e0ebe14f4e82": {
      "model_module": "@jupyter-widgets/controls",
      "model_module_version": "2.0.0",
      "model_name": "FloatTextModel",
      "state": {
       "description": "Leighcan F8",
       "layout": "IPY_MODEL_7ddd4187dfd04df8b0010a98b6aaa670",
       "step": null,
       "style": "IPY_MODEL_6054530d41804b38bfcb9b0cd57df453"
      }
     },
     "e2bc1bc3dd6349a988b7d4936eb65de4": {
      "model_module": "@jupyter-widgets/base",
      "model_module_version": "2.0.0",
      "model_name": "LayoutModel",
      "state": {}
     },
     "e3040acf9c5e439da333ae261d050b4c": {
      "model_module": "@jupyter-widgets/base",
      "model_module_version": "2.0.0",
      "model_name": "LayoutModel",
      "state": {}
     },
     "e35fb571262d4c8782ec057c190ff338": {
      "model_module": "@jupyter-widgets/controls",
      "model_module_version": "2.0.0",
      "model_name": "DescriptionStyleModel",
      "state": {
       "description_width": ""
      }
     },
     "e4e192613cbd401e88236af98815525f": {
      "model_module": "@jupyter-widgets/controls",
      "model_module_version": "2.0.0",
      "model_name": "ButtonStyleModel",
      "state": {
       "font_family": null,
       "font_size": null,
       "font_style": null,
       "font_variant": null,
       "font_weight": null,
       "text_color": null,
       "text_decoration": null
      }
     },
     "e56e9745c63f4fff8d80117400acfe6f": {
      "model_module": "@jupyter-widgets/base",
      "model_module_version": "2.0.0",
      "model_name": "LayoutModel",
      "state": {}
     },
     "e57abe93426542c88561b6c792b71917": {
      "model_module": "@jupyter-widgets/base",
      "model_module_version": "2.0.0",
      "model_name": "LayoutModel",
      "state": {}
     },
     "e59d872bd69d41f289dbd6e801e82413": {
      "model_module": "@jupyter-widgets/controls",
      "model_module_version": "2.0.0",
      "model_name": "FloatTextModel",
      "state": {
       "description": "Cryumbrepts",
       "layout": "IPY_MODEL_21b13b06345d4ac380cb35e246de570c",
       "step": null,
       "style": "IPY_MODEL_847f760e96654ceaa0520325ee89dcca"
      }
     },
     "e627df8d1caf4dd5831a44f8471be106": {
      "model_module": "@jupyter-widgets/controls",
      "model_module_version": "2.0.0",
      "model_name": "FloatTextModel",
      "state": {
       "description": "HillSh3p",
       "layout": "IPY_MODEL_bed07d7b39864acca18ff6167b86e0a6",
       "step": null,
       "style": "IPY_MODEL_d56804d7e1414d298e423cb141765385"
      }
     },
     "e64cc4efa7b4449691f0a57f6b171334": {
      "model_module": "@jupyter-widgets/base",
      "model_module_version": "2.0.0",
      "model_name": "LayoutModel",
      "state": {}
     },
     "e6f87a34324d4619860b4b756e08ccd5": {
      "model_module": "@jupyter-widgets/base",
      "model_module_version": "2.0.0",
      "model_name": "LayoutModel",
      "state": {}
     },
     "e74141c5784e40cc94d90237a06a3e6a": {
      "model_module": "@jupyter-widgets/controls",
      "model_module_version": "2.0.0",
      "model_name": "DescriptionStyleModel",
      "state": {
       "description_width": ""
      }
     },
     "e7677d883c4746328a184c11763f84ee": {
      "model_module": "@jupyter-widgets/base",
      "model_module_version": "2.0.0",
      "model_name": "LayoutModel",
      "state": {}
     },
     "e7abfe45a0d6438ea79ab777914cc03b": {
      "model_module": "@jupyter-widgets/controls",
      "model_module_version": "2.0.0",
      "model_name": "FloatTextModel",
      "state": {
       "description": "Granile",
       "layout": "IPY_MODEL_ac1371795ff044e28f3d6ecce8afe588",
       "step": null,
       "style": "IPY_MODEL_258575cc2cbe4decb43ec04e89ba53aa"
      }
     },
     "e80d9ce9911547b9b81e058d7f567181": {
      "model_module": "@jupyter-widgets/controls",
      "model_module_version": "2.0.0",
      "model_name": "DescriptionStyleModel",
      "state": {
       "description_width": ""
      }
     },
     "e8461db8dffc49688c7157edc13c0fab": {
      "model_module": "@jupyter-widgets/base",
      "model_module_version": "2.0.0",
      "model_name": "LayoutModel",
      "state": {}
     },
     "e8ba9904b123420699e02c33338c862a": {
      "model_module": "@jupyter-widgets/base",
      "model_module_version": "2.0.0",
      "model_name": "LayoutModel",
      "state": {}
     },
     "e8c8d929af6a4f20b93ae604809eb408": {
      "model_module": "@jupyter-widgets/base",
      "model_module_version": "2.0.0",
      "model_name": "LayoutModel",
      "state": {}
     },
     "e98f85086fc94ff08aa8415cc9338dd9": {
      "model_module": "@jupyter-widgets/controls",
      "model_module_version": "2.0.0",
      "model_name": "FloatTextModel",
      "state": {
       "description": "Granile",
       "layout": "IPY_MODEL_b783196f5a48434691d0fb06e6d5e889",
       "step": null,
       "style": "IPY_MODEL_433e59ca60c347d19603c983bc8b23e8"
      }
     },
     "e9f9a0b07aee46ae80e4c9ab1b7aecba": {
      "model_module": "@jupyter-widgets/controls",
      "model_module_version": "2.0.0",
      "model_name": "FloatTextModel",
      "state": {
       "description": "Cathedral",
       "layout": "IPY_MODEL_baa585bc08154480a12907020448ff6d",
       "step": null,
       "style": "IPY_MODEL_e18061ab135d4e0bba6fcfa14bb275da"
      }
     },
     "e9fdff76a9284dd39259bcabba408f35": {
      "model_module": "@jupyter-widgets/controls",
      "model_module_version": "2.0.0",
      "model_name": "FloatTextModel",
      "state": {
       "description": "Moran F2",
       "layout": "IPY_MODEL_f32dc76534904afc8d77788a6aa96cbf",
       "step": null,
       "style": "IPY_MODEL_68bc8618d35f4390b6ba0c32440076a7"
      }
     },
     "ea15ce60ec544da093a8cc674510edc2": {
      "model_module": "@jupyter-widgets/base",
      "model_module_version": "2.0.0",
      "model_name": "LayoutModel",
      "state": {}
     },
     "ea34fcc46f6844d6ba7e09afccef39a1": {
      "model_module": "@jupyter-widgets/base",
      "model_module_version": "2.0.0",
      "model_name": "LayoutModel",
      "state": {}
     },
     "ea75bcd8da3b4f50b0995fe1da322660": {
      "model_module": "@jupyter-widgets/base",
      "model_module_version": "2.0.0",
      "model_name": "LayoutModel",
      "state": {}
     },
     "eb17bca355424d699862f4cd767e2745": {
      "model_module": "@jupyter-widgets/base",
      "model_module_version": "2.0.0",
      "model_name": "LayoutModel",
      "state": {}
     },
     "ec148ea112344af1af30cffa2f2bacb5": {
      "model_module": "@jupyter-widgets/base",
      "model_module_version": "2.0.0",
      "model_name": "LayoutModel",
      "state": {}
     },
     "ec27340cc7364e8c9f31cc3f62dc4c08": {
      "model_module": "@jupyter-widgets/controls",
      "model_module_version": "2.0.0",
      "model_name": "ButtonStyleModel",
      "state": {
       "font_family": null,
       "font_size": null,
       "font_style": null,
       "font_variant": null,
       "font_weight": null,
       "text_color": null,
       "text_decoration": null
      }
     },
     "ec668e70329a4ba19c294dc8a9829abc": {
      "model_module": "@jupyter-widgets/controls",
      "model_module_version": "2.0.0",
      "model_name": "FloatTextModel",
      "state": {
       "description": "Hrz->Hydro",
       "layout": "IPY_MODEL_2d930589ec6848e5aa8921a284bddf97",
       "step": null,
       "style": "IPY_MODEL_f151c16070054f089eb46e3b127ed0ea"
      }
     },
     "ecb47bbf22a0472b9193a59783e41e61": {
      "model_module": "@jupyter-widgets/controls",
      "model_module_version": "2.0.0",
      "model_name": "ButtonModel",
      "state": {
       "description": "Calculate % Accuracy",
       "layout": "IPY_MODEL_e24709e6510b4ff790af8badc3053950",
       "style": "IPY_MODEL_7a5be79a52b34cae8a057168f2f64675",
       "tooltip": null
      }
     },
     "ecc969a8139641af839b71446745d0c3": {
      "model_module": "@jupyter-widgets/controls",
      "model_module_version": "2.0.0",
      "model_name": "LabelStyleModel",
      "state": {
       "description_width": "",
       "font_family": null,
       "font_size": null,
       "font_style": null,
       "font_variant": null,
       "font_weight": null,
       "text_color": null,
       "text_decoration": null
      }
     },
     "edc263dc2417458caa9d05908f719390": {
      "model_module": "@jupyter-widgets/base",
      "model_module_version": "2.0.0",
      "model_name": "LayoutModel",
      "state": {}
     },
     "edd0a1ff1ff0441ba91741382b94b70e": {
      "model_module": "@jupyter-widgets/controls",
      "model_module_version": "2.0.0",
      "model_name": "FloatTextModel",
      "state": {
       "description": "Vanet",
       "layout": "IPY_MODEL_0164e01e97e345a19c056a12f4ce4860",
       "step": null,
       "style": "IPY_MODEL_7ec5dfbdcbcf4fe9989cc279587f707b"
      }
     },
     "ee59044ad5024a9689c3efe8ee70590a": {
      "model_module": "@jupyter-widgets/controls",
      "model_module_version": "2.0.0",
      "model_name": "FloatTextModel",
      "state": {
       "description": "Bullwark L",
       "layout": "IPY_MODEL_2741c622dca44a86b0a8270421aed199",
       "step": null,
       "style": "IPY_MODEL_7de5a273cd2f45ce8e570c5242d964b6"
      }
     },
     "f09ed62679f547fd893b8deab58a3e75": {
      "model_module": "@jupyter-widgets/base",
      "model_module_version": "2.0.0",
      "model_name": "LayoutModel",
      "state": {}
     },
     "f0b658395d8a4528a0cfa482d4962f6f": {
      "model_module": "@jupyter-widgets/base",
      "model_module_version": "2.0.0",
      "model_name": "LayoutModel",
      "state": {}
     },
     "f0e5d9a1331940b79d0faa1d47bb3b80": {
      "model_module": "@jupyter-widgets/base",
      "model_module_version": "2.0.0",
      "model_name": "LayoutModel",
      "state": {}
     },
     "f151c16070054f089eb46e3b127ed0ea": {
      "model_module": "@jupyter-widgets/controls",
      "model_module_version": "2.0.0",
      "model_name": "DescriptionStyleModel",
      "state": {
       "description_width": ""
      }
     },
     "f25f3b14a4924de790623a3ed1212056": {
      "model_module": "@jupyter-widgets/base",
      "model_module_version": "2.0.0",
      "model_name": "LayoutModel",
      "state": {}
     },
     "f314d20c58b5435cb7a09f7c58a77294": {
      "model_module": "@jupyter-widgets/base",
      "model_module_version": "2.0.0",
      "model_name": "LayoutModel",
      "state": {}
     },
     "f32dc76534904afc8d77788a6aa96cbf": {
      "model_module": "@jupyter-widgets/base",
      "model_module_version": "2.0.0",
      "model_name": "LayoutModel",
      "state": {}
     },
     "f372e8e5782a45fba1feb3cb24ce8359": {
      "model_module": "@jupyter-widgets/controls",
      "model_module_version": "2.0.0",
      "model_name": "FloatTextModel",
      "state": {
       "description": "Catamount F",
       "layout": "IPY_MODEL_d6c640663f6b42e3b8c7344bb0f87caa",
       "step": null,
       "style": "IPY_MODEL_48b5da6a80034a39bccfae4eb753b67d"
      }
     },
     "f38e59b9edff4711b599acb2cabd0374": {
      "model_module": "@jupyter-widgets/controls",
      "model_module_version": "2.0.0",
      "model_name": "DescriptionStyleModel",
      "state": {
       "description_width": ""
      }
     },
     "f3d1bd453b7e4c4d831a2cd6cc13ed03": {
      "model_module": "@jupyter-widgets/base",
      "model_module_version": "2.0.0",
      "model_name": "LayoutModel",
      "state": {}
     },
     "f44696073fa646a8ad0d1f891e9a6ff3": {
      "model_module": "@jupyter-widgets/base",
      "model_module_version": "2.0.0",
      "model_name": "LayoutModel",
      "state": {}
     },
     "f511ade82def4c7fb5b14f56966bc09b": {
      "model_module": "@jupyter-widgets/controls",
      "model_module_version": "2.0.0",
      "model_name": "FloatTextModel",
      "state": {
       "description": "Ratake F",
       "layout": "IPY_MODEL_e8c8d929af6a4f20b93ae604809eb408",
       "step": null,
       "style": "IPY_MODEL_c15049c35ddc478580737186f3d13b34"
      }
     },
     "f53e13a5b0864f118bd8c6d728c9ea90": {
      "model_module": "@jupyter-widgets/base",
      "model_module_version": "2.0.0",
      "model_name": "LayoutModel",
      "state": {}
     },
     "f5e0cf79619e4922a17bf2e72bfb5bb7": {
      "model_module": "@jupyter-widgets/base",
      "model_module_version": "2.0.0",
      "model_name": "LayoutModel",
      "state": {}
     },
     "f69b8d31c78a4a058b5bfb457942b677": {
      "model_module": "@jupyter-widgets/base",
      "model_module_version": "2.0.0",
      "model_name": "LayoutModel",
      "state": {}
     },
     "f7579b6b46d44119b1f73b93058c81d3": {
      "model_module": "@jupyter-widgets/controls",
      "model_module_version": "2.0.0",
      "model_name": "DescriptionStyleModel",
      "state": {
       "description_width": ""
      }
     },
     "f79f67e4e24a430db7ad8900d1740213": {
      "model_module": "@jupyter-widgets/base",
      "model_module_version": "2.0.0",
      "model_name": "LayoutModel",
      "state": {}
     },
     "f7baf947188a429aacdc342fde841da8": {
      "model_module": "@jupyter-widgets/base",
      "model_module_version": "2.0.0",
      "model_name": "LayoutModel",
      "state": {}
     },
     "f7ea62cebc314c72801f1eb25ec31bd8": {
      "model_module": "@jupyter-widgets/controls",
      "model_module_version": "2.0.0",
      "model_name": "DescriptionStyleModel",
      "state": {
       "description_width": ""
      }
     },
     "f86e52a97174460c97b63cc51119597f": {
      "model_module": "@jupyter-widgets/base",
      "model_module_version": "2.0.0",
      "model_name": "LayoutModel",
      "state": {}
     },
     "f899bedd768446b29214336caf9d1be7": {
      "model_module": "@jupyter-widgets/controls",
      "model_module_version": "2.0.0",
      "model_name": "FloatTextModel",
      "state": {
       "description": "Bullwark L",
       "layout": "IPY_MODEL_da54d72f88fb49b399e49910cf9ce1fd",
       "step": null,
       "style": "IPY_MODEL_d6ca7be5694140fba780cd2ab108f4eb"
      }
     },
     "fa49e0174b764e4e9f1f011b7d0d4acf": {
      "model_module": "@jupyter-widgets/base",
      "model_module_version": "2.0.0",
      "model_name": "LayoutModel",
      "state": {}
     },
     "faa6f13fffb940aa99dbfbf2610037c1": {
      "model_module": "@jupyter-widgets/base",
      "model_module_version": "2.0.0",
      "model_name": "LayoutModel",
      "state": {}
     },
     "fad2752093e5463eba5dadfaebb6ea53": {
      "model_module": "@jupyter-widgets/controls",
      "model_module_version": "2.0.0",
      "model_name": "DescriptionStyleModel",
      "state": {
       "description_width": ""
      }
     },
     "fb19946c706e4ded8c38175612ff926a": {
      "model_module": "@jupyter-widgets/controls",
      "model_module_version": "2.0.0",
      "model_name": "FloatTextModel",
      "state": {
       "description": "Hrz->Hydro",
       "layout": "IPY_MODEL_2c14b37848c847248fc33a99d67ef6bb",
       "step": null,
       "style": "IPY_MODEL_dc02370978be4dca9ff8aa13e1830e94"
      }
     },
     "fc227af88cc347e3be1ba72d9b4fabeb": {
      "model_module": "@jupyter-widgets/base",
      "model_module_version": "2.0.0",
      "model_name": "LayoutModel",
      "state": {}
     },
     "fc6e9c880fba4a2aaa17cc9fecf54f3b": {
      "model_module": "@jupyter-widgets/controls",
      "model_module_version": "2.0.0",
      "model_name": "DescriptionStyleModel",
      "state": {
       "description_width": ""
      }
     },
     "fc96935c8a364738bdbda324e506eee5": {
      "model_module": "@jupyter-widgets/controls",
      "model_module_version": "2.0.0",
      "model_name": "DescriptionStyleModel",
      "state": {
       "description_width": ""
      }
     },
     "fc9731fbc39042cc901b19af863bee99": {
      "model_module": "@jupyter-widgets/controls",
      "model_module_version": "2.0.0",
      "model_name": "FloatTextModel",
      "state": {
       "description": "Cache P",
       "layout": "IPY_MODEL_faa6f13fffb940aa99dbfbf2610037c1",
       "step": null,
       "style": "IPY_MODEL_e35fb571262d4c8782ec057c190ff338"
      }
     },
     "fca7ccc2d3fc4245ad37c84e9e2cc8ab": {
      "model_module": "@jupyter-widgets/controls",
      "model_module_version": "2.0.0",
      "model_name": "DescriptionStyleModel",
      "state": {
       "description_width": ""
      }
     },
     "fd86521b91254df39d98936eba7ea39f": {
      "model_module": "@jupyter-widgets/controls",
      "model_module_version": "2.0.0",
      "model_name": "DescriptionStyleModel",
      "state": {
       "description_width": ""
      }
     },
     "fe08c0be0df649a4bd33618466fc5ef2": {
      "model_module": "@jupyter-widgets/base",
      "model_module_version": "2.0.0",
      "model_name": "LayoutModel",
      "state": {}
     },
     "fed83e6f4b1148828379077a4a55c732": {
      "model_module": "@jupyter-widgets/controls",
      "model_module_version": "2.0.0",
      "model_name": "VBoxModel",
      "state": {
       "children": [
        "IPY_MODEL_3e4c1f3fb64e4d2eb91f3b002b2180bd",
        "IPY_MODEL_a9aed4f9ce9748b6be1f50a88fdb47f9"
       ],
       "layout": "IPY_MODEL_c8f2483014ff46a799cb487c31add470"
      }
     },
     "ff1f1f41c5b74dd78b5c6fa01587e468": {
      "model_module": "@jupyter-widgets/controls",
      "model_module_version": "2.0.0",
      "model_name": "ButtonStyleModel",
      "state": {
       "font_family": null,
       "font_size": null,
       "font_style": null,
       "font_variant": null,
       "font_weight": null,
       "text_color": null,
       "text_decoration": null
      }
     }
    },
    "version_major": 2,
    "version_minor": 0
   }
  }
 },
 "nbformat": 4,
 "nbformat_minor": 5
}
